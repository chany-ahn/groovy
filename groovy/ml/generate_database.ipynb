{
 "cells": [
  {
   "cell_type": "markdown",
   "metadata": {},
   "source": [
    "## Generate database of steady state images"
   ]
  },
  {
   "cell_type": "code",
   "execution_count": 7,
   "metadata": {},
   "outputs": [],
   "source": [
    "import os\n",
    "import pickle\n",
    "from itertools import product\n",
    "from contextlib import suppress\n",
    "import sys; sys.path.insert(0, \"../..\")\n",
    "\n",
    "import numpy as np\n",
    "from tqdm.auto import tqdm\n",
    "\n",
    "import groovy.pde"
   ]
  },
  {
   "cell_type": "code",
   "execution_count": 8,
   "metadata": {},
   "outputs": [],
   "source": [
    "# Create directory to store all the data\n",
    "folder = 'database'\n",
    "with suppress(FileExistsError):\n",
    "    os.mkdir(folder)"
   ]
  },
  {
   "cell_type": "code",
   "execution_count": 9,
   "metadata": {},
   "outputs": [],
   "source": [
    "# Create a parameter grid\n",
    "size = 1\n",
    "ru_grid = np.linspace(0, 1, size)\n",
    "rv_grid = np.linspace(0, 1, size)\n",
    "f_grid  = np.linspace(0.01, 0.1, size)\n",
    "k_grid  = np.linspace(0.045, 0.07, size)"
   ]
  },
  {
   "cell_type": "code",
   "execution_count": 10,
   "metadata": {},
   "outputs": [
    {
     "data": {
      "application/vnd.jupyter.widget-view+json": {
       "model_id": "4fc01b782e4a45f3a8354a3b24173039",
       "version_major": 2,
       "version_minor": 0
      },
      "text/plain": [
       "HBox(children=(FloatProgress(value=0.0, description='Params', max=1.0, style=ProgressStyle(description_width='…"
      ]
     },
     "metadata": {},
     "output_type": "display_data"
    },
    {
     "data": {
      "application/vnd.jupyter.widget-view+json": {
       "model_id": "",
       "version_major": 2,
       "version_minor": 0
      },
      "text/plain": [
       "HBox(children=(FloatProgress(value=0.0, description='Time steps', max=19999.0, style=ProgressStyle(description…"
      ]
     },
     "metadata": {},
     "output_type": "display_data"
    },
    {
     "name": "stdout",
     "output_type": "stream",
     "text": [
      "\n"
     ]
    }
   ],
   "source": [
    "# Run all the simulations\n",
    "frame_t0 = groovy.pde.initialframe((100, 100), conctype='clump')\n",
    "\n",
    "for i, (ru, rv, f, k) in enumerate(tqdm(product(ru_grid, rv_grid, f_grid, k_grid),\n",
    "                                        desc='Params', leave=True, total=size**4)):\n",
    "    time_array = groovy.pde.evolve(frame_t0, ru, rv, f, k, boundary='wrap')\n",
    "    final_frame = time_array[:,:,-1,:]\n",
    "\n",
    "    # Pickle the results\n",
    "    with open(f\"{folder}/{ru}_{rv}_{f}_{k}.pkl\", 'wb') as f:\n",
    "        pickle.dump(final_frame, f)"
   ]
  },
  {
   "cell_type": "code",
   "execution_count": 6,
   "metadata": {},
   "outputs": [
    {
     "name": "stdout",
     "output_type": "stream",
     "text": [
      "Expected number of files: 81\n",
      "Actual number of files: 81\n"
     ]
    }
   ],
   "source": [
    "print('Expected number of files:', size**4)\n",
    "print('Actual number of files:', len(os.listdir(folder)))"
   ]
  },
  {
   "cell_type": "code",
   "execution_count": null,
   "metadata": {},
   "outputs": [],
   "source": []
  }
 ],
 "metadata": {
  "kernelspec": {
   "display_name": "Python 3",
   "language": "python",
   "name": "python3"
  },
  "language_info": {
   "codemirror_mode": {
    "name": "ipython",
    "version": 3
   },
   "file_extension": ".py",
   "mimetype": "text/x-python",
   "name": "python",
   "nbconvert_exporter": "python",
   "pygments_lexer": "ipython3",
   "version": "3.7.7"
  }
 },
 "nbformat": 4,
 "nbformat_minor": 4
}
