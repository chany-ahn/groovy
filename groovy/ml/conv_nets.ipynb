{
 "cells": [
  {
   "cell_type": "code",
   "execution_count": 1,
   "metadata": {},
   "outputs": [],
   "source": [
    "import numpy as np\n",
    "from tqdm.auto import tqdm\n",
    "import matplotlib.pyplot as plt\n",
    "import torch\n",
    "from torch import nn, optim\n",
    "from torch.utils.data import DataLoader, Dataset\n",
    "from sklearn.model_selection import train_test_split\n",
    "%matplotlib notebook"
   ]
  },
  {
   "cell_type": "code",
   "execution_count": 2,
   "metadata": {},
   "outputs": [
    {
     "name": "stdout",
     "output_type": "stream",
     "text": [
      "Device: cuda\n"
     ]
    }
   ],
   "source": [
    "# Select CPU/GPU\n",
    "device = torch.device('cuda') if torch.cuda.is_available() else torch.device('cpu')\n",
    "print('Device:', device)"
   ]
  },
  {
   "cell_type": "code",
   "execution_count": 3,
   "metadata": {},
   "outputs": [],
   "source": [
    "# Generate a fake data set\n",
    "input_dim = 100\n",
    "targets = [np.asarray([mean, stdev]) for mean in np.linspace(-49, 50, 100) for stdev in np.linspace(1, 100, 100)]\n",
    "images = [np.random.normal(mean, stdev, size=(1, input_dim, input_dim)) for mean, stdev in targets]"
   ]
  },
  {
   "cell_type": "code",
   "execution_count": 4,
   "metadata": {},
   "outputs": [],
   "source": [
    "class MyDataset(Dataset):\n",
    "\n",
    "    def __init__(self, X, Y):\n",
    "        super().__init__()\n",
    "        self.X = X\n",
    "        self.Y = Y\n",
    "\n",
    "    def __getitem__(self, idx):\n",
    "        return torch.from_numpy(self.X[idx]), torch.from_numpy(self.Y[idx])\n",
    "\n",
    "    def __len__(self):\n",
    "        return len(self.X)\n",
    "\n",
    "\n",
    "# Split the data into train, validation, test\n",
    "X_trv,   X_test, Y_trv,   Y_test = train_test_split(images, targets, train_size=0.8)\n",
    "X_train, X_val,  Y_train, Y_val  = train_test_split(images, targets, train_size=0.75)\n",
    "\n",
    "# Convert to Pytorch data loaders\n",
    "batch_size = 100\n",
    "training   = DataLoader(MyDataset(X_train, Y_train), batch_size=batch_size)\n",
    "validation = DataLoader(MyDataset(X_val,   Y_val),   batch_size=batch_size)\n",
    "test       = DataLoader(MyDataset(X_test,  Y_test),  batch_size=batch_size)"
   ]
  },
  {
   "cell_type": "code",
   "execution_count": 5,
   "metadata": {},
   "outputs": [],
   "source": [
    "# Define our CNN\n",
    "class CNN(nn.Module):\n",
    "\n",
    "    def __init__(self):\n",
    "        super().__init__()\n",
    "        self.layer1 = nn.Sequential(\n",
    "            nn.Conv2d(1, 16, kernel_size=5, padding=2),\n",
    "            nn.BatchNorm2d(16),\n",
    "            nn.ReLU(),\n",
    "            nn.MaxPool2d(2))\n",
    "        self.layer2 = nn.Sequential(\n",
    "            nn.Conv2d(16, 32, kernel_size=5, padding=2),\n",
    "            nn.BatchNorm2d(32),\n",
    "            nn.ReLU(),\n",
    "            nn.MaxPool2d(2))\n",
    "        self.fc = nn.Linear(input_dim*input_dim*2, 2)\n",
    "\n",
    "    def forward(self, x):\n",
    "        out = self.layer1(x)\n",
    "        out = self.layer2(out)\n",
    "        out = out.view(out.size(0), -1)\n",
    "        out = self.fc(out)\n",
    "        return out"
   ]
  },
  {
   "cell_type": "code",
   "execution_count": 6,
   "metadata": {},
   "outputs": [
    {
     "data": {
      "application/vnd.jupyter.widget-view+json": {
       "model_id": "c6667ed09fb44f1fbd7c91f087181202",
       "version_major": 2,
       "version_minor": 0
      },
      "text/plain": [
       "HBox(children=(FloatProgress(value=0.0, description='Epochs', max=50.0, style=ProgressStyle(description_width=…"
      ]
     },
     "metadata": {},
     "output_type": "display_data"
    },
    {
     "data": {
      "application/vnd.jupyter.widget-view+json": {
       "model_id": "",
       "version_major": 2,
       "version_minor": 0
      },
      "text/plain": [
       "HBox(children=(FloatProgress(value=0.0, description='Train batches', max=75.0, style=ProgressStyle(description…"
      ]
     },
     "metadata": {},
     "output_type": "display_data"
    },
    {
     "data": {
      "application/vnd.jupyter.widget-view+json": {
       "model_id": "",
       "version_major": 2,
       "version_minor": 0
      },
      "text/plain": [
       "HBox(children=(FloatProgress(value=0.0, description='Validation batches', max=25.0, style=ProgressStyle(descri…"
      ]
     },
     "metadata": {},
     "output_type": "display_data"
    },
    {
     "data": {
      "application/vnd.jupyter.widget-view+json": {
       "model_id": "",
       "version_major": 2,
       "version_minor": 0
      },
      "text/plain": [
       "HBox(children=(FloatProgress(value=0.0, description='Train batches', max=75.0, style=ProgressStyle(description…"
      ]
     },
     "metadata": {},
     "output_type": "display_data"
    },
    {
     "data": {
      "application/vnd.jupyter.widget-view+json": {
       "model_id": "",
       "version_major": 2,
       "version_minor": 0
      },
      "text/plain": [
       "HBox(children=(FloatProgress(value=0.0, description='Validation batches', max=25.0, style=ProgressStyle(descri…"
      ]
     },
     "metadata": {},
     "output_type": "display_data"
    },
    {
     "data": {
      "application/vnd.jupyter.widget-view+json": {
       "model_id": "",
       "version_major": 2,
       "version_minor": 0
      },
      "text/plain": [
       "HBox(children=(FloatProgress(value=0.0, description='Train batches', max=75.0, style=ProgressStyle(description…"
      ]
     },
     "metadata": {},
     "output_type": "display_data"
    },
    {
     "data": {
      "application/vnd.jupyter.widget-view+json": {
       "model_id": "",
       "version_major": 2,
       "version_minor": 0
      },
      "text/plain": [
       "HBox(children=(FloatProgress(value=0.0, description='Validation batches', max=25.0, style=ProgressStyle(descri…"
      ]
     },
     "metadata": {},
     "output_type": "display_data"
    },
    {
     "data": {
      "application/vnd.jupyter.widget-view+json": {
       "model_id": "",
       "version_major": 2,
       "version_minor": 0
      },
      "text/plain": [
       "HBox(children=(FloatProgress(value=0.0, description='Train batches', max=75.0, style=ProgressStyle(description…"
      ]
     },
     "metadata": {},
     "output_type": "display_data"
    },
    {
     "data": {
      "application/vnd.jupyter.widget-view+json": {
       "model_id": "",
       "version_major": 2,
       "version_minor": 0
      },
      "text/plain": [
       "HBox(children=(FloatProgress(value=0.0, description='Validation batches', max=25.0, style=ProgressStyle(descri…"
      ]
     },
     "metadata": {},
     "output_type": "display_data"
    },
    {
     "data": {
      "application/vnd.jupyter.widget-view+json": {
       "model_id": "",
       "version_major": 2,
       "version_minor": 0
      },
      "text/plain": [
       "HBox(children=(FloatProgress(value=0.0, description='Train batches', max=75.0, style=ProgressStyle(description…"
      ]
     },
     "metadata": {},
     "output_type": "display_data"
    },
    {
     "data": {
      "application/vnd.jupyter.widget-view+json": {
       "model_id": "",
       "version_major": 2,
       "version_minor": 0
      },
      "text/plain": [
       "HBox(children=(FloatProgress(value=0.0, description='Validation batches', max=25.0, style=ProgressStyle(descri…"
      ]
     },
     "metadata": {},
     "output_type": "display_data"
    },
    {
     "data": {
      "application/vnd.jupyter.widget-view+json": {
       "model_id": "",
       "version_major": 2,
       "version_minor": 0
      },
      "text/plain": [
       "HBox(children=(FloatProgress(value=0.0, description='Train batches', max=75.0, style=ProgressStyle(description…"
      ]
     },
     "metadata": {},
     "output_type": "display_data"
    },
    {
     "data": {
      "application/vnd.jupyter.widget-view+json": {
       "model_id": "",
       "version_major": 2,
       "version_minor": 0
      },
      "text/plain": [
       "HBox(children=(FloatProgress(value=0.0, description='Validation batches', max=25.0, style=ProgressStyle(descri…"
      ]
     },
     "metadata": {},
     "output_type": "display_data"
    },
    {
     "data": {
      "application/vnd.jupyter.widget-view+json": {
       "model_id": "",
       "version_major": 2,
       "version_minor": 0
      },
      "text/plain": [
       "HBox(children=(FloatProgress(value=0.0, description='Train batches', max=75.0, style=ProgressStyle(description…"
      ]
     },
     "metadata": {},
     "output_type": "display_data"
    },
    {
     "data": {
      "application/vnd.jupyter.widget-view+json": {
       "model_id": "",
       "version_major": 2,
       "version_minor": 0
      },
      "text/plain": [
       "HBox(children=(FloatProgress(value=0.0, description='Validation batches', max=25.0, style=ProgressStyle(descri…"
      ]
     },
     "metadata": {},
     "output_type": "display_data"
    },
    {
     "data": {
      "application/vnd.jupyter.widget-view+json": {
       "model_id": "",
       "version_major": 2,
       "version_minor": 0
      },
      "text/plain": [
       "HBox(children=(FloatProgress(value=0.0, description='Train batches', max=75.0, style=ProgressStyle(description…"
      ]
     },
     "metadata": {},
     "output_type": "display_data"
    },
    {
     "data": {
      "application/vnd.jupyter.widget-view+json": {
       "model_id": "",
       "version_major": 2,
       "version_minor": 0
      },
      "text/plain": [
       "HBox(children=(FloatProgress(value=0.0, description='Validation batches', max=25.0, style=ProgressStyle(descri…"
      ]
     },
     "metadata": {},
     "output_type": "display_data"
    },
    {
     "data": {
      "application/vnd.jupyter.widget-view+json": {
       "model_id": "",
       "version_major": 2,
       "version_minor": 0
      },
      "text/plain": [
       "HBox(children=(FloatProgress(value=0.0, description='Train batches', max=75.0, style=ProgressStyle(description…"
      ]
     },
     "metadata": {},
     "output_type": "display_data"
    },
    {
     "data": {
      "application/vnd.jupyter.widget-view+json": {
       "model_id": "",
       "version_major": 2,
       "version_minor": 0
      },
      "text/plain": [
       "HBox(children=(FloatProgress(value=0.0, description='Validation batches', max=25.0, style=ProgressStyle(descri…"
      ]
     },
     "metadata": {},
     "output_type": "display_data"
    },
    {
     "data": {
      "application/vnd.jupyter.widget-view+json": {
       "model_id": "",
       "version_major": 2,
       "version_minor": 0
      },
      "text/plain": [
       "HBox(children=(FloatProgress(value=0.0, description='Train batches', max=75.0, style=ProgressStyle(description…"
      ]
     },
     "metadata": {},
     "output_type": "display_data"
    },
    {
     "data": {
      "application/vnd.jupyter.widget-view+json": {
       "model_id": "",
       "version_major": 2,
       "version_minor": 0
      },
      "text/plain": [
       "HBox(children=(FloatProgress(value=0.0, description='Validation batches', max=25.0, style=ProgressStyle(descri…"
      ]
     },
     "metadata": {},
     "output_type": "display_data"
    },
    {
     "data": {
      "application/vnd.jupyter.widget-view+json": {
       "model_id": "",
       "version_major": 2,
       "version_minor": 0
      },
      "text/plain": [
       "HBox(children=(FloatProgress(value=0.0, description='Train batches', max=75.0, style=ProgressStyle(description…"
      ]
     },
     "metadata": {},
     "output_type": "display_data"
    },
    {
     "data": {
      "application/vnd.jupyter.widget-view+json": {
       "model_id": "",
       "version_major": 2,
       "version_minor": 0
      },
      "text/plain": [
       "HBox(children=(FloatProgress(value=0.0, description='Validation batches', max=25.0, style=ProgressStyle(descri…"
      ]
     },
     "metadata": {},
     "output_type": "display_data"
    },
    {
     "data": {
      "application/vnd.jupyter.widget-view+json": {
       "model_id": "",
       "version_major": 2,
       "version_minor": 0
      },
      "text/plain": [
       "HBox(children=(FloatProgress(value=0.0, description='Train batches', max=75.0, style=ProgressStyle(description…"
      ]
     },
     "metadata": {},
     "output_type": "display_data"
    },
    {
     "data": {
      "application/vnd.jupyter.widget-view+json": {
       "model_id": "",
       "version_major": 2,
       "version_minor": 0
      },
      "text/plain": [
       "HBox(children=(FloatProgress(value=0.0, description='Validation batches', max=25.0, style=ProgressStyle(descri…"
      ]
     },
     "metadata": {},
     "output_type": "display_data"
    },
    {
     "data": {
      "application/vnd.jupyter.widget-view+json": {
       "model_id": "",
       "version_major": 2,
       "version_minor": 0
      },
      "text/plain": [
       "HBox(children=(FloatProgress(value=0.0, description='Train batches', max=75.0, style=ProgressStyle(description…"
      ]
     },
     "metadata": {},
     "output_type": "display_data"
    },
    {
     "data": {
      "application/vnd.jupyter.widget-view+json": {
       "model_id": "",
       "version_major": 2,
       "version_minor": 0
      },
      "text/plain": [
       "HBox(children=(FloatProgress(value=0.0, description='Validation batches', max=25.0, style=ProgressStyle(descri…"
      ]
     },
     "metadata": {},
     "output_type": "display_data"
    },
    {
     "data": {
      "application/vnd.jupyter.widget-view+json": {
       "model_id": "",
       "version_major": 2,
       "version_minor": 0
      },
      "text/plain": [
       "HBox(children=(FloatProgress(value=0.0, description='Train batches', max=75.0, style=ProgressStyle(description…"
      ]
     },
     "metadata": {},
     "output_type": "display_data"
    },
    {
     "data": {
      "application/vnd.jupyter.widget-view+json": {
       "model_id": "",
       "version_major": 2,
       "version_minor": 0
      },
      "text/plain": [
       "HBox(children=(FloatProgress(value=0.0, description='Validation batches', max=25.0, style=ProgressStyle(descri…"
      ]
     },
     "metadata": {},
     "output_type": "display_data"
    },
    {
     "data": {
      "application/vnd.jupyter.widget-view+json": {
       "model_id": "",
       "version_major": 2,
       "version_minor": 0
      },
      "text/plain": [
       "HBox(children=(FloatProgress(value=0.0, description='Train batches', max=75.0, style=ProgressStyle(description…"
      ]
     },
     "metadata": {},
     "output_type": "display_data"
    },
    {
     "data": {
      "application/vnd.jupyter.widget-view+json": {
       "model_id": "",
       "version_major": 2,
       "version_minor": 0
      },
      "text/plain": [
       "HBox(children=(FloatProgress(value=0.0, description='Validation batches', max=25.0, style=ProgressStyle(descri…"
      ]
     },
     "metadata": {},
     "output_type": "display_data"
    },
    {
     "data": {
      "application/vnd.jupyter.widget-view+json": {
       "model_id": "",
       "version_major": 2,
       "version_minor": 0
      },
      "text/plain": [
       "HBox(children=(FloatProgress(value=0.0, description='Train batches', max=75.0, style=ProgressStyle(description…"
      ]
     },
     "metadata": {},
     "output_type": "display_data"
    },
    {
     "data": {
      "application/vnd.jupyter.widget-view+json": {
       "model_id": "",
       "version_major": 2,
       "version_minor": 0
      },
      "text/plain": [
       "HBox(children=(FloatProgress(value=0.0, description='Validation batches', max=25.0, style=ProgressStyle(descri…"
      ]
     },
     "metadata": {},
     "output_type": "display_data"
    },
    {
     "data": {
      "application/vnd.jupyter.widget-view+json": {
       "model_id": "",
       "version_major": 2,
       "version_minor": 0
      },
      "text/plain": [
       "HBox(children=(FloatProgress(value=0.0, description='Train batches', max=75.0, style=ProgressStyle(description…"
      ]
     },
     "metadata": {},
     "output_type": "display_data"
    },
    {
     "data": {
      "application/vnd.jupyter.widget-view+json": {
       "model_id": "",
       "version_major": 2,
       "version_minor": 0
      },
      "text/plain": [
       "HBox(children=(FloatProgress(value=0.0, description='Validation batches', max=25.0, style=ProgressStyle(descri…"
      ]
     },
     "metadata": {},
     "output_type": "display_data"
    },
    {
     "data": {
      "application/vnd.jupyter.widget-view+json": {
       "model_id": "",
       "version_major": 2,
       "version_minor": 0
      },
      "text/plain": [
       "HBox(children=(FloatProgress(value=0.0, description='Train batches', max=75.0, style=ProgressStyle(description…"
      ]
     },
     "metadata": {},
     "output_type": "display_data"
    },
    {
     "data": {
      "application/vnd.jupyter.widget-view+json": {
       "model_id": "",
       "version_major": 2,
       "version_minor": 0
      },
      "text/plain": [
       "HBox(children=(FloatProgress(value=0.0, description='Validation batches', max=25.0, style=ProgressStyle(descri…"
      ]
     },
     "metadata": {},
     "output_type": "display_data"
    },
    {
     "data": {
      "application/vnd.jupyter.widget-view+json": {
       "model_id": "",
       "version_major": 2,
       "version_minor": 0
      },
      "text/plain": [
       "HBox(children=(FloatProgress(value=0.0, description='Train batches', max=75.0, style=ProgressStyle(description…"
      ]
     },
     "metadata": {},
     "output_type": "display_data"
    },
    {
     "data": {
      "application/vnd.jupyter.widget-view+json": {
       "model_id": "",
       "version_major": 2,
       "version_minor": 0
      },
      "text/plain": [
       "HBox(children=(FloatProgress(value=0.0, description='Validation batches', max=25.0, style=ProgressStyle(descri…"
      ]
     },
     "metadata": {},
     "output_type": "display_data"
    },
    {
     "data": {
      "application/vnd.jupyter.widget-view+json": {
       "model_id": "",
       "version_major": 2,
       "version_minor": 0
      },
      "text/plain": [
       "HBox(children=(FloatProgress(value=0.0, description='Train batches', max=75.0, style=ProgressStyle(description…"
      ]
     },
     "metadata": {},
     "output_type": "display_data"
    },
    {
     "data": {
      "application/vnd.jupyter.widget-view+json": {
       "model_id": "",
       "version_major": 2,
       "version_minor": 0
      },
      "text/plain": [
       "HBox(children=(FloatProgress(value=0.0, description='Validation batches', max=25.0, style=ProgressStyle(descri…"
      ]
     },
     "metadata": {},
     "output_type": "display_data"
    },
    {
     "data": {
      "application/vnd.jupyter.widget-view+json": {
       "model_id": "",
       "version_major": 2,
       "version_minor": 0
      },
      "text/plain": [
       "HBox(children=(FloatProgress(value=0.0, description='Train batches', max=75.0, style=ProgressStyle(description…"
      ]
     },
     "metadata": {},
     "output_type": "display_data"
    },
    {
     "data": {
      "application/vnd.jupyter.widget-view+json": {
       "model_id": "",
       "version_major": 2,
       "version_minor": 0
      },
      "text/plain": [
       "HBox(children=(FloatProgress(value=0.0, description='Validation batches', max=25.0, style=ProgressStyle(descri…"
      ]
     },
     "metadata": {},
     "output_type": "display_data"
    },
    {
     "data": {
      "application/vnd.jupyter.widget-view+json": {
       "model_id": "",
       "version_major": 2,
       "version_minor": 0
      },
      "text/plain": [
       "HBox(children=(FloatProgress(value=0.0, description='Train batches', max=75.0, style=ProgressStyle(description…"
      ]
     },
     "metadata": {},
     "output_type": "display_data"
    },
    {
     "data": {
      "application/vnd.jupyter.widget-view+json": {
       "model_id": "",
       "version_major": 2,
       "version_minor": 0
      },
      "text/plain": [
       "HBox(children=(FloatProgress(value=0.0, description='Validation batches', max=25.0, style=ProgressStyle(descri…"
      ]
     },
     "metadata": {},
     "output_type": "display_data"
    },
    {
     "data": {
      "application/vnd.jupyter.widget-view+json": {
       "model_id": "",
       "version_major": 2,
       "version_minor": 0
      },
      "text/plain": [
       "HBox(children=(FloatProgress(value=0.0, description='Train batches', max=75.0, style=ProgressStyle(description…"
      ]
     },
     "metadata": {},
     "output_type": "display_data"
    },
    {
     "data": {
      "application/vnd.jupyter.widget-view+json": {
       "model_id": "",
       "version_major": 2,
       "version_minor": 0
      },
      "text/plain": [
       "HBox(children=(FloatProgress(value=0.0, description='Validation batches', max=25.0, style=ProgressStyle(descri…"
      ]
     },
     "metadata": {},
     "output_type": "display_data"
    },
    {
     "data": {
      "application/vnd.jupyter.widget-view+json": {
       "model_id": "",
       "version_major": 2,
       "version_minor": 0
      },
      "text/plain": [
       "HBox(children=(FloatProgress(value=0.0, description='Train batches', max=75.0, style=ProgressStyle(description…"
      ]
     },
     "metadata": {},
     "output_type": "display_data"
    },
    {
     "data": {
      "application/vnd.jupyter.widget-view+json": {
       "model_id": "",
       "version_major": 2,
       "version_minor": 0
      },
      "text/plain": [
       "HBox(children=(FloatProgress(value=0.0, description='Validation batches', max=25.0, style=ProgressStyle(descri…"
      ]
     },
     "metadata": {},
     "output_type": "display_data"
    },
    {
     "data": {
      "application/vnd.jupyter.widget-view+json": {
       "model_id": "",
       "version_major": 2,
       "version_minor": 0
      },
      "text/plain": [
       "HBox(children=(FloatProgress(value=0.0, description='Train batches', max=75.0, style=ProgressStyle(description…"
      ]
     },
     "metadata": {},
     "output_type": "display_data"
    },
    {
     "data": {
      "application/vnd.jupyter.widget-view+json": {
       "model_id": "",
       "version_major": 2,
       "version_minor": 0
      },
      "text/plain": [
       "HBox(children=(FloatProgress(value=0.0, description='Validation batches', max=25.0, style=ProgressStyle(descri…"
      ]
     },
     "metadata": {},
     "output_type": "display_data"
    },
    {
     "data": {
      "application/vnd.jupyter.widget-view+json": {
       "model_id": "",
       "version_major": 2,
       "version_minor": 0
      },
      "text/plain": [
       "HBox(children=(FloatProgress(value=0.0, description='Train batches', max=75.0, style=ProgressStyle(description…"
      ]
     },
     "metadata": {},
     "output_type": "display_data"
    },
    {
     "data": {
      "application/vnd.jupyter.widget-view+json": {
       "model_id": "",
       "version_major": 2,
       "version_minor": 0
      },
      "text/plain": [
       "HBox(children=(FloatProgress(value=0.0, description='Validation batches', max=25.0, style=ProgressStyle(descri…"
      ]
     },
     "metadata": {},
     "output_type": "display_data"
    },
    {
     "data": {
      "application/vnd.jupyter.widget-view+json": {
       "model_id": "",
       "version_major": 2,
       "version_minor": 0
      },
      "text/plain": [
       "HBox(children=(FloatProgress(value=0.0, description='Train batches', max=75.0, style=ProgressStyle(description…"
      ]
     },
     "metadata": {},
     "output_type": "display_data"
    },
    {
     "data": {
      "application/vnd.jupyter.widget-view+json": {
       "model_id": "",
       "version_major": 2,
       "version_minor": 0
      },
      "text/plain": [
       "HBox(children=(FloatProgress(value=0.0, description='Validation batches', max=25.0, style=ProgressStyle(descri…"
      ]
     },
     "metadata": {},
     "output_type": "display_data"
    },
    {
     "data": {
      "application/vnd.jupyter.widget-view+json": {
       "model_id": "",
       "version_major": 2,
       "version_minor": 0
      },
      "text/plain": [
       "HBox(children=(FloatProgress(value=0.0, description='Train batches', max=75.0, style=ProgressStyle(description…"
      ]
     },
     "metadata": {},
     "output_type": "display_data"
    },
    {
     "data": {
      "application/vnd.jupyter.widget-view+json": {
       "model_id": "",
       "version_major": 2,
       "version_minor": 0
      },
      "text/plain": [
       "HBox(children=(FloatProgress(value=0.0, description='Validation batches', max=25.0, style=ProgressStyle(descri…"
      ]
     },
     "metadata": {},
     "output_type": "display_data"
    },
    {
     "data": {
      "application/vnd.jupyter.widget-view+json": {
       "model_id": "",
       "version_major": 2,
       "version_minor": 0
      },
      "text/plain": [
       "HBox(children=(FloatProgress(value=0.0, description='Train batches', max=75.0, style=ProgressStyle(description…"
      ]
     },
     "metadata": {},
     "output_type": "display_data"
    },
    {
     "data": {
      "application/vnd.jupyter.widget-view+json": {
       "model_id": "",
       "version_major": 2,
       "version_minor": 0
      },
      "text/plain": [
       "HBox(children=(FloatProgress(value=0.0, description='Validation batches', max=25.0, style=ProgressStyle(descri…"
      ]
     },
     "metadata": {},
     "output_type": "display_data"
    },
    {
     "data": {
      "application/vnd.jupyter.widget-view+json": {
       "model_id": "",
       "version_major": 2,
       "version_minor": 0
      },
      "text/plain": [
       "HBox(children=(FloatProgress(value=0.0, description='Train batches', max=75.0, style=ProgressStyle(description…"
      ]
     },
     "metadata": {},
     "output_type": "display_data"
    },
    {
     "data": {
      "application/vnd.jupyter.widget-view+json": {
       "model_id": "",
       "version_major": 2,
       "version_minor": 0
      },
      "text/plain": [
       "HBox(children=(FloatProgress(value=0.0, description='Validation batches', max=25.0, style=ProgressStyle(descri…"
      ]
     },
     "metadata": {},
     "output_type": "display_data"
    },
    {
     "data": {
      "application/vnd.jupyter.widget-view+json": {
       "model_id": "",
       "version_major": 2,
       "version_minor": 0
      },
      "text/plain": [
       "HBox(children=(FloatProgress(value=0.0, description='Train batches', max=75.0, style=ProgressStyle(description…"
      ]
     },
     "metadata": {},
     "output_type": "display_data"
    },
    {
     "data": {
      "application/vnd.jupyter.widget-view+json": {
       "model_id": "",
       "version_major": 2,
       "version_minor": 0
      },
      "text/plain": [
       "HBox(children=(FloatProgress(value=0.0, description='Validation batches', max=25.0, style=ProgressStyle(descri…"
      ]
     },
     "metadata": {},
     "output_type": "display_data"
    },
    {
     "data": {
      "application/vnd.jupyter.widget-view+json": {
       "model_id": "",
       "version_major": 2,
       "version_minor": 0
      },
      "text/plain": [
       "HBox(children=(FloatProgress(value=0.0, description='Train batches', max=75.0, style=ProgressStyle(description…"
      ]
     },
     "metadata": {},
     "output_type": "display_data"
    },
    {
     "data": {
      "application/vnd.jupyter.widget-view+json": {
       "model_id": "",
       "version_major": 2,
       "version_minor": 0
      },
      "text/plain": [
       "HBox(children=(FloatProgress(value=0.0, description='Validation batches', max=25.0, style=ProgressStyle(descri…"
      ]
     },
     "metadata": {},
     "output_type": "display_data"
    },
    {
     "name": "stdout",
     "output_type": "stream",
     "text": [
      "Early stopping at epoch 31 out of 50 total.\n"
     ]
    },
    {
     "data": {
      "application/javascript": [
       "/* Put everything inside the global mpl namespace */\n",
       "window.mpl = {};\n",
       "\n",
       "\n",
       "mpl.get_websocket_type = function() {\n",
       "    if (typeof(WebSocket) !== 'undefined') {\n",
       "        return WebSocket;\n",
       "    } else if (typeof(MozWebSocket) !== 'undefined') {\n",
       "        return MozWebSocket;\n",
       "    } else {\n",
       "        alert('Your browser does not have WebSocket support. ' +\n",
       "              'Please try Chrome, Safari or Firefox ≥ 6. ' +\n",
       "              'Firefox 4 and 5 are also supported but you ' +\n",
       "              'have to enable WebSockets in about:config.');\n",
       "    };\n",
       "}\n",
       "\n",
       "mpl.figure = function(figure_id, websocket, ondownload, parent_element) {\n",
       "    this.id = figure_id;\n",
       "\n",
       "    this.ws = websocket;\n",
       "\n",
       "    this.supports_binary = (this.ws.binaryType != undefined);\n",
       "\n",
       "    if (!this.supports_binary) {\n",
       "        var warnings = document.getElementById(\"mpl-warnings\");\n",
       "        if (warnings) {\n",
       "            warnings.style.display = 'block';\n",
       "            warnings.textContent = (\n",
       "                \"This browser does not support binary websocket messages. \" +\n",
       "                    \"Performance may be slow.\");\n",
       "        }\n",
       "    }\n",
       "\n",
       "    this.imageObj = new Image();\n",
       "\n",
       "    this.context = undefined;\n",
       "    this.message = undefined;\n",
       "    this.canvas = undefined;\n",
       "    this.rubberband_canvas = undefined;\n",
       "    this.rubberband_context = undefined;\n",
       "    this.format_dropdown = undefined;\n",
       "\n",
       "    this.image_mode = 'full';\n",
       "\n",
       "    this.root = $('<div/>');\n",
       "    this._root_extra_style(this.root)\n",
       "    this.root.attr('style', 'display: inline-block');\n",
       "\n",
       "    $(parent_element).append(this.root);\n",
       "\n",
       "    this._init_header(this);\n",
       "    this._init_canvas(this);\n",
       "    this._init_toolbar(this);\n",
       "\n",
       "    var fig = this;\n",
       "\n",
       "    this.waiting = false;\n",
       "\n",
       "    this.ws.onopen =  function () {\n",
       "            fig.send_message(\"supports_binary\", {value: fig.supports_binary});\n",
       "            fig.send_message(\"send_image_mode\", {});\n",
       "            if (mpl.ratio != 1) {\n",
       "                fig.send_message(\"set_dpi_ratio\", {'dpi_ratio': mpl.ratio});\n",
       "            }\n",
       "            fig.send_message(\"refresh\", {});\n",
       "        }\n",
       "\n",
       "    this.imageObj.onload = function() {\n",
       "            if (fig.image_mode == 'full') {\n",
       "                // Full images could contain transparency (where diff images\n",
       "                // almost always do), so we need to clear the canvas so that\n",
       "                // there is no ghosting.\n",
       "                fig.context.clearRect(0, 0, fig.canvas.width, fig.canvas.height);\n",
       "            }\n",
       "            fig.context.drawImage(fig.imageObj, 0, 0);\n",
       "        };\n",
       "\n",
       "    this.imageObj.onunload = function() {\n",
       "        fig.ws.close();\n",
       "    }\n",
       "\n",
       "    this.ws.onmessage = this._make_on_message_function(this);\n",
       "\n",
       "    this.ondownload = ondownload;\n",
       "}\n",
       "\n",
       "mpl.figure.prototype._init_header = function() {\n",
       "    var titlebar = $(\n",
       "        '<div class=\"ui-dialog-titlebar ui-widget-header ui-corner-all ' +\n",
       "        'ui-helper-clearfix\"/>');\n",
       "    var titletext = $(\n",
       "        '<div class=\"ui-dialog-title\" style=\"width: 100%; ' +\n",
       "        'text-align: center; padding: 3px;\"/>');\n",
       "    titlebar.append(titletext)\n",
       "    this.root.append(titlebar);\n",
       "    this.header = titletext[0];\n",
       "}\n",
       "\n",
       "\n",
       "\n",
       "mpl.figure.prototype._canvas_extra_style = function(canvas_div) {\n",
       "\n",
       "}\n",
       "\n",
       "\n",
       "mpl.figure.prototype._root_extra_style = function(canvas_div) {\n",
       "\n",
       "}\n",
       "\n",
       "mpl.figure.prototype._init_canvas = function() {\n",
       "    var fig = this;\n",
       "\n",
       "    var canvas_div = $('<div/>');\n",
       "\n",
       "    canvas_div.attr('style', 'position: relative; clear: both; outline: 0');\n",
       "\n",
       "    function canvas_keyboard_event(event) {\n",
       "        return fig.key_event(event, event['data']);\n",
       "    }\n",
       "\n",
       "    canvas_div.keydown('key_press', canvas_keyboard_event);\n",
       "    canvas_div.keyup('key_release', canvas_keyboard_event);\n",
       "    this.canvas_div = canvas_div\n",
       "    this._canvas_extra_style(canvas_div)\n",
       "    this.root.append(canvas_div);\n",
       "\n",
       "    var canvas = $('<canvas/>');\n",
       "    canvas.addClass('mpl-canvas');\n",
       "    canvas.attr('style', \"left: 0; top: 0; z-index: 0; outline: 0\")\n",
       "\n",
       "    this.canvas = canvas[0];\n",
       "    this.context = canvas[0].getContext(\"2d\");\n",
       "\n",
       "    var backingStore = this.context.backingStorePixelRatio ||\n",
       "\tthis.context.webkitBackingStorePixelRatio ||\n",
       "\tthis.context.mozBackingStorePixelRatio ||\n",
       "\tthis.context.msBackingStorePixelRatio ||\n",
       "\tthis.context.oBackingStorePixelRatio ||\n",
       "\tthis.context.backingStorePixelRatio || 1;\n",
       "\n",
       "    mpl.ratio = (window.devicePixelRatio || 1) / backingStore;\n",
       "\n",
       "    var rubberband = $('<canvas/>');\n",
       "    rubberband.attr('style', \"position: absolute; left: 0; top: 0; z-index: 1;\")\n",
       "\n",
       "    var pass_mouse_events = true;\n",
       "\n",
       "    canvas_div.resizable({\n",
       "        start: function(event, ui) {\n",
       "            pass_mouse_events = false;\n",
       "        },\n",
       "        resize: function(event, ui) {\n",
       "            fig.request_resize(ui.size.width, ui.size.height);\n",
       "        },\n",
       "        stop: function(event, ui) {\n",
       "            pass_mouse_events = true;\n",
       "            fig.request_resize(ui.size.width, ui.size.height);\n",
       "        },\n",
       "    });\n",
       "\n",
       "    function mouse_event_fn(event) {\n",
       "        if (pass_mouse_events)\n",
       "            return fig.mouse_event(event, event['data']);\n",
       "    }\n",
       "\n",
       "    rubberband.mousedown('button_press', mouse_event_fn);\n",
       "    rubberband.mouseup('button_release', mouse_event_fn);\n",
       "    // Throttle sequential mouse events to 1 every 20ms.\n",
       "    rubberband.mousemove('motion_notify', mouse_event_fn);\n",
       "\n",
       "    rubberband.mouseenter('figure_enter', mouse_event_fn);\n",
       "    rubberband.mouseleave('figure_leave', mouse_event_fn);\n",
       "\n",
       "    canvas_div.on(\"wheel\", function (event) {\n",
       "        event = event.originalEvent;\n",
       "        event['data'] = 'scroll'\n",
       "        if (event.deltaY < 0) {\n",
       "            event.step = 1;\n",
       "        } else {\n",
       "            event.step = -1;\n",
       "        }\n",
       "        mouse_event_fn(event);\n",
       "    });\n",
       "\n",
       "    canvas_div.append(canvas);\n",
       "    canvas_div.append(rubberband);\n",
       "\n",
       "    this.rubberband = rubberband;\n",
       "    this.rubberband_canvas = rubberband[0];\n",
       "    this.rubberband_context = rubberband[0].getContext(\"2d\");\n",
       "    this.rubberband_context.strokeStyle = \"#000000\";\n",
       "\n",
       "    this._resize_canvas = function(width, height) {\n",
       "        // Keep the size of the canvas, canvas container, and rubber band\n",
       "        // canvas in synch.\n",
       "        canvas_div.css('width', width)\n",
       "        canvas_div.css('height', height)\n",
       "\n",
       "        canvas.attr('width', width * mpl.ratio);\n",
       "        canvas.attr('height', height * mpl.ratio);\n",
       "        canvas.attr('style', 'width: ' + width + 'px; height: ' + height + 'px;');\n",
       "\n",
       "        rubberband.attr('width', width);\n",
       "        rubberband.attr('height', height);\n",
       "    }\n",
       "\n",
       "    // Set the figure to an initial 600x600px, this will subsequently be updated\n",
       "    // upon first draw.\n",
       "    this._resize_canvas(600, 600);\n",
       "\n",
       "    // Disable right mouse context menu.\n",
       "    $(this.rubberband_canvas).bind(\"contextmenu\",function(e){\n",
       "        return false;\n",
       "    });\n",
       "\n",
       "    function set_focus () {\n",
       "        canvas.focus();\n",
       "        canvas_div.focus();\n",
       "    }\n",
       "\n",
       "    window.setTimeout(set_focus, 100);\n",
       "}\n",
       "\n",
       "mpl.figure.prototype._init_toolbar = function() {\n",
       "    var fig = this;\n",
       "\n",
       "    var nav_element = $('<div/>');\n",
       "    nav_element.attr('style', 'width: 100%');\n",
       "    this.root.append(nav_element);\n",
       "\n",
       "    // Define a callback function for later on.\n",
       "    function toolbar_event(event) {\n",
       "        return fig.toolbar_button_onclick(event['data']);\n",
       "    }\n",
       "    function toolbar_mouse_event(event) {\n",
       "        return fig.toolbar_button_onmouseover(event['data']);\n",
       "    }\n",
       "\n",
       "    for(var toolbar_ind in mpl.toolbar_items) {\n",
       "        var name = mpl.toolbar_items[toolbar_ind][0];\n",
       "        var tooltip = mpl.toolbar_items[toolbar_ind][1];\n",
       "        var image = mpl.toolbar_items[toolbar_ind][2];\n",
       "        var method_name = mpl.toolbar_items[toolbar_ind][3];\n",
       "\n",
       "        if (!name) {\n",
       "            // put a spacer in here.\n",
       "            continue;\n",
       "        }\n",
       "        var button = $('<button/>');\n",
       "        button.addClass('ui-button ui-widget ui-state-default ui-corner-all ' +\n",
       "                        'ui-button-icon-only');\n",
       "        button.attr('role', 'button');\n",
       "        button.attr('aria-disabled', 'false');\n",
       "        button.click(method_name, toolbar_event);\n",
       "        button.mouseover(tooltip, toolbar_mouse_event);\n",
       "\n",
       "        var icon_img = $('<span/>');\n",
       "        icon_img.addClass('ui-button-icon-primary ui-icon');\n",
       "        icon_img.addClass(image);\n",
       "        icon_img.addClass('ui-corner-all');\n",
       "\n",
       "        var tooltip_span = $('<span/>');\n",
       "        tooltip_span.addClass('ui-button-text');\n",
       "        tooltip_span.html(tooltip);\n",
       "\n",
       "        button.append(icon_img);\n",
       "        button.append(tooltip_span);\n",
       "\n",
       "        nav_element.append(button);\n",
       "    }\n",
       "\n",
       "    var fmt_picker_span = $('<span/>');\n",
       "\n",
       "    var fmt_picker = $('<select/>');\n",
       "    fmt_picker.addClass('mpl-toolbar-option ui-widget ui-widget-content');\n",
       "    fmt_picker_span.append(fmt_picker);\n",
       "    nav_element.append(fmt_picker_span);\n",
       "    this.format_dropdown = fmt_picker[0];\n",
       "\n",
       "    for (var ind in mpl.extensions) {\n",
       "        var fmt = mpl.extensions[ind];\n",
       "        var option = $(\n",
       "            '<option/>', {selected: fmt === mpl.default_extension}).html(fmt);\n",
       "        fmt_picker.append(option);\n",
       "    }\n",
       "\n",
       "    // Add hover states to the ui-buttons\n",
       "    $( \".ui-button\" ).hover(\n",
       "        function() { $(this).addClass(\"ui-state-hover\");},\n",
       "        function() { $(this).removeClass(\"ui-state-hover\");}\n",
       "    );\n",
       "\n",
       "    var status_bar = $('<span class=\"mpl-message\"/>');\n",
       "    nav_element.append(status_bar);\n",
       "    this.message = status_bar[0];\n",
       "}\n",
       "\n",
       "mpl.figure.prototype.request_resize = function(x_pixels, y_pixels) {\n",
       "    // Request matplotlib to resize the figure. Matplotlib will then trigger a resize in the client,\n",
       "    // which will in turn request a refresh of the image.\n",
       "    this.send_message('resize', {'width': x_pixels, 'height': y_pixels});\n",
       "}\n",
       "\n",
       "mpl.figure.prototype.send_message = function(type, properties) {\n",
       "    properties['type'] = type;\n",
       "    properties['figure_id'] = this.id;\n",
       "    this.ws.send(JSON.stringify(properties));\n",
       "}\n",
       "\n",
       "mpl.figure.prototype.send_draw_message = function() {\n",
       "    if (!this.waiting) {\n",
       "        this.waiting = true;\n",
       "        this.ws.send(JSON.stringify({type: \"draw\", figure_id: this.id}));\n",
       "    }\n",
       "}\n",
       "\n",
       "\n",
       "mpl.figure.prototype.handle_save = function(fig, msg) {\n",
       "    var format_dropdown = fig.format_dropdown;\n",
       "    var format = format_dropdown.options[format_dropdown.selectedIndex].value;\n",
       "    fig.ondownload(fig, format);\n",
       "}\n",
       "\n",
       "\n",
       "mpl.figure.prototype.handle_resize = function(fig, msg) {\n",
       "    var size = msg['size'];\n",
       "    if (size[0] != fig.canvas.width || size[1] != fig.canvas.height) {\n",
       "        fig._resize_canvas(size[0], size[1]);\n",
       "        fig.send_message(\"refresh\", {});\n",
       "    };\n",
       "}\n",
       "\n",
       "mpl.figure.prototype.handle_rubberband = function(fig, msg) {\n",
       "    var x0 = msg['x0'] / mpl.ratio;\n",
       "    var y0 = (fig.canvas.height - msg['y0']) / mpl.ratio;\n",
       "    var x1 = msg['x1'] / mpl.ratio;\n",
       "    var y1 = (fig.canvas.height - msg['y1']) / mpl.ratio;\n",
       "    x0 = Math.floor(x0) + 0.5;\n",
       "    y0 = Math.floor(y0) + 0.5;\n",
       "    x1 = Math.floor(x1) + 0.5;\n",
       "    y1 = Math.floor(y1) + 0.5;\n",
       "    var min_x = Math.min(x0, x1);\n",
       "    var min_y = Math.min(y0, y1);\n",
       "    var width = Math.abs(x1 - x0);\n",
       "    var height = Math.abs(y1 - y0);\n",
       "\n",
       "    fig.rubberband_context.clearRect(\n",
       "        0, 0, fig.canvas.width / mpl.ratio, fig.canvas.height / mpl.ratio);\n",
       "\n",
       "    fig.rubberband_context.strokeRect(min_x, min_y, width, height);\n",
       "}\n",
       "\n",
       "mpl.figure.prototype.handle_figure_label = function(fig, msg) {\n",
       "    // Updates the figure title.\n",
       "    fig.header.textContent = msg['label'];\n",
       "}\n",
       "\n",
       "mpl.figure.prototype.handle_cursor = function(fig, msg) {\n",
       "    var cursor = msg['cursor'];\n",
       "    switch(cursor)\n",
       "    {\n",
       "    case 0:\n",
       "        cursor = 'pointer';\n",
       "        break;\n",
       "    case 1:\n",
       "        cursor = 'default';\n",
       "        break;\n",
       "    case 2:\n",
       "        cursor = 'crosshair';\n",
       "        break;\n",
       "    case 3:\n",
       "        cursor = 'move';\n",
       "        break;\n",
       "    }\n",
       "    fig.rubberband_canvas.style.cursor = cursor;\n",
       "}\n",
       "\n",
       "mpl.figure.prototype.handle_message = function(fig, msg) {\n",
       "    fig.message.textContent = msg['message'];\n",
       "}\n",
       "\n",
       "mpl.figure.prototype.handle_draw = function(fig, msg) {\n",
       "    // Request the server to send over a new figure.\n",
       "    fig.send_draw_message();\n",
       "}\n",
       "\n",
       "mpl.figure.prototype.handle_image_mode = function(fig, msg) {\n",
       "    fig.image_mode = msg['mode'];\n",
       "}\n",
       "\n",
       "mpl.figure.prototype.updated_canvas_event = function() {\n",
       "    // Called whenever the canvas gets updated.\n",
       "    this.send_message(\"ack\", {});\n",
       "}\n",
       "\n",
       "// A function to construct a web socket function for onmessage handling.\n",
       "// Called in the figure constructor.\n",
       "mpl.figure.prototype._make_on_message_function = function(fig) {\n",
       "    return function socket_on_message(evt) {\n",
       "        if (evt.data instanceof Blob) {\n",
       "            /* FIXME: We get \"Resource interpreted as Image but\n",
       "             * transferred with MIME type text/plain:\" errors on\n",
       "             * Chrome.  But how to set the MIME type?  It doesn't seem\n",
       "             * to be part of the websocket stream */\n",
       "            evt.data.type = \"image/png\";\n",
       "\n",
       "            /* Free the memory for the previous frames */\n",
       "            if (fig.imageObj.src) {\n",
       "                (window.URL || window.webkitURL).revokeObjectURL(\n",
       "                    fig.imageObj.src);\n",
       "            }\n",
       "\n",
       "            fig.imageObj.src = (window.URL || window.webkitURL).createObjectURL(\n",
       "                evt.data);\n",
       "            fig.updated_canvas_event();\n",
       "            fig.waiting = false;\n",
       "            return;\n",
       "        }\n",
       "        else if (typeof evt.data === 'string' && evt.data.slice(0, 21) == \"data:image/png;base64\") {\n",
       "            fig.imageObj.src = evt.data;\n",
       "            fig.updated_canvas_event();\n",
       "            fig.waiting = false;\n",
       "            return;\n",
       "        }\n",
       "\n",
       "        var msg = JSON.parse(evt.data);\n",
       "        var msg_type = msg['type'];\n",
       "\n",
       "        // Call the  \"handle_{type}\" callback, which takes\n",
       "        // the figure and JSON message as its only arguments.\n",
       "        try {\n",
       "            var callback = fig[\"handle_\" + msg_type];\n",
       "        } catch (e) {\n",
       "            console.log(\"No handler for the '\" + msg_type + \"' message type: \", msg);\n",
       "            return;\n",
       "        }\n",
       "\n",
       "        if (callback) {\n",
       "            try {\n",
       "                // console.log(\"Handling '\" + msg_type + \"' message: \", msg);\n",
       "                callback(fig, msg);\n",
       "            } catch (e) {\n",
       "                console.log(\"Exception inside the 'handler_\" + msg_type + \"' callback:\", e, e.stack, msg);\n",
       "            }\n",
       "        }\n",
       "    };\n",
       "}\n",
       "\n",
       "// from http://stackoverflow.com/questions/1114465/getting-mouse-location-in-canvas\n",
       "mpl.findpos = function(e) {\n",
       "    //this section is from http://www.quirksmode.org/js/events_properties.html\n",
       "    var targ;\n",
       "    if (!e)\n",
       "        e = window.event;\n",
       "    if (e.target)\n",
       "        targ = e.target;\n",
       "    else if (e.srcElement)\n",
       "        targ = e.srcElement;\n",
       "    if (targ.nodeType == 3) // defeat Safari bug\n",
       "        targ = targ.parentNode;\n",
       "\n",
       "    // jQuery normalizes the pageX and pageY\n",
       "    // pageX,Y are the mouse positions relative to the document\n",
       "    // offset() returns the position of the element relative to the document\n",
       "    var x = e.pageX - $(targ).offset().left;\n",
       "    var y = e.pageY - $(targ).offset().top;\n",
       "\n",
       "    return {\"x\": x, \"y\": y};\n",
       "};\n",
       "\n",
       "/*\n",
       " * return a copy of an object with only non-object keys\n",
       " * we need this to avoid circular references\n",
       " * http://stackoverflow.com/a/24161582/3208463\n",
       " */\n",
       "function simpleKeys (original) {\n",
       "  return Object.keys(original).reduce(function (obj, key) {\n",
       "    if (typeof original[key] !== 'object')\n",
       "        obj[key] = original[key]\n",
       "    return obj;\n",
       "  }, {});\n",
       "}\n",
       "\n",
       "mpl.figure.prototype.mouse_event = function(event, name) {\n",
       "    var canvas_pos = mpl.findpos(event)\n",
       "\n",
       "    if (name === 'button_press')\n",
       "    {\n",
       "        this.canvas.focus();\n",
       "        this.canvas_div.focus();\n",
       "    }\n",
       "\n",
       "    var x = canvas_pos.x * mpl.ratio;\n",
       "    var y = canvas_pos.y * mpl.ratio;\n",
       "\n",
       "    this.send_message(name, {x: x, y: y, button: event.button,\n",
       "                             step: event.step,\n",
       "                             guiEvent: simpleKeys(event)});\n",
       "\n",
       "    /* This prevents the web browser from automatically changing to\n",
       "     * the text insertion cursor when the button is pressed.  We want\n",
       "     * to control all of the cursor setting manually through the\n",
       "     * 'cursor' event from matplotlib */\n",
       "    event.preventDefault();\n",
       "    return false;\n",
       "}\n",
       "\n",
       "mpl.figure.prototype._key_event_extra = function(event, name) {\n",
       "    // Handle any extra behaviour associated with a key event\n",
       "}\n",
       "\n",
       "mpl.figure.prototype.key_event = function(event, name) {\n",
       "\n",
       "    // Prevent repeat events\n",
       "    if (name == 'key_press')\n",
       "    {\n",
       "        if (event.which === this._key)\n",
       "            return;\n",
       "        else\n",
       "            this._key = event.which;\n",
       "    }\n",
       "    if (name == 'key_release')\n",
       "        this._key = null;\n",
       "\n",
       "    var value = '';\n",
       "    if (event.ctrlKey && event.which != 17)\n",
       "        value += \"ctrl+\";\n",
       "    if (event.altKey && event.which != 18)\n",
       "        value += \"alt+\";\n",
       "    if (event.shiftKey && event.which != 16)\n",
       "        value += \"shift+\";\n",
       "\n",
       "    value += 'k';\n",
       "    value += event.which.toString();\n",
       "\n",
       "    this._key_event_extra(event, name);\n",
       "\n",
       "    this.send_message(name, {key: value,\n",
       "                             guiEvent: simpleKeys(event)});\n",
       "    return false;\n",
       "}\n",
       "\n",
       "mpl.figure.prototype.toolbar_button_onclick = function(name) {\n",
       "    if (name == 'download') {\n",
       "        this.handle_save(this, null);\n",
       "    } else {\n",
       "        this.send_message(\"toolbar_button\", {name: name});\n",
       "    }\n",
       "};\n",
       "\n",
       "mpl.figure.prototype.toolbar_button_onmouseover = function(tooltip) {\n",
       "    this.message.textContent = tooltip;\n",
       "};\n",
       "mpl.toolbar_items = [[\"Home\", \"Reset original view\", \"fa fa-home icon-home\", \"home\"], [\"Back\", \"Back to previous view\", \"fa fa-arrow-left icon-arrow-left\", \"back\"], [\"Forward\", \"Forward to next view\", \"fa fa-arrow-right icon-arrow-right\", \"forward\"], [\"\", \"\", \"\", \"\"], [\"Pan\", \"Pan axes with left mouse, zoom with right\", \"fa fa-arrows icon-move\", \"pan\"], [\"Zoom\", \"Zoom to rectangle\", \"fa fa-square-o icon-check-empty\", \"zoom\"], [\"\", \"\", \"\", \"\"], [\"Download\", \"Download plot\", \"fa fa-floppy-o icon-save\", \"download\"]];\n",
       "\n",
       "mpl.extensions = [\"eps\", \"jpeg\", \"pdf\", \"png\", \"ps\", \"raw\", \"svg\", \"tif\"];\n",
       "\n",
       "mpl.default_extension = \"png\";var comm_websocket_adapter = function(comm) {\n",
       "    // Create a \"websocket\"-like object which calls the given IPython comm\n",
       "    // object with the appropriate methods. Currently this is a non binary\n",
       "    // socket, so there is still some room for performance tuning.\n",
       "    var ws = {};\n",
       "\n",
       "    ws.close = function() {\n",
       "        comm.close()\n",
       "    };\n",
       "    ws.send = function(m) {\n",
       "        //console.log('sending', m);\n",
       "        comm.send(m);\n",
       "    };\n",
       "    // Register the callback with on_msg.\n",
       "    comm.on_msg(function(msg) {\n",
       "        //console.log('receiving', msg['content']['data'], msg);\n",
       "        // Pass the mpl event to the overridden (by mpl) onmessage function.\n",
       "        ws.onmessage(msg['content']['data'])\n",
       "    });\n",
       "    return ws;\n",
       "}\n",
       "\n",
       "mpl.mpl_figure_comm = function(comm, msg) {\n",
       "    // This is the function which gets called when the mpl process\n",
       "    // starts-up an IPython Comm through the \"matplotlib\" channel.\n",
       "\n",
       "    var id = msg.content.data.id;\n",
       "    // Get hold of the div created by the display call when the Comm\n",
       "    // socket was opened in Python.\n",
       "    var element = $(\"#\" + id);\n",
       "    var ws_proxy = comm_websocket_adapter(comm)\n",
       "\n",
       "    function ondownload(figure, format) {\n",
       "        window.open(figure.imageObj.src);\n",
       "    }\n",
       "\n",
       "    var fig = new mpl.figure(id, ws_proxy,\n",
       "                           ondownload,\n",
       "                           element.get(0));\n",
       "\n",
       "    // Call onopen now - mpl needs it, as it is assuming we've passed it a real\n",
       "    // web socket which is closed, not our websocket->open comm proxy.\n",
       "    ws_proxy.onopen();\n",
       "\n",
       "    fig.parent_element = element.get(0);\n",
       "    fig.cell_info = mpl.find_output_cell(\"<div id='\" + id + \"'></div>\");\n",
       "    if (!fig.cell_info) {\n",
       "        console.error(\"Failed to find cell for figure\", id, fig);\n",
       "        return;\n",
       "    }\n",
       "\n",
       "    var output_index = fig.cell_info[2]\n",
       "    var cell = fig.cell_info[0];\n",
       "\n",
       "};\n",
       "\n",
       "mpl.figure.prototype.handle_close = function(fig, msg) {\n",
       "    var width = fig.canvas.width/mpl.ratio\n",
       "    fig.root.unbind('remove')\n",
       "\n",
       "    // Update the output cell to use the data from the current canvas.\n",
       "    fig.push_to_output();\n",
       "    var dataURL = fig.canvas.toDataURL();\n",
       "    // Re-enable the keyboard manager in IPython - without this line, in FF,\n",
       "    // the notebook keyboard shortcuts fail.\n",
       "    IPython.keyboard_manager.enable()\n",
       "    $(fig.parent_element).html('<img src=\"' + dataURL + '\" width=\"' + width + '\">');\n",
       "    fig.close_ws(fig, msg);\n",
       "}\n",
       "\n",
       "mpl.figure.prototype.close_ws = function(fig, msg){\n",
       "    fig.send_message('closing', msg);\n",
       "    // fig.ws.close()\n",
       "}\n",
       "\n",
       "mpl.figure.prototype.push_to_output = function(remove_interactive) {\n",
       "    // Turn the data on the canvas into data in the output cell.\n",
       "    var width = this.canvas.width/mpl.ratio\n",
       "    var dataURL = this.canvas.toDataURL();\n",
       "    this.cell_info[1]['text/html'] = '<img src=\"' + dataURL + '\" width=\"' + width + '\">';\n",
       "}\n",
       "\n",
       "mpl.figure.prototype.updated_canvas_event = function() {\n",
       "    // Tell IPython that the notebook contents must change.\n",
       "    IPython.notebook.set_dirty(true);\n",
       "    this.send_message(\"ack\", {});\n",
       "    var fig = this;\n",
       "    // Wait a second, then push the new image to the DOM so\n",
       "    // that it is saved nicely (might be nice to debounce this).\n",
       "    setTimeout(function () { fig.push_to_output() }, 1000);\n",
       "}\n",
       "\n",
       "mpl.figure.prototype._init_toolbar = function() {\n",
       "    var fig = this;\n",
       "\n",
       "    var nav_element = $('<div/>');\n",
       "    nav_element.attr('style', 'width: 100%');\n",
       "    this.root.append(nav_element);\n",
       "\n",
       "    // Define a callback function for later on.\n",
       "    function toolbar_event(event) {\n",
       "        return fig.toolbar_button_onclick(event['data']);\n",
       "    }\n",
       "    function toolbar_mouse_event(event) {\n",
       "        return fig.toolbar_button_onmouseover(event['data']);\n",
       "    }\n",
       "\n",
       "    for(var toolbar_ind in mpl.toolbar_items){\n",
       "        var name = mpl.toolbar_items[toolbar_ind][0];\n",
       "        var tooltip = mpl.toolbar_items[toolbar_ind][1];\n",
       "        var image = mpl.toolbar_items[toolbar_ind][2];\n",
       "        var method_name = mpl.toolbar_items[toolbar_ind][3];\n",
       "\n",
       "        if (!name) { continue; };\n",
       "\n",
       "        var button = $('<button class=\"btn btn-default\" href=\"#\" title=\"' + name + '\"><i class=\"fa ' + image + ' fa-lg\"></i></button>');\n",
       "        button.click(method_name, toolbar_event);\n",
       "        button.mouseover(tooltip, toolbar_mouse_event);\n",
       "        nav_element.append(button);\n",
       "    }\n",
       "\n",
       "    // Add the status bar.\n",
       "    var status_bar = $('<span class=\"mpl-message\" style=\"text-align:right; float: right;\"/>');\n",
       "    nav_element.append(status_bar);\n",
       "    this.message = status_bar[0];\n",
       "\n",
       "    // Add the close button to the window.\n",
       "    var buttongrp = $('<div class=\"btn-group inline pull-right\"></div>');\n",
       "    var button = $('<button class=\"btn btn-mini btn-primary\" href=\"#\" title=\"Stop Interaction\"><i class=\"fa fa-power-off icon-remove icon-large\"></i></button>');\n",
       "    button.click(function (evt) { fig.handle_close(fig, {}); } );\n",
       "    button.mouseover('Stop Interaction', toolbar_mouse_event);\n",
       "    buttongrp.append(button);\n",
       "    var titlebar = this.root.find($('.ui-dialog-titlebar'));\n",
       "    titlebar.prepend(buttongrp);\n",
       "}\n",
       "\n",
       "mpl.figure.prototype._root_extra_style = function(el){\n",
       "    var fig = this\n",
       "    el.on(\"remove\", function(){\n",
       "\tfig.close_ws(fig, {});\n",
       "    });\n",
       "}\n",
       "\n",
       "mpl.figure.prototype._canvas_extra_style = function(el){\n",
       "    // this is important to make the div 'focusable\n",
       "    el.attr('tabindex', 0)\n",
       "    // reach out to IPython and tell the keyboard manager to turn it's self\n",
       "    // off when our div gets focus\n",
       "\n",
       "    // location in version 3\n",
       "    if (IPython.notebook.keyboard_manager) {\n",
       "        IPython.notebook.keyboard_manager.register_events(el);\n",
       "    }\n",
       "    else {\n",
       "        // location in version 2\n",
       "        IPython.keyboard_manager.register_events(el);\n",
       "    }\n",
       "\n",
       "}\n",
       "\n",
       "mpl.figure.prototype._key_event_extra = function(event, name) {\n",
       "    var manager = IPython.notebook.keyboard_manager;\n",
       "    if (!manager)\n",
       "        manager = IPython.keyboard_manager;\n",
       "\n",
       "    // Check for shift+enter\n",
       "    if (event.shiftKey && event.which == 13) {\n",
       "        this.canvas_div.blur();\n",
       "        // select the cell after this one\n",
       "        var index = IPython.notebook.find_cell_index(this.cell_info[0]);\n",
       "        IPython.notebook.select(index + 1);\n",
       "    }\n",
       "}\n",
       "\n",
       "mpl.figure.prototype.handle_save = function(fig, msg) {\n",
       "    fig.ondownload(fig, null);\n",
       "}\n",
       "\n",
       "\n",
       "mpl.find_output_cell = function(html_output) {\n",
       "    // Return the cell and output element which can be found *uniquely* in the notebook.\n",
       "    // Note - this is a bit hacky, but it is done because the \"notebook_saving.Notebook\"\n",
       "    // IPython event is triggered only after the cells have been serialised, which for\n",
       "    // our purposes (turning an active figure into a static one), is too late.\n",
       "    var cells = IPython.notebook.get_cells();\n",
       "    var ncells = cells.length;\n",
       "    for (var i=0; i<ncells; i++) {\n",
       "        var cell = cells[i];\n",
       "        if (cell.cell_type === 'code'){\n",
       "            for (var j=0; j<cell.output_area.outputs.length; j++) {\n",
       "                var data = cell.output_area.outputs[j];\n",
       "                if (data.data) {\n",
       "                    // IPython >= 3 moved mimebundle to data attribute of output\n",
       "                    data = data.data;\n",
       "                }\n",
       "                if (data['text/html'] == html_output) {\n",
       "                    return [cell, data, j];\n",
       "                }\n",
       "            }\n",
       "        }\n",
       "    }\n",
       "}\n",
       "\n",
       "// Register the function which deals with the matplotlib target/channel.\n",
       "// The kernel may be null if the page has been refreshed.\n",
       "if (IPython.notebook.kernel != null) {\n",
       "    IPython.notebook.kernel.comm_manager.register_target('matplotlib', mpl.mpl_figure_comm);\n",
       "}\n"
      ],
      "text/plain": [
       "<IPython.core.display.Javascript object>"
      ]
     },
     "metadata": {},
     "output_type": "display_data"
    },
    {
     "data": {
      "text/html": [
       "<img src=\"data:image/png;base64,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\" width=\"640\">"
      ],
      "text/plain": [
       "<IPython.core.display.HTML object>"
      ]
     },
     "metadata": {},
     "output_type": "display_data"
    }
   ],
   "source": [
    "# Training parameters\n",
    "num_epochs = 50\n",
    "learning_rate = 0.0001\n",
    "\n",
    "# Model, loss, and optimizer\n",
    "cnn = CNN()\n",
    "cnn = cnn.to(device)\n",
    "criterion = nn.MSELoss()\n",
    "optimizer = optim.Adam(cnn.parameters(), lr=learning_rate)\n",
    "\n",
    "# Train the model\n",
    "validation_losses = []\n",
    "for epoch in tqdm(range(num_epochs), desc='Epochs', leave=False):\n",
    "\n",
    "    # Training loss\n",
    "    cnn.train()\n",
    "    for i, (images, targets) in enumerate(tqdm(training, desc='Train batches', leave=False)):\n",
    "\n",
    "        images, targets = images.to(device, dtype=torch.float), targets.to(device, dtype=torch.float)\n",
    "        outputs = cnn(images)\n",
    "        loss = criterion(outputs, targets)\n",
    "        optimizer.zero_grad()\n",
    "        loss.backward()\n",
    "        optimizer.step()\n",
    "\n",
    "    # Validation loss\n",
    "    cnn.eval()\n",
    "    epoch_losses = []\n",
    "    for i, (images, targets) in enumerate(tqdm(validation, desc='Validation batches', leave=False)):\n",
    "\n",
    "        images, targets = images.to(device, dtype=torch.float), targets.to(device, dtype=torch.float)\n",
    "        outputs = cnn(images)\n",
    "        loss_val = criterion(outputs, targets).item()\n",
    "        epoch_losses.append(loss_val)\n",
    "\n",
    "    # Early stopping\n",
    "    validation_losses.append(np.mean(epoch_losses))\n",
    "    patience = 7\n",
    "    if len(validation_losses) >= patience and np.argmin(validation_losses[-7:]) == 0:\n",
    "        print(f\"Early stopping at epoch {epoch} out of {num_epochs} total.\")\n",
    "        break\n",
    "\n",
    "else:\n",
    "    print(f\"No early stopping used. Completed {num_epochs} epochs.\")\n",
    "\n",
    "# Plot the training curve\n",
    "plt.plot(np.arange(len(validation_losses)) + 1, validation_losses)\n",
    "plt.xlabel('Epoch number')\n",
    "plt.ylabel('Validation MSE loss')\n",
    "plt.show()"
   ]
  },
  {
   "cell_type": "markdown",
   "metadata": {},
   "source": [
    "## Animal images"
   ]
  },
  {
   "cell_type": "code",
   "execution_count": null,
   "metadata": {},
   "outputs": [],
   "source": []
  }
 ],
 "metadata": {
  "kernelspec": {
   "display_name": "Python 3",
   "language": "python",
   "name": "python3"
  },
  "language_info": {
   "codemirror_mode": {
    "name": "ipython",
    "version": 3
   },
   "file_extension": ".py",
   "mimetype": "text/x-python",
   "name": "python",
   "nbconvert_exporter": "python",
   "pygments_lexer": "ipython3",
   "version": "3.7.7"
  }
 },
 "nbformat": 4,
 "nbformat_minor": 4
}
