{
 "cells": [
  {
   "cell_type": "markdown",
   "metadata": {},
   "source": [
    "## Training a CNN to predict Reaction-Diffusion parameters from steady state"
   ]
  },
  {
   "cell_type": "code",
   "execution_count": 1,
   "metadata": {},
   "outputs": [],
   "source": [
    "import os\n",
    "import pickle\n",
    "\n",
    "import numpy as np\n",
    "from tqdm.auto import tqdm\n",
    "import matplotlib.pyplot as plt\n",
    "import torch\n",
    "from torch import nn, optim\n",
    "from torch.utils.data import DataLoader, Dataset\n",
    "from sklearn.model_selection import train_test_split\n",
    "%matplotlib notebook"
   ]
  },
  {
   "cell_type": "code",
   "execution_count": 2,
   "metadata": {},
   "outputs": [
    {
     "name": "stdout",
     "output_type": "stream",
     "text": [
      "Device: cuda\n"
     ]
    }
   ],
   "source": [
    "# Select CPU/GPU\n",
    "device = torch.device('cuda') if torch.cuda.is_available() else torch.device('cpu')\n",
    "print('Device:', device)"
   ]
  },
  {
   "cell_type": "code",
   "execution_count": 3,
   "metadata": {},
   "outputs": [
    {
     "name": "stdout",
     "output_type": "stream",
     "text": [
      "Number of data points: 67\n"
     ]
    }
   ],
   "source": [
    "# Load the generated database\n",
    "folder = 'database'\n",
    "files = os.listdir(folder)\n",
    "\n",
    "images = []\n",
    "targets = []\n",
    "\n",
    "for file in files:\n",
    "    with open(f\"{folder}/{file}\", 'rb') as f:\n",
    "        image = pickle.load(f)\n",
    "    target = np.asarray(file[:-4].split('_')).astype(float)\n",
    "    \n",
    "    # Check for NaN's\n",
    "    if np.isnan(np.sum(image)) or np.isnan(np.sum(target)): continue\n",
    "    \n",
    "    # Ensure that the data is not complete zero\n",
    "    if np.allclose(image, 0): continue\n",
    "    \n",
    "    # Swap the axes so that the components come first\n",
    "    image = np.swapaxes(image, 0, 2)\n",
    "    \n",
    "    # Add to dataset\n",
    "    images.append(image)\n",
    "    targets.append(target)\n",
    "\n",
    "print('Number of data points:', len(images))"
   ]
  },
  {
   "cell_type": "code",
   "execution_count": 4,
   "metadata": {},
   "outputs": [],
   "source": [
    "class MyDataset(Dataset):\n",
    "\n",
    "    def __init__(self, X, Y):\n",
    "        super().__init__()\n",
    "        self.X = X\n",
    "        self.Y = Y\n",
    "\n",
    "    def __getitem__(self, idx):\n",
    "        return torch.from_numpy(self.X[idx]), torch.from_numpy(self.Y[idx])\n",
    "\n",
    "    def __len__(self):\n",
    "        return len(self.X)\n",
    "\n",
    "\n",
    "# Split the data into train, validation, test\n",
    "X_trv,   X_test, Y_trv,   Y_test = train_test_split(images, targets, train_size=0.8)\n",
    "X_train, X_val,  Y_train, Y_val  = train_test_split(images, targets, train_size=0.75)\n",
    "\n",
    "# Convert to Pytorch data loaders\n",
    "batch_size = 100\n",
    "training   = DataLoader(MyDataset(X_train, Y_train), batch_size=batch_size)\n",
    "validation = DataLoader(MyDataset(X_val,   Y_val),   batch_size=batch_size)\n",
    "test       = DataLoader(MyDataset(X_test,  Y_test),  batch_size=batch_size)"
   ]
  },
  {
   "cell_type": "code",
   "execution_count": 5,
   "metadata": {},
   "outputs": [],
   "source": [
    "# Define our CNN\n",
    "class CNN(nn.Module):\n",
    "\n",
    "    def __init__(self):\n",
    "        super().__init__()\n",
    "        self.layer1 = nn.Sequential(\n",
    "            nn.Conv2d(2, 16, kernel_size=5, padding=2),\n",
    "            nn.BatchNorm2d(16),\n",
    "            nn.ReLU(),\n",
    "            nn.MaxPool2d(2))\n",
    "        self.layer2 = nn.Sequential(\n",
    "            nn.Conv2d(16, 32, kernel_size=5, padding=2),\n",
    "            nn.BatchNorm2d(32),\n",
    "            nn.ReLU(),\n",
    "            nn.MaxPool2d(2))\n",
    "        self.fc = nn.Linear(100*100*2, 4)\n",
    "        self.sig = nn.Sigmoid()\n",
    "\n",
    "    def forward(self, x):\n",
    "        out = self.layer1(x)\n",
    "        out = self.layer2(out)\n",
    "        out = out.view(out.size(0), -1)\n",
    "        out = self.sig(self.fc(out))\n",
    "        return out"
   ]
  },
  {
   "cell_type": "code",
   "execution_count": 7,
   "metadata": {
    "scrolled": false
   },
   "outputs": [
    {
     "data": {
      "application/vnd.jupyter.widget-view+json": {
       "model_id": "4d2ccf01a69849ce8ea7909bed7c26f8",
       "version_major": 2,
       "version_minor": 0
      },
      "text/plain": [
       "HBox(children=(FloatProgress(value=0.0, description='Epochs', max=50.0, style=ProgressStyle(description_width=…"
      ]
     },
     "metadata": {},
     "output_type": "display_data"
    },
    {
     "data": {
      "application/vnd.jupyter.widget-view+json": {
       "model_id": "",
       "version_major": 2,
       "version_minor": 0
      },
      "text/plain": [
       "HBox(children=(FloatProgress(value=0.0, description='Train batches', max=1.0, style=ProgressStyle(description_…"
      ]
     },
     "metadata": {},
     "output_type": "display_data"
    },
    {
     "data": {
      "application/vnd.jupyter.widget-view+json": {
       "model_id": "",
       "version_major": 2,
       "version_minor": 0
      },
      "text/plain": [
       "HBox(children=(FloatProgress(value=0.0, description='Validation batches', max=1.0, style=ProgressStyle(descrip…"
      ]
     },
     "metadata": {},
     "output_type": "display_data"
    },
    {
     "data": {
      "application/vnd.jupyter.widget-view+json": {
       "model_id": "",
       "version_major": 2,
       "version_minor": 0
      },
      "text/plain": [
       "HBox(children=(FloatProgress(value=0.0, description='Train batches', max=1.0, style=ProgressStyle(description_…"
      ]
     },
     "metadata": {},
     "output_type": "display_data"
    },
    {
     "data": {
      "application/vnd.jupyter.widget-view+json": {
       "model_id": "",
       "version_major": 2,
       "version_minor": 0
      },
      "text/plain": [
       "HBox(children=(FloatProgress(value=0.0, description='Validation batches', max=1.0, style=ProgressStyle(descrip…"
      ]
     },
     "metadata": {},
     "output_type": "display_data"
    },
    {
     "data": {
      "application/vnd.jupyter.widget-view+json": {
       "model_id": "",
       "version_major": 2,
       "version_minor": 0
      },
      "text/plain": [
       "HBox(children=(FloatProgress(value=0.0, description='Train batches', max=1.0, style=ProgressStyle(description_…"
      ]
     },
     "metadata": {},
     "output_type": "display_data"
    },
    {
     "data": {
      "application/vnd.jupyter.widget-view+json": {
       "model_id": "",
       "version_major": 2,
       "version_minor": 0
      },
      "text/plain": [
       "HBox(children=(FloatProgress(value=0.0, description='Validation batches', max=1.0, style=ProgressStyle(descrip…"
      ]
     },
     "metadata": {},
     "output_type": "display_data"
    },
    {
     "data": {
      "application/vnd.jupyter.widget-view+json": {
       "model_id": "",
       "version_major": 2,
       "version_minor": 0
      },
      "text/plain": [
       "HBox(children=(FloatProgress(value=0.0, description='Train batches', max=1.0, style=ProgressStyle(description_…"
      ]
     },
     "metadata": {},
     "output_type": "display_data"
    },
    {
     "data": {
      "application/vnd.jupyter.widget-view+json": {
       "model_id": "",
       "version_major": 2,
       "version_minor": 0
      },
      "text/plain": [
       "HBox(children=(FloatProgress(value=0.0, description='Validation batches', max=1.0, style=ProgressStyle(descrip…"
      ]
     },
     "metadata": {},
     "output_type": "display_data"
    },
    {
     "data": {
      "application/vnd.jupyter.widget-view+json": {
       "model_id": "",
       "version_major": 2,
       "version_minor": 0
      },
      "text/plain": [
       "HBox(children=(FloatProgress(value=0.0, description='Train batches', max=1.0, style=ProgressStyle(description_…"
      ]
     },
     "metadata": {},
     "output_type": "display_data"
    },
    {
     "data": {
      "application/vnd.jupyter.widget-view+json": {
       "model_id": "",
       "version_major": 2,
       "version_minor": 0
      },
      "text/plain": [
       "HBox(children=(FloatProgress(value=0.0, description='Validation batches', max=1.0, style=ProgressStyle(descrip…"
      ]
     },
     "metadata": {},
     "output_type": "display_data"
    },
    {
     "data": {
      "application/vnd.jupyter.widget-view+json": {
       "model_id": "",
       "version_major": 2,
       "version_minor": 0
      },
      "text/plain": [
       "HBox(children=(FloatProgress(value=0.0, description='Train batches', max=1.0, style=ProgressStyle(description_…"
      ]
     },
     "metadata": {},
     "output_type": "display_data"
    },
    {
     "data": {
      "application/vnd.jupyter.widget-view+json": {
       "model_id": "",
       "version_major": 2,
       "version_minor": 0
      },
      "text/plain": [
       "HBox(children=(FloatProgress(value=0.0, description='Validation batches', max=1.0, style=ProgressStyle(descrip…"
      ]
     },
     "metadata": {},
     "output_type": "display_data"
    },
    {
     "data": {
      "application/vnd.jupyter.widget-view+json": {
       "model_id": "",
       "version_major": 2,
       "version_minor": 0
      },
      "text/plain": [
       "HBox(children=(FloatProgress(value=0.0, description='Train batches', max=1.0, style=ProgressStyle(description_…"
      ]
     },
     "metadata": {},
     "output_type": "display_data"
    },
    {
     "data": {
      "application/vnd.jupyter.widget-view+json": {
       "model_id": "",
       "version_major": 2,
       "version_minor": 0
      },
      "text/plain": [
       "HBox(children=(FloatProgress(value=0.0, description='Validation batches', max=1.0, style=ProgressStyle(descrip…"
      ]
     },
     "metadata": {},
     "output_type": "display_data"
    },
    {
     "data": {
      "application/vnd.jupyter.widget-view+json": {
       "model_id": "",
       "version_major": 2,
       "version_minor": 0
      },
      "text/plain": [
       "HBox(children=(FloatProgress(value=0.0, description='Train batches', max=1.0, style=ProgressStyle(description_…"
      ]
     },
     "metadata": {},
     "output_type": "display_data"
    },
    {
     "data": {
      "application/vnd.jupyter.widget-view+json": {
       "model_id": "",
       "version_major": 2,
       "version_minor": 0
      },
      "text/plain": [
       "HBox(children=(FloatProgress(value=0.0, description='Validation batches', max=1.0, style=ProgressStyle(descrip…"
      ]
     },
     "metadata": {},
     "output_type": "display_data"
    },
    {
     "data": {
      "application/vnd.jupyter.widget-view+json": {
       "model_id": "",
       "version_major": 2,
       "version_minor": 0
      },
      "text/plain": [
       "HBox(children=(FloatProgress(value=0.0, description='Train batches', max=1.0, style=ProgressStyle(description_…"
      ]
     },
     "metadata": {},
     "output_type": "display_data"
    },
    {
     "data": {
      "application/vnd.jupyter.widget-view+json": {
       "model_id": "",
       "version_major": 2,
       "version_minor": 0
      },
      "text/plain": [
       "HBox(children=(FloatProgress(value=0.0, description='Validation batches', max=1.0, style=ProgressStyle(descrip…"
      ]
     },
     "metadata": {},
     "output_type": "display_data"
    },
    {
     "data": {
      "application/vnd.jupyter.widget-view+json": {
       "model_id": "",
       "version_major": 2,
       "version_minor": 0
      },
      "text/plain": [
       "HBox(children=(FloatProgress(value=0.0, description='Train batches', max=1.0, style=ProgressStyle(description_…"
      ]
     },
     "metadata": {},
     "output_type": "display_data"
    },
    {
     "data": {
      "application/vnd.jupyter.widget-view+json": {
       "model_id": "",
       "version_major": 2,
       "version_minor": 0
      },
      "text/plain": [
       "HBox(children=(FloatProgress(value=0.0, description='Validation batches', max=1.0, style=ProgressStyle(descrip…"
      ]
     },
     "metadata": {},
     "output_type": "display_data"
    },
    {
     "data": {
      "application/vnd.jupyter.widget-view+json": {
       "model_id": "",
       "version_major": 2,
       "version_minor": 0
      },
      "text/plain": [
       "HBox(children=(FloatProgress(value=0.0, description='Train batches', max=1.0, style=ProgressStyle(description_…"
      ]
     },
     "metadata": {},
     "output_type": "display_data"
    },
    {
     "data": {
      "application/vnd.jupyter.widget-view+json": {
       "model_id": "",
       "version_major": 2,
       "version_minor": 0
      },
      "text/plain": [
       "HBox(children=(FloatProgress(value=0.0, description='Validation batches', max=1.0, style=ProgressStyle(descrip…"
      ]
     },
     "metadata": {},
     "output_type": "display_data"
    },
    {
     "data": {
      "application/vnd.jupyter.widget-view+json": {
       "model_id": "",
       "version_major": 2,
       "version_minor": 0
      },
      "text/plain": [
       "HBox(children=(FloatProgress(value=0.0, description='Train batches', max=1.0, style=ProgressStyle(description_…"
      ]
     },
     "metadata": {},
     "output_type": "display_data"
    },
    {
     "data": {
      "application/vnd.jupyter.widget-view+json": {
       "model_id": "",
       "version_major": 2,
       "version_minor": 0
      },
      "text/plain": [
       "HBox(children=(FloatProgress(value=0.0, description='Validation batches', max=1.0, style=ProgressStyle(descrip…"
      ]
     },
     "metadata": {},
     "output_type": "display_data"
    },
    {
     "data": {
      "application/vnd.jupyter.widget-view+json": {
       "model_id": "",
       "version_major": 2,
       "version_minor": 0
      },
      "text/plain": [
       "HBox(children=(FloatProgress(value=0.0, description='Train batches', max=1.0, style=ProgressStyle(description_…"
      ]
     },
     "metadata": {},
     "output_type": "display_data"
    },
    {
     "data": {
      "application/vnd.jupyter.widget-view+json": {
       "model_id": "",
       "version_major": 2,
       "version_minor": 0
      },
      "text/plain": [
       "HBox(children=(FloatProgress(value=0.0, description='Validation batches', max=1.0, style=ProgressStyle(descrip…"
      ]
     },
     "metadata": {},
     "output_type": "display_data"
    },
    {
     "data": {
      "application/vnd.jupyter.widget-view+json": {
       "model_id": "",
       "version_major": 2,
       "version_minor": 0
      },
      "text/plain": [
       "HBox(children=(FloatProgress(value=0.0, description='Train batches', max=1.0, style=ProgressStyle(description_…"
      ]
     },
     "metadata": {},
     "output_type": "display_data"
    },
    {
     "data": {
      "application/vnd.jupyter.widget-view+json": {
       "model_id": "",
       "version_major": 2,
       "version_minor": 0
      },
      "text/plain": [
       "HBox(children=(FloatProgress(value=0.0, description='Validation batches', max=1.0, style=ProgressStyle(descrip…"
      ]
     },
     "metadata": {},
     "output_type": "display_data"
    },
    {
     "data": {
      "application/vnd.jupyter.widget-view+json": {
       "model_id": "",
       "version_major": 2,
       "version_minor": 0
      },
      "text/plain": [
       "HBox(children=(FloatProgress(value=0.0, description='Train batches', max=1.0, style=ProgressStyle(description_…"
      ]
     },
     "metadata": {},
     "output_type": "display_data"
    },
    {
     "data": {
      "application/vnd.jupyter.widget-view+json": {
       "model_id": "",
       "version_major": 2,
       "version_minor": 0
      },
      "text/plain": [
       "HBox(children=(FloatProgress(value=0.0, description='Validation batches', max=1.0, style=ProgressStyle(descrip…"
      ]
     },
     "metadata": {},
     "output_type": "display_data"
    },
    {
     "data": {
      "application/vnd.jupyter.widget-view+json": {
       "model_id": "",
       "version_major": 2,
       "version_minor": 0
      },
      "text/plain": [
       "HBox(children=(FloatProgress(value=0.0, description='Train batches', max=1.0, style=ProgressStyle(description_…"
      ]
     },
     "metadata": {},
     "output_type": "display_data"
    },
    {
     "data": {
      "application/vnd.jupyter.widget-view+json": {
       "model_id": "",
       "version_major": 2,
       "version_minor": 0
      },
      "text/plain": [
       "HBox(children=(FloatProgress(value=0.0, description='Validation batches', max=1.0, style=ProgressStyle(descrip…"
      ]
     },
     "metadata": {},
     "output_type": "display_data"
    },
    {
     "data": {
      "application/vnd.jupyter.widget-view+json": {
       "model_id": "",
       "version_major": 2,
       "version_minor": 0
      },
      "text/plain": [
       "HBox(children=(FloatProgress(value=0.0, description='Train batches', max=1.0, style=ProgressStyle(description_…"
      ]
     },
     "metadata": {},
     "output_type": "display_data"
    },
    {
     "data": {
      "application/vnd.jupyter.widget-view+json": {
       "model_id": "",
       "version_major": 2,
       "version_minor": 0
      },
      "text/plain": [
       "HBox(children=(FloatProgress(value=0.0, description='Validation batches', max=1.0, style=ProgressStyle(descrip…"
      ]
     },
     "metadata": {},
     "output_type": "display_data"
    },
    {
     "data": {
      "application/vnd.jupyter.widget-view+json": {
       "model_id": "",
       "version_major": 2,
       "version_minor": 0
      },
      "text/plain": [
       "HBox(children=(FloatProgress(value=0.0, description='Train batches', max=1.0, style=ProgressStyle(description_…"
      ]
     },
     "metadata": {},
     "output_type": "display_data"
    },
    {
     "data": {
      "application/vnd.jupyter.widget-view+json": {
       "model_id": "",
       "version_major": 2,
       "version_minor": 0
      },
      "text/plain": [
       "HBox(children=(FloatProgress(value=0.0, description='Validation batches', max=1.0, style=ProgressStyle(descrip…"
      ]
     },
     "metadata": {},
     "output_type": "display_data"
    },
    {
     "data": {
      "application/vnd.jupyter.widget-view+json": {
       "model_id": "",
       "version_major": 2,
       "version_minor": 0
      },
      "text/plain": [
       "HBox(children=(FloatProgress(value=0.0, description='Train batches', max=1.0, style=ProgressStyle(description_…"
      ]
     },
     "metadata": {},
     "output_type": "display_data"
    },
    {
     "data": {
      "application/vnd.jupyter.widget-view+json": {
       "model_id": "",
       "version_major": 2,
       "version_minor": 0
      },
      "text/plain": [
       "HBox(children=(FloatProgress(value=0.0, description='Validation batches', max=1.0, style=ProgressStyle(descrip…"
      ]
     },
     "metadata": {},
     "output_type": "display_data"
    },
    {
     "data": {
      "application/vnd.jupyter.widget-view+json": {
       "model_id": "",
       "version_major": 2,
       "version_minor": 0
      },
      "text/plain": [
       "HBox(children=(FloatProgress(value=0.0, description='Train batches', max=1.0, style=ProgressStyle(description_…"
      ]
     },
     "metadata": {},
     "output_type": "display_data"
    },
    {
     "data": {
      "application/vnd.jupyter.widget-view+json": {
       "model_id": "",
       "version_major": 2,
       "version_minor": 0
      },
      "text/plain": [
       "HBox(children=(FloatProgress(value=0.0, description='Validation batches', max=1.0, style=ProgressStyle(descrip…"
      ]
     },
     "metadata": {},
     "output_type": "display_data"
    },
    {
     "data": {
      "application/vnd.jupyter.widget-view+json": {
       "model_id": "",
       "version_major": 2,
       "version_minor": 0
      },
      "text/plain": [
       "HBox(children=(FloatProgress(value=0.0, description='Train batches', max=1.0, style=ProgressStyle(description_…"
      ]
     },
     "metadata": {},
     "output_type": "display_data"
    },
    {
     "data": {
      "application/vnd.jupyter.widget-view+json": {
       "model_id": "",
       "version_major": 2,
       "version_minor": 0
      },
      "text/plain": [
       "HBox(children=(FloatProgress(value=0.0, description='Validation batches', max=1.0, style=ProgressStyle(descrip…"
      ]
     },
     "metadata": {},
     "output_type": "display_data"
    },
    {
     "data": {
      "application/vnd.jupyter.widget-view+json": {
       "model_id": "",
       "version_major": 2,
       "version_minor": 0
      },
      "text/plain": [
       "HBox(children=(FloatProgress(value=0.0, description='Train batches', max=1.0, style=ProgressStyle(description_…"
      ]
     },
     "metadata": {},
     "output_type": "display_data"
    },
    {
     "data": {
      "application/vnd.jupyter.widget-view+json": {
       "model_id": "",
       "version_major": 2,
       "version_minor": 0
      },
      "text/plain": [
       "HBox(children=(FloatProgress(value=0.0, description='Validation batches', max=1.0, style=ProgressStyle(descrip…"
      ]
     },
     "metadata": {},
     "output_type": "display_data"
    },
    {
     "data": {
      "application/vnd.jupyter.widget-view+json": {
       "model_id": "",
       "version_major": 2,
       "version_minor": 0
      },
      "text/plain": [
       "HBox(children=(FloatProgress(value=0.0, description='Train batches', max=1.0, style=ProgressStyle(description_…"
      ]
     },
     "metadata": {},
     "output_type": "display_data"
    },
    {
     "data": {
      "application/vnd.jupyter.widget-view+json": {
       "model_id": "",
       "version_major": 2,
       "version_minor": 0
      },
      "text/plain": [
       "HBox(children=(FloatProgress(value=0.0, description='Validation batches', max=1.0, style=ProgressStyle(descrip…"
      ]
     },
     "metadata": {},
     "output_type": "display_data"
    },
    {
     "data": {
      "application/vnd.jupyter.widget-view+json": {
       "model_id": "",
       "version_major": 2,
       "version_minor": 0
      },
      "text/plain": [
       "HBox(children=(FloatProgress(value=0.0, description='Train batches', max=1.0, style=ProgressStyle(description_…"
      ]
     },
     "metadata": {},
     "output_type": "display_data"
    },
    {
     "data": {
      "application/vnd.jupyter.widget-view+json": {
       "model_id": "",
       "version_major": 2,
       "version_minor": 0
      },
      "text/plain": [
       "HBox(children=(FloatProgress(value=0.0, description='Validation batches', max=1.0, style=ProgressStyle(descrip…"
      ]
     },
     "metadata": {},
     "output_type": "display_data"
    },
    {
     "data": {
      "application/vnd.jupyter.widget-view+json": {
       "model_id": "",
       "version_major": 2,
       "version_minor": 0
      },
      "text/plain": [
       "HBox(children=(FloatProgress(value=0.0, description='Train batches', max=1.0, style=ProgressStyle(description_…"
      ]
     },
     "metadata": {},
     "output_type": "display_data"
    },
    {
     "data": {
      "application/vnd.jupyter.widget-view+json": {
       "model_id": "",
       "version_major": 2,
       "version_minor": 0
      },
      "text/plain": [
       "HBox(children=(FloatProgress(value=0.0, description='Validation batches', max=1.0, style=ProgressStyle(descrip…"
      ]
     },
     "metadata": {},
     "output_type": "display_data"
    },
    {
     "data": {
      "application/vnd.jupyter.widget-view+json": {
       "model_id": "",
       "version_major": 2,
       "version_minor": 0
      },
      "text/plain": [
       "HBox(children=(FloatProgress(value=0.0, description='Train batches', max=1.0, style=ProgressStyle(description_…"
      ]
     },
     "metadata": {},
     "output_type": "display_data"
    },
    {
     "data": {
      "application/vnd.jupyter.widget-view+json": {
       "model_id": "",
       "version_major": 2,
       "version_minor": 0
      },
      "text/plain": [
       "HBox(children=(FloatProgress(value=0.0, description='Validation batches', max=1.0, style=ProgressStyle(descrip…"
      ]
     },
     "metadata": {},
     "output_type": "display_data"
    },
    {
     "data": {
      "application/vnd.jupyter.widget-view+json": {
       "model_id": "",
       "version_major": 2,
       "version_minor": 0
      },
      "text/plain": [
       "HBox(children=(FloatProgress(value=0.0, description='Train batches', max=1.0, style=ProgressStyle(description_…"
      ]
     },
     "metadata": {},
     "output_type": "display_data"
    },
    {
     "data": {
      "application/vnd.jupyter.widget-view+json": {
       "model_id": "",
       "version_major": 2,
       "version_minor": 0
      },
      "text/plain": [
       "HBox(children=(FloatProgress(value=0.0, description='Validation batches', max=1.0, style=ProgressStyle(descrip…"
      ]
     },
     "metadata": {},
     "output_type": "display_data"
    },
    {
     "data": {
      "application/vnd.jupyter.widget-view+json": {
       "model_id": "",
       "version_major": 2,
       "version_minor": 0
      },
      "text/plain": [
       "HBox(children=(FloatProgress(value=0.0, description='Train batches', max=1.0, style=ProgressStyle(description_…"
      ]
     },
     "metadata": {},
     "output_type": "display_data"
    },
    {
     "data": {
      "application/vnd.jupyter.widget-view+json": {
       "model_id": "",
       "version_major": 2,
       "version_minor": 0
      },
      "text/plain": [
       "HBox(children=(FloatProgress(value=0.0, description='Validation batches', max=1.0, style=ProgressStyle(descrip…"
      ]
     },
     "metadata": {},
     "output_type": "display_data"
    },
    {
     "data": {
      "application/vnd.jupyter.widget-view+json": {
       "model_id": "",
       "version_major": 2,
       "version_minor": 0
      },
      "text/plain": [
       "HBox(children=(FloatProgress(value=0.0, description='Train batches', max=1.0, style=ProgressStyle(description_…"
      ]
     },
     "metadata": {},
     "output_type": "display_data"
    },
    {
     "data": {
      "application/vnd.jupyter.widget-view+json": {
       "model_id": "",
       "version_major": 2,
       "version_minor": 0
      },
      "text/plain": [
       "HBox(children=(FloatProgress(value=0.0, description='Validation batches', max=1.0, style=ProgressStyle(descrip…"
      ]
     },
     "metadata": {},
     "output_type": "display_data"
    },
    {
     "data": {
      "application/vnd.jupyter.widget-view+json": {
       "model_id": "",
       "version_major": 2,
       "version_minor": 0
      },
      "text/plain": [
       "HBox(children=(FloatProgress(value=0.0, description='Train batches', max=1.0, style=ProgressStyle(description_…"
      ]
     },
     "metadata": {},
     "output_type": "display_data"
    },
    {
     "data": {
      "application/vnd.jupyter.widget-view+json": {
       "model_id": "",
       "version_major": 2,
       "version_minor": 0
      },
      "text/plain": [
       "HBox(children=(FloatProgress(value=0.0, description='Validation batches', max=1.0, style=ProgressStyle(descrip…"
      ]
     },
     "metadata": {},
     "output_type": "display_data"
    },
    {
     "data": {
      "application/vnd.jupyter.widget-view+json": {
       "model_id": "",
       "version_major": 2,
       "version_minor": 0
      },
      "text/plain": [
       "HBox(children=(FloatProgress(value=0.0, description='Train batches', max=1.0, style=ProgressStyle(description_…"
      ]
     },
     "metadata": {},
     "output_type": "display_data"
    },
    {
     "data": {
      "application/vnd.jupyter.widget-view+json": {
       "model_id": "",
       "version_major": 2,
       "version_minor": 0
      },
      "text/plain": [
       "HBox(children=(FloatProgress(value=0.0, description='Validation batches', max=1.0, style=ProgressStyle(descrip…"
      ]
     },
     "metadata": {},
     "output_type": "display_data"
    },
    {
     "data": {
      "application/vnd.jupyter.widget-view+json": {
       "model_id": "",
       "version_major": 2,
       "version_minor": 0
      },
      "text/plain": [
       "HBox(children=(FloatProgress(value=0.0, description='Train batches', max=1.0, style=ProgressStyle(description_…"
      ]
     },
     "metadata": {},
     "output_type": "display_data"
    },
    {
     "data": {
      "application/vnd.jupyter.widget-view+json": {
       "model_id": "",
       "version_major": 2,
       "version_minor": 0
      },
      "text/plain": [
       "HBox(children=(FloatProgress(value=0.0, description='Validation batches', max=1.0, style=ProgressStyle(descrip…"
      ]
     },
     "metadata": {},
     "output_type": "display_data"
    },
    {
     "data": {
      "application/vnd.jupyter.widget-view+json": {
       "model_id": "",
       "version_major": 2,
       "version_minor": 0
      },
      "text/plain": [
       "HBox(children=(FloatProgress(value=0.0, description='Train batches', max=1.0, style=ProgressStyle(description_…"
      ]
     },
     "metadata": {},
     "output_type": "display_data"
    },
    {
     "data": {
      "application/vnd.jupyter.widget-view+json": {
       "model_id": "",
       "version_major": 2,
       "version_minor": 0
      },
      "text/plain": [
       "HBox(children=(FloatProgress(value=0.0, description='Validation batches', max=1.0, style=ProgressStyle(descrip…"
      ]
     },
     "metadata": {},
     "output_type": "display_data"
    },
    {
     "data": {
      "application/vnd.jupyter.widget-view+json": {
       "model_id": "",
       "version_major": 2,
       "version_minor": 0
      },
      "text/plain": [
       "HBox(children=(FloatProgress(value=0.0, description='Train batches', max=1.0, style=ProgressStyle(description_…"
      ]
     },
     "metadata": {},
     "output_type": "display_data"
    },
    {
     "data": {
      "application/vnd.jupyter.widget-view+json": {
       "model_id": "",
       "version_major": 2,
       "version_minor": 0
      },
      "text/plain": [
       "HBox(children=(FloatProgress(value=0.0, description='Validation batches', max=1.0, style=ProgressStyle(descrip…"
      ]
     },
     "metadata": {},
     "output_type": "display_data"
    },
    {
     "data": {
      "application/vnd.jupyter.widget-view+json": {
       "model_id": "",
       "version_major": 2,
       "version_minor": 0
      },
      "text/plain": [
       "HBox(children=(FloatProgress(value=0.0, description='Train batches', max=1.0, style=ProgressStyle(description_…"
      ]
     },
     "metadata": {},
     "output_type": "display_data"
    },
    {
     "data": {
      "application/vnd.jupyter.widget-view+json": {
       "model_id": "",
       "version_major": 2,
       "version_minor": 0
      },
      "text/plain": [
       "HBox(children=(FloatProgress(value=0.0, description='Validation batches', max=1.0, style=ProgressStyle(descrip…"
      ]
     },
     "metadata": {},
     "output_type": "display_data"
    },
    {
     "data": {
      "application/vnd.jupyter.widget-view+json": {
       "model_id": "",
       "version_major": 2,
       "version_minor": 0
      },
      "text/plain": [
       "HBox(children=(FloatProgress(value=0.0, description='Train batches', max=1.0, style=ProgressStyle(description_…"
      ]
     },
     "metadata": {},
     "output_type": "display_data"
    },
    {
     "data": {
      "application/vnd.jupyter.widget-view+json": {
       "model_id": "",
       "version_major": 2,
       "version_minor": 0
      },
      "text/plain": [
       "HBox(children=(FloatProgress(value=0.0, description='Validation batches', max=1.0, style=ProgressStyle(descrip…"
      ]
     },
     "metadata": {},
     "output_type": "display_data"
    },
    {
     "data": {
      "application/vnd.jupyter.widget-view+json": {
       "model_id": "",
       "version_major": 2,
       "version_minor": 0
      },
      "text/plain": [
       "HBox(children=(FloatProgress(value=0.0, description='Train batches', max=1.0, style=ProgressStyle(description_…"
      ]
     },
     "metadata": {},
     "output_type": "display_data"
    },
    {
     "data": {
      "application/vnd.jupyter.widget-view+json": {
       "model_id": "",
       "version_major": 2,
       "version_minor": 0
      },
      "text/plain": [
       "HBox(children=(FloatProgress(value=0.0, description='Validation batches', max=1.0, style=ProgressStyle(descrip…"
      ]
     },
     "metadata": {},
     "output_type": "display_data"
    },
    {
     "data": {
      "application/vnd.jupyter.widget-view+json": {
       "model_id": "",
       "version_major": 2,
       "version_minor": 0
      },
      "text/plain": [
       "HBox(children=(FloatProgress(value=0.0, description='Train batches', max=1.0, style=ProgressStyle(description_…"
      ]
     },
     "metadata": {},
     "output_type": "display_data"
    },
    {
     "data": {
      "application/vnd.jupyter.widget-view+json": {
       "model_id": "",
       "version_major": 2,
       "version_minor": 0
      },
      "text/plain": [
       "HBox(children=(FloatProgress(value=0.0, description='Validation batches', max=1.0, style=ProgressStyle(descrip…"
      ]
     },
     "metadata": {},
     "output_type": "display_data"
    },
    {
     "data": {
      "application/vnd.jupyter.widget-view+json": {
       "model_id": "",
       "version_major": 2,
       "version_minor": 0
      },
      "text/plain": [
       "HBox(children=(FloatProgress(value=0.0, description='Train batches', max=1.0, style=ProgressStyle(description_…"
      ]
     },
     "metadata": {},
     "output_type": "display_data"
    },
    {
     "data": {
      "application/vnd.jupyter.widget-view+json": {
       "model_id": "",
       "version_major": 2,
       "version_minor": 0
      },
      "text/plain": [
       "HBox(children=(FloatProgress(value=0.0, description='Validation batches', max=1.0, style=ProgressStyle(descrip…"
      ]
     },
     "metadata": {},
     "output_type": "display_data"
    },
    {
     "data": {
      "application/vnd.jupyter.widget-view+json": {
       "model_id": "",
       "version_major": 2,
       "version_minor": 0
      },
      "text/plain": [
       "HBox(children=(FloatProgress(value=0.0, description='Train batches', max=1.0, style=ProgressStyle(description_…"
      ]
     },
     "metadata": {},
     "output_type": "display_data"
    },
    {
     "data": {
      "application/vnd.jupyter.widget-view+json": {
       "model_id": "",
       "version_major": 2,
       "version_minor": 0
      },
      "text/plain": [
       "HBox(children=(FloatProgress(value=0.0, description='Validation batches', max=1.0, style=ProgressStyle(descrip…"
      ]
     },
     "metadata": {},
     "output_type": "display_data"
    },
    {
     "data": {
      "application/vnd.jupyter.widget-view+json": {
       "model_id": "",
       "version_major": 2,
       "version_minor": 0
      },
      "text/plain": [
       "HBox(children=(FloatProgress(value=0.0, description='Train batches', max=1.0, style=ProgressStyle(description_…"
      ]
     },
     "metadata": {},
     "output_type": "display_data"
    },
    {
     "data": {
      "application/vnd.jupyter.widget-view+json": {
       "model_id": "",
       "version_major": 2,
       "version_minor": 0
      },
      "text/plain": [
       "HBox(children=(FloatProgress(value=0.0, description='Validation batches', max=1.0, style=ProgressStyle(descrip…"
      ]
     },
     "metadata": {},
     "output_type": "display_data"
    },
    {
     "data": {
      "application/vnd.jupyter.widget-view+json": {
       "model_id": "",
       "version_major": 2,
       "version_minor": 0
      },
      "text/plain": [
       "HBox(children=(FloatProgress(value=0.0, description='Train batches', max=1.0, style=ProgressStyle(description_…"
      ]
     },
     "metadata": {},
     "output_type": "display_data"
    },
    {
     "data": {
      "application/vnd.jupyter.widget-view+json": {
       "model_id": "",
       "version_major": 2,
       "version_minor": 0
      },
      "text/plain": [
       "HBox(children=(FloatProgress(value=0.0, description='Validation batches', max=1.0, style=ProgressStyle(descrip…"
      ]
     },
     "metadata": {},
     "output_type": "display_data"
    },
    {
     "name": "stdout",
     "output_type": "stream",
     "text": [
      "Early stopping at epoch 41 out of 50 total.\n"
     ]
    },
    {
     "data": {
      "application/vnd.jupyter.widget-view+json": {
       "model_id": "",
       "version_major": 2,
       "version_minor": 0
      },
      "text/plain": [
       "HBox(children=(FloatProgress(value=0.0, description='Test batches', max=1.0, style=ProgressStyle(description_w…"
      ]
     },
     "metadata": {},
     "output_type": "display_data"
    }
   ],
   "source": [
    "# Training parameters\n",
    "num_epochs = 50\n",
    "learning_rate = 0.0001\n",
    "\n",
    "# Model, loss, and optimizer\n",
    "cnn = CNN()\n",
    "cnn = cnn.to(device)\n",
    "criterion = nn.MSELoss()\n",
    "optimizer = optim.Adam(cnn.parameters(), lr=learning_rate)\n",
    "\n",
    "# Train the model\n",
    "validation_losses = []\n",
    "for epoch in tqdm(range(num_epochs), desc='Epochs', leave=False):\n",
    "\n",
    "    # Training loss\n",
    "    cnn.train()\n",
    "    for i, (images, targets) in enumerate(tqdm(training, desc='Train batches', leave=False)):\n",
    "\n",
    "        images, targets = images.to(device, dtype=torch.float), targets.to(device, dtype=torch.float)\n",
    "        outputs = cnn(images)\n",
    "        loss = criterion(outputs, targets)\n",
    "        optimizer.zero_grad()\n",
    "        loss.backward()\n",
    "        optimizer.step()\n",
    "\n",
    "    # Validation loss\n",
    "    cnn.eval()\n",
    "    epoch_losses = []\n",
    "    for i, (images, targets) in enumerate(tqdm(validation, desc='Validation batches', leave=False)):\n",
    "\n",
    "        images, targets = images.to(device, dtype=torch.float), targets.to(device, dtype=torch.float)\n",
    "        outputs = cnn(images)\n",
    "        loss_val = criterion(outputs, targets).item()\n",
    "        epoch_losses.append(loss_val)\n",
    "\n",
    "    # Early stopping\n",
    "    patience = 7\n",
    "    validation_losses.append(np.mean(epoch_losses))\n",
    "    if len(validation_losses) >= patience and np.argmin(validation_losses[-patience:]) == 0:\n",
    "        print(f\"Early stopping at epoch {epoch} out of {num_epochs} total.\")\n",
    "        break\n",
    "\n",
    "else:\n",
    "    print(f\"No early stopping used. Completed {num_epochs} epochs.\")\n",
    "\n",
    "# Test set\n",
    "cnn.eval()\n",
    "test_losses = []\n",
    "for i, (images, targets) in enumerate(tqdm(test, desc='Test batches', leave=False)):\n",
    "\n",
    "    images, targets = images.to(device, dtype=torch.float), targets.to(device, dtype=torch.float)\n",
    "    outputs = cnn(images)\n",
    "    loss_val = criterion(outputs, targets).item()\n",
    "    test_losses.append(loss_val)"
   ]
  },
  {
   "cell_type": "code",
   "execution_count": 8,
   "metadata": {
    "scrolled": false
   },
   "outputs": [
    {
     "data": {
      "application/javascript": [
       "/* Put everything inside the global mpl namespace */\n",
       "window.mpl = {};\n",
       "\n",
       "\n",
       "mpl.get_websocket_type = function() {\n",
       "    if (typeof(WebSocket) !== 'undefined') {\n",
       "        return WebSocket;\n",
       "    } else if (typeof(MozWebSocket) !== 'undefined') {\n",
       "        return MozWebSocket;\n",
       "    } else {\n",
       "        alert('Your browser does not have WebSocket support. ' +\n",
       "              'Please try Chrome, Safari or Firefox ≥ 6. ' +\n",
       "              'Firefox 4 and 5 are also supported but you ' +\n",
       "              'have to enable WebSockets in about:config.');\n",
       "    };\n",
       "}\n",
       "\n",
       "mpl.figure = function(figure_id, websocket, ondownload, parent_element) {\n",
       "    this.id = figure_id;\n",
       "\n",
       "    this.ws = websocket;\n",
       "\n",
       "    this.supports_binary = (this.ws.binaryType != undefined);\n",
       "\n",
       "    if (!this.supports_binary) {\n",
       "        var warnings = document.getElementById(\"mpl-warnings\");\n",
       "        if (warnings) {\n",
       "            warnings.style.display = 'block';\n",
       "            warnings.textContent = (\n",
       "                \"This browser does not support binary websocket messages. \" +\n",
       "                    \"Performance may be slow.\");\n",
       "        }\n",
       "    }\n",
       "\n",
       "    this.imageObj = new Image();\n",
       "\n",
       "    this.context = undefined;\n",
       "    this.message = undefined;\n",
       "    this.canvas = undefined;\n",
       "    this.rubberband_canvas = undefined;\n",
       "    this.rubberband_context = undefined;\n",
       "    this.format_dropdown = undefined;\n",
       "\n",
       "    this.image_mode = 'full';\n",
       "\n",
       "    this.root = $('<div/>');\n",
       "    this._root_extra_style(this.root)\n",
       "    this.root.attr('style', 'display: inline-block');\n",
       "\n",
       "    $(parent_element).append(this.root);\n",
       "\n",
       "    this._init_header(this);\n",
       "    this._init_canvas(this);\n",
       "    this._init_toolbar(this);\n",
       "\n",
       "    var fig = this;\n",
       "\n",
       "    this.waiting = false;\n",
       "\n",
       "    this.ws.onopen =  function () {\n",
       "            fig.send_message(\"supports_binary\", {value: fig.supports_binary});\n",
       "            fig.send_message(\"send_image_mode\", {});\n",
       "            if (mpl.ratio != 1) {\n",
       "                fig.send_message(\"set_dpi_ratio\", {'dpi_ratio': mpl.ratio});\n",
       "            }\n",
       "            fig.send_message(\"refresh\", {});\n",
       "        }\n",
       "\n",
       "    this.imageObj.onload = function() {\n",
       "            if (fig.image_mode == 'full') {\n",
       "                // Full images could contain transparency (where diff images\n",
       "                // almost always do), so we need to clear the canvas so that\n",
       "                // there is no ghosting.\n",
       "                fig.context.clearRect(0, 0, fig.canvas.width, fig.canvas.height);\n",
       "            }\n",
       "            fig.context.drawImage(fig.imageObj, 0, 0);\n",
       "        };\n",
       "\n",
       "    this.imageObj.onunload = function() {\n",
       "        fig.ws.close();\n",
       "    }\n",
       "\n",
       "    this.ws.onmessage = this._make_on_message_function(this);\n",
       "\n",
       "    this.ondownload = ondownload;\n",
       "}\n",
       "\n",
       "mpl.figure.prototype._init_header = function() {\n",
       "    var titlebar = $(\n",
       "        '<div class=\"ui-dialog-titlebar ui-widget-header ui-corner-all ' +\n",
       "        'ui-helper-clearfix\"/>');\n",
       "    var titletext = $(\n",
       "        '<div class=\"ui-dialog-title\" style=\"width: 100%; ' +\n",
       "        'text-align: center; padding: 3px;\"/>');\n",
       "    titlebar.append(titletext)\n",
       "    this.root.append(titlebar);\n",
       "    this.header = titletext[0];\n",
       "}\n",
       "\n",
       "\n",
       "\n",
       "mpl.figure.prototype._canvas_extra_style = function(canvas_div) {\n",
       "\n",
       "}\n",
       "\n",
       "\n",
       "mpl.figure.prototype._root_extra_style = function(canvas_div) {\n",
       "\n",
       "}\n",
       "\n",
       "mpl.figure.prototype._init_canvas = function() {\n",
       "    var fig = this;\n",
       "\n",
       "    var canvas_div = $('<div/>');\n",
       "\n",
       "    canvas_div.attr('style', 'position: relative; clear: both; outline: 0');\n",
       "\n",
       "    function canvas_keyboard_event(event) {\n",
       "        return fig.key_event(event, event['data']);\n",
       "    }\n",
       "\n",
       "    canvas_div.keydown('key_press', canvas_keyboard_event);\n",
       "    canvas_div.keyup('key_release', canvas_keyboard_event);\n",
       "    this.canvas_div = canvas_div\n",
       "    this._canvas_extra_style(canvas_div)\n",
       "    this.root.append(canvas_div);\n",
       "\n",
       "    var canvas = $('<canvas/>');\n",
       "    canvas.addClass('mpl-canvas');\n",
       "    canvas.attr('style', \"left: 0; top: 0; z-index: 0; outline: 0\")\n",
       "\n",
       "    this.canvas = canvas[0];\n",
       "    this.context = canvas[0].getContext(\"2d\");\n",
       "\n",
       "    var backingStore = this.context.backingStorePixelRatio ||\n",
       "\tthis.context.webkitBackingStorePixelRatio ||\n",
       "\tthis.context.mozBackingStorePixelRatio ||\n",
       "\tthis.context.msBackingStorePixelRatio ||\n",
       "\tthis.context.oBackingStorePixelRatio ||\n",
       "\tthis.context.backingStorePixelRatio || 1;\n",
       "\n",
       "    mpl.ratio = (window.devicePixelRatio || 1) / backingStore;\n",
       "\n",
       "    var rubberband = $('<canvas/>');\n",
       "    rubberband.attr('style', \"position: absolute; left: 0; top: 0; z-index: 1;\")\n",
       "\n",
       "    var pass_mouse_events = true;\n",
       "\n",
       "    canvas_div.resizable({\n",
       "        start: function(event, ui) {\n",
       "            pass_mouse_events = false;\n",
       "        },\n",
       "        resize: function(event, ui) {\n",
       "            fig.request_resize(ui.size.width, ui.size.height);\n",
       "        },\n",
       "        stop: function(event, ui) {\n",
       "            pass_mouse_events = true;\n",
       "            fig.request_resize(ui.size.width, ui.size.height);\n",
       "        },\n",
       "    });\n",
       "\n",
       "    function mouse_event_fn(event) {\n",
       "        if (pass_mouse_events)\n",
       "            return fig.mouse_event(event, event['data']);\n",
       "    }\n",
       "\n",
       "    rubberband.mousedown('button_press', mouse_event_fn);\n",
       "    rubberband.mouseup('button_release', mouse_event_fn);\n",
       "    // Throttle sequential mouse events to 1 every 20ms.\n",
       "    rubberband.mousemove('motion_notify', mouse_event_fn);\n",
       "\n",
       "    rubberband.mouseenter('figure_enter', mouse_event_fn);\n",
       "    rubberband.mouseleave('figure_leave', mouse_event_fn);\n",
       "\n",
       "    canvas_div.on(\"wheel\", function (event) {\n",
       "        event = event.originalEvent;\n",
       "        event['data'] = 'scroll'\n",
       "        if (event.deltaY < 0) {\n",
       "            event.step = 1;\n",
       "        } else {\n",
       "            event.step = -1;\n",
       "        }\n",
       "        mouse_event_fn(event);\n",
       "    });\n",
       "\n",
       "    canvas_div.append(canvas);\n",
       "    canvas_div.append(rubberband);\n",
       "\n",
       "    this.rubberband = rubberband;\n",
       "    this.rubberband_canvas = rubberband[0];\n",
       "    this.rubberband_context = rubberband[0].getContext(\"2d\");\n",
       "    this.rubberband_context.strokeStyle = \"#000000\";\n",
       "\n",
       "    this._resize_canvas = function(width, height) {\n",
       "        // Keep the size of the canvas, canvas container, and rubber band\n",
       "        // canvas in synch.\n",
       "        canvas_div.css('width', width)\n",
       "        canvas_div.css('height', height)\n",
       "\n",
       "        canvas.attr('width', width * mpl.ratio);\n",
       "        canvas.attr('height', height * mpl.ratio);\n",
       "        canvas.attr('style', 'width: ' + width + 'px; height: ' + height + 'px;');\n",
       "\n",
       "        rubberband.attr('width', width);\n",
       "        rubberband.attr('height', height);\n",
       "    }\n",
       "\n",
       "    // Set the figure to an initial 600x600px, this will subsequently be updated\n",
       "    // upon first draw.\n",
       "    this._resize_canvas(600, 600);\n",
       "\n",
       "    // Disable right mouse context menu.\n",
       "    $(this.rubberband_canvas).bind(\"contextmenu\",function(e){\n",
       "        return false;\n",
       "    });\n",
       "\n",
       "    function set_focus () {\n",
       "        canvas.focus();\n",
       "        canvas_div.focus();\n",
       "    }\n",
       "\n",
       "    window.setTimeout(set_focus, 100);\n",
       "}\n",
       "\n",
       "mpl.figure.prototype._init_toolbar = function() {\n",
       "    var fig = this;\n",
       "\n",
       "    var nav_element = $('<div/>');\n",
       "    nav_element.attr('style', 'width: 100%');\n",
       "    this.root.append(nav_element);\n",
       "\n",
       "    // Define a callback function for later on.\n",
       "    function toolbar_event(event) {\n",
       "        return fig.toolbar_button_onclick(event['data']);\n",
       "    }\n",
       "    function toolbar_mouse_event(event) {\n",
       "        return fig.toolbar_button_onmouseover(event['data']);\n",
       "    }\n",
       "\n",
       "    for(var toolbar_ind in mpl.toolbar_items) {\n",
       "        var name = mpl.toolbar_items[toolbar_ind][0];\n",
       "        var tooltip = mpl.toolbar_items[toolbar_ind][1];\n",
       "        var image = mpl.toolbar_items[toolbar_ind][2];\n",
       "        var method_name = mpl.toolbar_items[toolbar_ind][3];\n",
       "\n",
       "        if (!name) {\n",
       "            // put a spacer in here.\n",
       "            continue;\n",
       "        }\n",
       "        var button = $('<button/>');\n",
       "        button.addClass('ui-button ui-widget ui-state-default ui-corner-all ' +\n",
       "                        'ui-button-icon-only');\n",
       "        button.attr('role', 'button');\n",
       "        button.attr('aria-disabled', 'false');\n",
       "        button.click(method_name, toolbar_event);\n",
       "        button.mouseover(tooltip, toolbar_mouse_event);\n",
       "\n",
       "        var icon_img = $('<span/>');\n",
       "        icon_img.addClass('ui-button-icon-primary ui-icon');\n",
       "        icon_img.addClass(image);\n",
       "        icon_img.addClass('ui-corner-all');\n",
       "\n",
       "        var tooltip_span = $('<span/>');\n",
       "        tooltip_span.addClass('ui-button-text');\n",
       "        tooltip_span.html(tooltip);\n",
       "\n",
       "        button.append(icon_img);\n",
       "        button.append(tooltip_span);\n",
       "\n",
       "        nav_element.append(button);\n",
       "    }\n",
       "\n",
       "    var fmt_picker_span = $('<span/>');\n",
       "\n",
       "    var fmt_picker = $('<select/>');\n",
       "    fmt_picker.addClass('mpl-toolbar-option ui-widget ui-widget-content');\n",
       "    fmt_picker_span.append(fmt_picker);\n",
       "    nav_element.append(fmt_picker_span);\n",
       "    this.format_dropdown = fmt_picker[0];\n",
       "\n",
       "    for (var ind in mpl.extensions) {\n",
       "        var fmt = mpl.extensions[ind];\n",
       "        var option = $(\n",
       "            '<option/>', {selected: fmt === mpl.default_extension}).html(fmt);\n",
       "        fmt_picker.append(option);\n",
       "    }\n",
       "\n",
       "    // Add hover states to the ui-buttons\n",
       "    $( \".ui-button\" ).hover(\n",
       "        function() { $(this).addClass(\"ui-state-hover\");},\n",
       "        function() { $(this).removeClass(\"ui-state-hover\");}\n",
       "    );\n",
       "\n",
       "    var status_bar = $('<span class=\"mpl-message\"/>');\n",
       "    nav_element.append(status_bar);\n",
       "    this.message = status_bar[0];\n",
       "}\n",
       "\n",
       "mpl.figure.prototype.request_resize = function(x_pixels, y_pixels) {\n",
       "    // Request matplotlib to resize the figure. Matplotlib will then trigger a resize in the client,\n",
       "    // which will in turn request a refresh of the image.\n",
       "    this.send_message('resize', {'width': x_pixels, 'height': y_pixels});\n",
       "}\n",
       "\n",
       "mpl.figure.prototype.send_message = function(type, properties) {\n",
       "    properties['type'] = type;\n",
       "    properties['figure_id'] = this.id;\n",
       "    this.ws.send(JSON.stringify(properties));\n",
       "}\n",
       "\n",
       "mpl.figure.prototype.send_draw_message = function() {\n",
       "    if (!this.waiting) {\n",
       "        this.waiting = true;\n",
       "        this.ws.send(JSON.stringify({type: \"draw\", figure_id: this.id}));\n",
       "    }\n",
       "}\n",
       "\n",
       "\n",
       "mpl.figure.prototype.handle_save = function(fig, msg) {\n",
       "    var format_dropdown = fig.format_dropdown;\n",
       "    var format = format_dropdown.options[format_dropdown.selectedIndex].value;\n",
       "    fig.ondownload(fig, format);\n",
       "}\n",
       "\n",
       "\n",
       "mpl.figure.prototype.handle_resize = function(fig, msg) {\n",
       "    var size = msg['size'];\n",
       "    if (size[0] != fig.canvas.width || size[1] != fig.canvas.height) {\n",
       "        fig._resize_canvas(size[0], size[1]);\n",
       "        fig.send_message(\"refresh\", {});\n",
       "    };\n",
       "}\n",
       "\n",
       "mpl.figure.prototype.handle_rubberband = function(fig, msg) {\n",
       "    var x0 = msg['x0'] / mpl.ratio;\n",
       "    var y0 = (fig.canvas.height - msg['y0']) / mpl.ratio;\n",
       "    var x1 = msg['x1'] / mpl.ratio;\n",
       "    var y1 = (fig.canvas.height - msg['y1']) / mpl.ratio;\n",
       "    x0 = Math.floor(x0) + 0.5;\n",
       "    y0 = Math.floor(y0) + 0.5;\n",
       "    x1 = Math.floor(x1) + 0.5;\n",
       "    y1 = Math.floor(y1) + 0.5;\n",
       "    var min_x = Math.min(x0, x1);\n",
       "    var min_y = Math.min(y0, y1);\n",
       "    var width = Math.abs(x1 - x0);\n",
       "    var height = Math.abs(y1 - y0);\n",
       "\n",
       "    fig.rubberband_context.clearRect(\n",
       "        0, 0, fig.canvas.width / mpl.ratio, fig.canvas.height / mpl.ratio);\n",
       "\n",
       "    fig.rubberband_context.strokeRect(min_x, min_y, width, height);\n",
       "}\n",
       "\n",
       "mpl.figure.prototype.handle_figure_label = function(fig, msg) {\n",
       "    // Updates the figure title.\n",
       "    fig.header.textContent = msg['label'];\n",
       "}\n",
       "\n",
       "mpl.figure.prototype.handle_cursor = function(fig, msg) {\n",
       "    var cursor = msg['cursor'];\n",
       "    switch(cursor)\n",
       "    {\n",
       "    case 0:\n",
       "        cursor = 'pointer';\n",
       "        break;\n",
       "    case 1:\n",
       "        cursor = 'default';\n",
       "        break;\n",
       "    case 2:\n",
       "        cursor = 'crosshair';\n",
       "        break;\n",
       "    case 3:\n",
       "        cursor = 'move';\n",
       "        break;\n",
       "    }\n",
       "    fig.rubberband_canvas.style.cursor = cursor;\n",
       "}\n",
       "\n",
       "mpl.figure.prototype.handle_message = function(fig, msg) {\n",
       "    fig.message.textContent = msg['message'];\n",
       "}\n",
       "\n",
       "mpl.figure.prototype.handle_draw = function(fig, msg) {\n",
       "    // Request the server to send over a new figure.\n",
       "    fig.send_draw_message();\n",
       "}\n",
       "\n",
       "mpl.figure.prototype.handle_image_mode = function(fig, msg) {\n",
       "    fig.image_mode = msg['mode'];\n",
       "}\n",
       "\n",
       "mpl.figure.prototype.updated_canvas_event = function() {\n",
       "    // Called whenever the canvas gets updated.\n",
       "    this.send_message(\"ack\", {});\n",
       "}\n",
       "\n",
       "// A function to construct a web socket function for onmessage handling.\n",
       "// Called in the figure constructor.\n",
       "mpl.figure.prototype._make_on_message_function = function(fig) {\n",
       "    return function socket_on_message(evt) {\n",
       "        if (evt.data instanceof Blob) {\n",
       "            /* FIXME: We get \"Resource interpreted as Image but\n",
       "             * transferred with MIME type text/plain:\" errors on\n",
       "             * Chrome.  But how to set the MIME type?  It doesn't seem\n",
       "             * to be part of the websocket stream */\n",
       "            evt.data.type = \"image/png\";\n",
       "\n",
       "            /* Free the memory for the previous frames */\n",
       "            if (fig.imageObj.src) {\n",
       "                (window.URL || window.webkitURL).revokeObjectURL(\n",
       "                    fig.imageObj.src);\n",
       "            }\n",
       "\n",
       "            fig.imageObj.src = (window.URL || window.webkitURL).createObjectURL(\n",
       "                evt.data);\n",
       "            fig.updated_canvas_event();\n",
       "            fig.waiting = false;\n",
       "            return;\n",
       "        }\n",
       "        else if (typeof evt.data === 'string' && evt.data.slice(0, 21) == \"data:image/png;base64\") {\n",
       "            fig.imageObj.src = evt.data;\n",
       "            fig.updated_canvas_event();\n",
       "            fig.waiting = false;\n",
       "            return;\n",
       "        }\n",
       "\n",
       "        var msg = JSON.parse(evt.data);\n",
       "        var msg_type = msg['type'];\n",
       "\n",
       "        // Call the  \"handle_{type}\" callback, which takes\n",
       "        // the figure and JSON message as its only arguments.\n",
       "        try {\n",
       "            var callback = fig[\"handle_\" + msg_type];\n",
       "        } catch (e) {\n",
       "            console.log(\"No handler for the '\" + msg_type + \"' message type: \", msg);\n",
       "            return;\n",
       "        }\n",
       "\n",
       "        if (callback) {\n",
       "            try {\n",
       "                // console.log(\"Handling '\" + msg_type + \"' message: \", msg);\n",
       "                callback(fig, msg);\n",
       "            } catch (e) {\n",
       "                console.log(\"Exception inside the 'handler_\" + msg_type + \"' callback:\", e, e.stack, msg);\n",
       "            }\n",
       "        }\n",
       "    };\n",
       "}\n",
       "\n",
       "// from http://stackoverflow.com/questions/1114465/getting-mouse-location-in-canvas\n",
       "mpl.findpos = function(e) {\n",
       "    //this section is from http://www.quirksmode.org/js/events_properties.html\n",
       "    var targ;\n",
       "    if (!e)\n",
       "        e = window.event;\n",
       "    if (e.target)\n",
       "        targ = e.target;\n",
       "    else if (e.srcElement)\n",
       "        targ = e.srcElement;\n",
       "    if (targ.nodeType == 3) // defeat Safari bug\n",
       "        targ = targ.parentNode;\n",
       "\n",
       "    // jQuery normalizes the pageX and pageY\n",
       "    // pageX,Y are the mouse positions relative to the document\n",
       "    // offset() returns the position of the element relative to the document\n",
       "    var x = e.pageX - $(targ).offset().left;\n",
       "    var y = e.pageY - $(targ).offset().top;\n",
       "\n",
       "    return {\"x\": x, \"y\": y};\n",
       "};\n",
       "\n",
       "/*\n",
       " * return a copy of an object with only non-object keys\n",
       " * we need this to avoid circular references\n",
       " * http://stackoverflow.com/a/24161582/3208463\n",
       " */\n",
       "function simpleKeys (original) {\n",
       "  return Object.keys(original).reduce(function (obj, key) {\n",
       "    if (typeof original[key] !== 'object')\n",
       "        obj[key] = original[key]\n",
       "    return obj;\n",
       "  }, {});\n",
       "}\n",
       "\n",
       "mpl.figure.prototype.mouse_event = function(event, name) {\n",
       "    var canvas_pos = mpl.findpos(event)\n",
       "\n",
       "    if (name === 'button_press')\n",
       "    {\n",
       "        this.canvas.focus();\n",
       "        this.canvas_div.focus();\n",
       "    }\n",
       "\n",
       "    var x = canvas_pos.x * mpl.ratio;\n",
       "    var y = canvas_pos.y * mpl.ratio;\n",
       "\n",
       "    this.send_message(name, {x: x, y: y, button: event.button,\n",
       "                             step: event.step,\n",
       "                             guiEvent: simpleKeys(event)});\n",
       "\n",
       "    /* This prevents the web browser from automatically changing to\n",
       "     * the text insertion cursor when the button is pressed.  We want\n",
       "     * to control all of the cursor setting manually through the\n",
       "     * 'cursor' event from matplotlib */\n",
       "    event.preventDefault();\n",
       "    return false;\n",
       "}\n",
       "\n",
       "mpl.figure.prototype._key_event_extra = function(event, name) {\n",
       "    // Handle any extra behaviour associated with a key event\n",
       "}\n",
       "\n",
       "mpl.figure.prototype.key_event = function(event, name) {\n",
       "\n",
       "    // Prevent repeat events\n",
       "    if (name == 'key_press')\n",
       "    {\n",
       "        if (event.which === this._key)\n",
       "            return;\n",
       "        else\n",
       "            this._key = event.which;\n",
       "    }\n",
       "    if (name == 'key_release')\n",
       "        this._key = null;\n",
       "\n",
       "    var value = '';\n",
       "    if (event.ctrlKey && event.which != 17)\n",
       "        value += \"ctrl+\";\n",
       "    if (event.altKey && event.which != 18)\n",
       "        value += \"alt+\";\n",
       "    if (event.shiftKey && event.which != 16)\n",
       "        value += \"shift+\";\n",
       "\n",
       "    value += 'k';\n",
       "    value += event.which.toString();\n",
       "\n",
       "    this._key_event_extra(event, name);\n",
       "\n",
       "    this.send_message(name, {key: value,\n",
       "                             guiEvent: simpleKeys(event)});\n",
       "    return false;\n",
       "}\n",
       "\n",
       "mpl.figure.prototype.toolbar_button_onclick = function(name) {\n",
       "    if (name == 'download') {\n",
       "        this.handle_save(this, null);\n",
       "    } else {\n",
       "        this.send_message(\"toolbar_button\", {name: name});\n",
       "    }\n",
       "};\n",
       "\n",
       "mpl.figure.prototype.toolbar_button_onmouseover = function(tooltip) {\n",
       "    this.message.textContent = tooltip;\n",
       "};\n",
       "mpl.toolbar_items = [[\"Home\", \"Reset original view\", \"fa fa-home icon-home\", \"home\"], [\"Back\", \"Back to previous view\", \"fa fa-arrow-left icon-arrow-left\", \"back\"], [\"Forward\", \"Forward to next view\", \"fa fa-arrow-right icon-arrow-right\", \"forward\"], [\"\", \"\", \"\", \"\"], [\"Pan\", \"Pan axes with left mouse, zoom with right\", \"fa fa-arrows icon-move\", \"pan\"], [\"Zoom\", \"Zoom to rectangle\", \"fa fa-square-o icon-check-empty\", \"zoom\"], [\"\", \"\", \"\", \"\"], [\"Download\", \"Download plot\", \"fa fa-floppy-o icon-save\", \"download\"]];\n",
       "\n",
       "mpl.extensions = [\"eps\", \"jpeg\", \"pdf\", \"png\", \"ps\", \"raw\", \"svg\", \"tif\"];\n",
       "\n",
       "mpl.default_extension = \"png\";var comm_websocket_adapter = function(comm) {\n",
       "    // Create a \"websocket\"-like object which calls the given IPython comm\n",
       "    // object with the appropriate methods. Currently this is a non binary\n",
       "    // socket, so there is still some room for performance tuning.\n",
       "    var ws = {};\n",
       "\n",
       "    ws.close = function() {\n",
       "        comm.close()\n",
       "    };\n",
       "    ws.send = function(m) {\n",
       "        //console.log('sending', m);\n",
       "        comm.send(m);\n",
       "    };\n",
       "    // Register the callback with on_msg.\n",
       "    comm.on_msg(function(msg) {\n",
       "        //console.log('receiving', msg['content']['data'], msg);\n",
       "        // Pass the mpl event to the overridden (by mpl) onmessage function.\n",
       "        ws.onmessage(msg['content']['data'])\n",
       "    });\n",
       "    return ws;\n",
       "}\n",
       "\n",
       "mpl.mpl_figure_comm = function(comm, msg) {\n",
       "    // This is the function which gets called when the mpl process\n",
       "    // starts-up an IPython Comm through the \"matplotlib\" channel.\n",
       "\n",
       "    var id = msg.content.data.id;\n",
       "    // Get hold of the div created by the display call when the Comm\n",
       "    // socket was opened in Python.\n",
       "    var element = $(\"#\" + id);\n",
       "    var ws_proxy = comm_websocket_adapter(comm)\n",
       "\n",
       "    function ondownload(figure, format) {\n",
       "        window.open(figure.imageObj.src);\n",
       "    }\n",
       "\n",
       "    var fig = new mpl.figure(id, ws_proxy,\n",
       "                           ondownload,\n",
       "                           element.get(0));\n",
       "\n",
       "    // Call onopen now - mpl needs it, as it is assuming we've passed it a real\n",
       "    // web socket which is closed, not our websocket->open comm proxy.\n",
       "    ws_proxy.onopen();\n",
       "\n",
       "    fig.parent_element = element.get(0);\n",
       "    fig.cell_info = mpl.find_output_cell(\"<div id='\" + id + \"'></div>\");\n",
       "    if (!fig.cell_info) {\n",
       "        console.error(\"Failed to find cell for figure\", id, fig);\n",
       "        return;\n",
       "    }\n",
       "\n",
       "    var output_index = fig.cell_info[2]\n",
       "    var cell = fig.cell_info[0];\n",
       "\n",
       "};\n",
       "\n",
       "mpl.figure.prototype.handle_close = function(fig, msg) {\n",
       "    var width = fig.canvas.width/mpl.ratio\n",
       "    fig.root.unbind('remove')\n",
       "\n",
       "    // Update the output cell to use the data from the current canvas.\n",
       "    fig.push_to_output();\n",
       "    var dataURL = fig.canvas.toDataURL();\n",
       "    // Re-enable the keyboard manager in IPython - without this line, in FF,\n",
       "    // the notebook keyboard shortcuts fail.\n",
       "    IPython.keyboard_manager.enable()\n",
       "    $(fig.parent_element).html('<img src=\"' + dataURL + '\" width=\"' + width + '\">');\n",
       "    fig.close_ws(fig, msg);\n",
       "}\n",
       "\n",
       "mpl.figure.prototype.close_ws = function(fig, msg){\n",
       "    fig.send_message('closing', msg);\n",
       "    // fig.ws.close()\n",
       "}\n",
       "\n",
       "mpl.figure.prototype.push_to_output = function(remove_interactive) {\n",
       "    // Turn the data on the canvas into data in the output cell.\n",
       "    var width = this.canvas.width/mpl.ratio\n",
       "    var dataURL = this.canvas.toDataURL();\n",
       "    this.cell_info[1]['text/html'] = '<img src=\"' + dataURL + '\" width=\"' + width + '\">';\n",
       "}\n",
       "\n",
       "mpl.figure.prototype.updated_canvas_event = function() {\n",
       "    // Tell IPython that the notebook contents must change.\n",
       "    IPython.notebook.set_dirty(true);\n",
       "    this.send_message(\"ack\", {});\n",
       "    var fig = this;\n",
       "    // Wait a second, then push the new image to the DOM so\n",
       "    // that it is saved nicely (might be nice to debounce this).\n",
       "    setTimeout(function () { fig.push_to_output() }, 1000);\n",
       "}\n",
       "\n",
       "mpl.figure.prototype._init_toolbar = function() {\n",
       "    var fig = this;\n",
       "\n",
       "    var nav_element = $('<div/>');\n",
       "    nav_element.attr('style', 'width: 100%');\n",
       "    this.root.append(nav_element);\n",
       "\n",
       "    // Define a callback function for later on.\n",
       "    function toolbar_event(event) {\n",
       "        return fig.toolbar_button_onclick(event['data']);\n",
       "    }\n",
       "    function toolbar_mouse_event(event) {\n",
       "        return fig.toolbar_button_onmouseover(event['data']);\n",
       "    }\n",
       "\n",
       "    for(var toolbar_ind in mpl.toolbar_items){\n",
       "        var name = mpl.toolbar_items[toolbar_ind][0];\n",
       "        var tooltip = mpl.toolbar_items[toolbar_ind][1];\n",
       "        var image = mpl.toolbar_items[toolbar_ind][2];\n",
       "        var method_name = mpl.toolbar_items[toolbar_ind][3];\n",
       "\n",
       "        if (!name) { continue; };\n",
       "\n",
       "        var button = $('<button class=\"btn btn-default\" href=\"#\" title=\"' + name + '\"><i class=\"fa ' + image + ' fa-lg\"></i></button>');\n",
       "        button.click(method_name, toolbar_event);\n",
       "        button.mouseover(tooltip, toolbar_mouse_event);\n",
       "        nav_element.append(button);\n",
       "    }\n",
       "\n",
       "    // Add the status bar.\n",
       "    var status_bar = $('<span class=\"mpl-message\" style=\"text-align:right; float: right;\"/>');\n",
       "    nav_element.append(status_bar);\n",
       "    this.message = status_bar[0];\n",
       "\n",
       "    // Add the close button to the window.\n",
       "    var buttongrp = $('<div class=\"btn-group inline pull-right\"></div>');\n",
       "    var button = $('<button class=\"btn btn-mini btn-primary\" href=\"#\" title=\"Stop Interaction\"><i class=\"fa fa-power-off icon-remove icon-large\"></i></button>');\n",
       "    button.click(function (evt) { fig.handle_close(fig, {}); } );\n",
       "    button.mouseover('Stop Interaction', toolbar_mouse_event);\n",
       "    buttongrp.append(button);\n",
       "    var titlebar = this.root.find($('.ui-dialog-titlebar'));\n",
       "    titlebar.prepend(buttongrp);\n",
       "}\n",
       "\n",
       "mpl.figure.prototype._root_extra_style = function(el){\n",
       "    var fig = this\n",
       "    el.on(\"remove\", function(){\n",
       "\tfig.close_ws(fig, {});\n",
       "    });\n",
       "}\n",
       "\n",
       "mpl.figure.prototype._canvas_extra_style = function(el){\n",
       "    // this is important to make the div 'focusable\n",
       "    el.attr('tabindex', 0)\n",
       "    // reach out to IPython and tell the keyboard manager to turn it's self\n",
       "    // off when our div gets focus\n",
       "\n",
       "    // location in version 3\n",
       "    if (IPython.notebook.keyboard_manager) {\n",
       "        IPython.notebook.keyboard_manager.register_events(el);\n",
       "    }\n",
       "    else {\n",
       "        // location in version 2\n",
       "        IPython.keyboard_manager.register_events(el);\n",
       "    }\n",
       "\n",
       "}\n",
       "\n",
       "mpl.figure.prototype._key_event_extra = function(event, name) {\n",
       "    var manager = IPython.notebook.keyboard_manager;\n",
       "    if (!manager)\n",
       "        manager = IPython.keyboard_manager;\n",
       "\n",
       "    // Check for shift+enter\n",
       "    if (event.shiftKey && event.which == 13) {\n",
       "        this.canvas_div.blur();\n",
       "        // select the cell after this one\n",
       "        var index = IPython.notebook.find_cell_index(this.cell_info[0]);\n",
       "        IPython.notebook.select(index + 1);\n",
       "    }\n",
       "}\n",
       "\n",
       "mpl.figure.prototype.handle_save = function(fig, msg) {\n",
       "    fig.ondownload(fig, null);\n",
       "}\n",
       "\n",
       "\n",
       "mpl.find_output_cell = function(html_output) {\n",
       "    // Return the cell and output element which can be found *uniquely* in the notebook.\n",
       "    // Note - this is a bit hacky, but it is done because the \"notebook_saving.Notebook\"\n",
       "    // IPython event is triggered only after the cells have been serialised, which for\n",
       "    // our purposes (turning an active figure into a static one), is too late.\n",
       "    var cells = IPython.notebook.get_cells();\n",
       "    var ncells = cells.length;\n",
       "    for (var i=0; i<ncells; i++) {\n",
       "        var cell = cells[i];\n",
       "        if (cell.cell_type === 'code'){\n",
       "            for (var j=0; j<cell.output_area.outputs.length; j++) {\n",
       "                var data = cell.output_area.outputs[j];\n",
       "                if (data.data) {\n",
       "                    // IPython >= 3 moved mimebundle to data attribute of output\n",
       "                    data = data.data;\n",
       "                }\n",
       "                if (data['text/html'] == html_output) {\n",
       "                    return [cell, data, j];\n",
       "                }\n",
       "            }\n",
       "        }\n",
       "    }\n",
       "}\n",
       "\n",
       "// Register the function which deals with the matplotlib target/channel.\n",
       "// The kernel may be null if the page has been refreshed.\n",
       "if (IPython.notebook.kernel != null) {\n",
       "    IPython.notebook.kernel.comm_manager.register_target('matplotlib', mpl.mpl_figure_comm);\n",
       "}\n"
      ],
      "text/plain": [
       "<IPython.core.display.Javascript object>"
      ]
     },
     "metadata": {},
     "output_type": "display_data"
    },
    {
     "data": {
      "text/html": [
       "<img src=\"data:image/png;base64,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\" width=\"640\">"
      ],
      "text/plain": [
       "<IPython.core.display.HTML object>"
      ]
     },
     "metadata": {},
     "output_type": "display_data"
    }
   ],
   "source": [
    "# Plot the training curve\n",
    "plt.plot(np.arange(len(validation_losses)) + 1, validation_losses, label='Validation Loss')\n",
    "plt.axhline(np.mean(test_losses), c='r', linestyle='--', label='Test Loss')\n",
    "plt.xlabel('Epoch number')\n",
    "plt.ylabel('MSE loss')\n",
    "plt.xlim([1, len(validation_losses)])\n",
    "plt.legend();"
   ]
  },
  {
   "cell_type": "code",
   "execution_count": 9,
   "metadata": {
    "scrolled": false
   },
   "outputs": [
    {
     "name": "stdout",
     "output_type": "stream",
     "text": [
      "Left image true parameters: [1.     0.5    0.055  0.0575]\n",
      "Left image CNN predictions: [0.6487818  0.6232531  0.00828782 0.00746438]\n",
      "\n",
      "Right image true parameters: [0.5   1.    0.1   0.045]\n",
      "Right image CNN predictions: [0.41684335 0.6401767  0.03293977 0.02867107]\n"
     ]
    }
   ],
   "source": [
    "# View 2 examples from the test set\n",
    "plt.subplot(121)\n",
    "plt.imshow(images.cpu()[0,0,:,:], cmap='gist_gray')\n",
    "plt.subplot(122)\n",
    "plt.imshow(images.cpu()[1,0,:,:], cmap='gist_gray')\n",
    "\n",
    "print('Left image true parameters:', targets.cpu().numpy()[0])\n",
    "print('Left image CNN predictions:', outputs.cpu().detach().numpy()[0])\n",
    "print()\n",
    "print('Right image true parameters:', targets.cpu().numpy()[1])\n",
    "print('Right image CNN predictions:', outputs.cpu().detach().numpy()[1])"
   ]
  },
  {
   "cell_type": "markdown",
   "metadata": {},
   "source": [
    "## Animal images"
   ]
  },
  {
   "cell_type": "code",
   "execution_count": null,
   "metadata": {},
   "outputs": [],
   "source": [
    "from glob import glob\n",
    "\n",
    "from PIL import Image"
   ]
  },
  {
   "cell_type": "code",
   "execution_count": null,
   "metadata": {},
   "outputs": [],
   "source": [
    "# Standardize the image inputs\n",
    "def sanitize(img):\n",
    "    \"\"\"\n",
    "    Convert a jpeg into an 100x100, 2 component image.\n",
    "    \"\"\"\n",
    "    # Resize image\n",
    "    min_length = min(img.size)\n",
    "    img = img.crop((0, 0, min_length, min_length))\n",
    "    img = img.resize((100, 100))\n",
    "\n",
    "    # Convert to 2-channel pixel array\n",
    "    return np.asarray([[r, 255-g] for r, g, b in img.getdata()]).reshape(100, 100, 2)"
   ]
  },
  {
   "cell_type": "code",
   "execution_count": null,
   "metadata": {},
   "outputs": [],
   "source": [
    "# Assemble images\n",
    "labels = ['giraffe', 'leopard', 'zebra']\n",
    "images = {label: [sanitize(Image.open(image)) for image in glob(f\"patterns/{label}_*.jpg\")] for label in labels}"
   ]
  },
  {
   "cell_type": "code",
   "execution_count": null,
   "metadata": {},
   "outputs": [],
   "source": [
    "# Demonstrate 2-component image\n",
    "img = images['zebra'][0]\n",
    "plt.subplot(121)\n",
    "plt.imshow(img[:,:,0], cmap='gist_gray')\n",
    "plt.subplot(122)\n",
    "plt.imshow(img[:,:,1], cmap='gist_gray')"
   ]
  },
  {
   "cell_type": "code",
   "execution_count": null,
   "metadata": {},
   "outputs": [],
   "source": []
  }
 ],
 "metadata": {
  "kernelspec": {
   "display_name": "Python 3",
   "language": "python",
   "name": "python3"
  },
  "language_info": {
   "codemirror_mode": {
    "name": "ipython",
    "version": 3
   },
   "file_extension": ".py",
   "mimetype": "text/x-python",
   "name": "python",
   "nbconvert_exporter": "python",
   "pygments_lexer": "ipython3",
   "version": "3.7.7"
  }
 },
 "nbformat": 4,
 "nbformat_minor": 4
}
