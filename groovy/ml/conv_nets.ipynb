{
 "cells": [
  {
   "cell_type": "code",
   "execution_count": 7,
   "metadata": {},
   "outputs": [],
   "source": [
    "import numpy as np\n",
    "from tqdm.auto import tqdm\n",
    "import matplotlib.pyplot as plt\n",
    "import torch\n",
    "import torch.nn as nn\n",
    "import torch.optim as optim\n",
    "from torch.utils.data import DataLoader, Dataset\n",
    "from sklearn.model_selection import train_test_split\n",
    "%matplotlib notebook"
   ]
  },
  {
   "cell_type": "code",
   "execution_count": 2,
   "metadata": {},
   "outputs": [
    {
     "name": "stdout",
     "output_type": "stream",
     "text": [
      "Device: cuda\n"
     ]
    }
   ],
   "source": [
    "# Select CPU/GPU\n",
    "device = torch.device('cuda') if torch.cuda.is_available() else torch.device('cpu')\n",
    "print('Device:', device)"
   ]
  },
  {
   "cell_type": "code",
   "execution_count": 3,
   "metadata": {},
   "outputs": [],
   "source": [
    "# Generate a fake data set\n",
    "input_dim = 100\n",
    "targets = [np.asarray([mean, stdev]) for mean in np.linspace(-49, 50, 100) for stdev in np.linspace(1, 100, 100)]\n",
    "images = [np.random.normal(mean, stdev, size=(1, input_dim, input_dim)) for mean, stdev in targets]"
   ]
  },
  {
   "cell_type": "code",
   "execution_count": 4,
   "metadata": {},
   "outputs": [],
   "source": [
    "class MyDataset(Dataset):\n",
    "\n",
    "    def __init__(self, X, Y):\n",
    "        super().__init__()\n",
    "        self.X = X\n",
    "        self.Y = Y\n",
    "\n",
    "    def __getitem__(self, idx):\n",
    "        return torch.from_numpy(self.X[idx]), torch.from_numpy(self.Y[idx])\n",
    "\n",
    "    def __len__(self):\n",
    "        return len(self.X)\n",
    "\n",
    "\n",
    "# Split the data into train, validation, test\n",
    "X_trv,   X_test, Y_trv,   Y_test = train_test_split(images, targets, train_size=0.8)\n",
    "X_train, X_val,  Y_train, Y_val  = train_test_split(images, targets, train_size=0.75)\n",
    "\n",
    "# Convert to Pytorch data loaders\n",
    "batch_size = 100\n",
    "training   = DataLoader(MyDataset(X_train, Y_train), batch_size=batch_size)\n",
    "validation = DataLoader(MyDataset(X_val,   Y_val),   batch_size=batch_size)\n",
    "test       = DataLoader(MyDataset(X_test,  Y_test),  batch_size=batch_size)"
   ]
  },
  {
   "cell_type": "code",
   "execution_count": 5,
   "metadata": {},
   "outputs": [],
   "source": [
    "# Define our CNN\n",
    "class CNN(nn.Module):\n",
    "\n",
    "    def __init__(self):\n",
    "        super().__init__()\n",
    "        self.layer1 = nn.Sequential(\n",
    "            nn.Conv2d(1, 16, kernel_size=5, padding=2),\n",
    "            nn.BatchNorm2d(16),\n",
    "            nn.ReLU(),\n",
    "            nn.MaxPool2d(2))\n",
    "        self.layer2 = nn.Sequential(\n",
    "            nn.Conv2d(16, 32, kernel_size=5, padding=2),\n",
    "            nn.BatchNorm2d(32),\n",
    "            nn.ReLU(),\n",
    "            nn.MaxPool2d(2))\n",
    "        self.fc = nn.Linear(input_dim*input_dim*2, 2)\n",
    "\n",
    "    def forward(self, x):\n",
    "        out = self.layer1(x)\n",
    "        out = self.layer2(out)\n",
    "        out = out.view(out.size(0), -1)\n",
    "        out = self.fc(out)\n",
    "        return out"
   ]
  },
  {
   "cell_type": "code",
   "execution_count": 8,
   "metadata": {},
   "outputs": [
    {
     "data": {
      "application/vnd.jupyter.widget-view+json": {
       "model_id": "0590cd56fea5493ba7c2f9e3557f3ae9",
       "version_major": 2,
       "version_minor": 0
      },
      "text/plain": [
       "HBox(children=(FloatProgress(value=0.0, description='Epochs', max=50.0, style=ProgressStyle(description_width=…"
      ]
     },
     "metadata": {},
     "output_type": "display_data"
    },
    {
     "data": {
      "application/vnd.jupyter.widget-view+json": {
       "model_id": "",
       "version_major": 2,
       "version_minor": 0
      },
      "text/plain": [
       "HBox(children=(FloatProgress(value=0.0, description='Train batches', max=75.0, style=ProgressStyle(description…"
      ]
     },
     "metadata": {},
     "output_type": "display_data"
    },
    {
     "data": {
      "application/vnd.jupyter.widget-view+json": {
       "model_id": "",
       "version_major": 2,
       "version_minor": 0
      },
      "text/plain": [
       "HBox(children=(FloatProgress(value=0.0, description='Validation batches', max=25.0, style=ProgressStyle(descri…"
      ]
     },
     "metadata": {},
     "output_type": "display_data"
    },
    {
     "data": {
      "application/vnd.jupyter.widget-view+json": {
       "model_id": "",
       "version_major": 2,
       "version_minor": 0
      },
      "text/plain": [
       "HBox(children=(FloatProgress(value=0.0, description='Train batches', max=75.0, style=ProgressStyle(description…"
      ]
     },
     "metadata": {},
     "output_type": "display_data"
    },
    {
     "data": {
      "application/vnd.jupyter.widget-view+json": {
       "model_id": "",
       "version_major": 2,
       "version_minor": 0
      },
      "text/plain": [
       "HBox(children=(FloatProgress(value=0.0, description='Validation batches', max=25.0, style=ProgressStyle(descri…"
      ]
     },
     "metadata": {},
     "output_type": "display_data"
    },
    {
     "data": {
      "application/vnd.jupyter.widget-view+json": {
       "model_id": "",
       "version_major": 2,
       "version_minor": 0
      },
      "text/plain": [
       "HBox(children=(FloatProgress(value=0.0, description='Train batches', max=75.0, style=ProgressStyle(description…"
      ]
     },
     "metadata": {},
     "output_type": "display_data"
    },
    {
     "data": {
      "application/vnd.jupyter.widget-view+json": {
       "model_id": "",
       "version_major": 2,
       "version_minor": 0
      },
      "text/plain": [
       "HBox(children=(FloatProgress(value=0.0, description='Validation batches', max=25.0, style=ProgressStyle(descri…"
      ]
     },
     "metadata": {},
     "output_type": "display_data"
    },
    {
     "data": {
      "application/vnd.jupyter.widget-view+json": {
       "model_id": "",
       "version_major": 2,
       "version_minor": 0
      },
      "text/plain": [
       "HBox(children=(FloatProgress(value=0.0, description='Train batches', max=75.0, style=ProgressStyle(description…"
      ]
     },
     "metadata": {},
     "output_type": "display_data"
    },
    {
     "data": {
      "application/vnd.jupyter.widget-view+json": {
       "model_id": "",
       "version_major": 2,
       "version_minor": 0
      },
      "text/plain": [
       "HBox(children=(FloatProgress(value=0.0, description='Validation batches', max=25.0, style=ProgressStyle(descri…"
      ]
     },
     "metadata": {},
     "output_type": "display_data"
    },
    {
     "data": {
      "application/vnd.jupyter.widget-view+json": {
       "model_id": "",
       "version_major": 2,
       "version_minor": 0
      },
      "text/plain": [
       "HBox(children=(FloatProgress(value=0.0, description='Train batches', max=75.0, style=ProgressStyle(description…"
      ]
     },
     "metadata": {},
     "output_type": "display_data"
    },
    {
     "data": {
      "application/vnd.jupyter.widget-view+json": {
       "model_id": "",
       "version_major": 2,
       "version_minor": 0
      },
      "text/plain": [
       "HBox(children=(FloatProgress(value=0.0, description='Validation batches', max=25.0, style=ProgressStyle(descri…"
      ]
     },
     "metadata": {},
     "output_type": "display_data"
    },
    {
     "data": {
      "application/vnd.jupyter.widget-view+json": {
       "model_id": "",
       "version_major": 2,
       "version_minor": 0
      },
      "text/plain": [
       "HBox(children=(FloatProgress(value=0.0, description='Train batches', max=75.0, style=ProgressStyle(description…"
      ]
     },
     "metadata": {},
     "output_type": "display_data"
    },
    {
     "data": {
      "application/vnd.jupyter.widget-view+json": {
       "model_id": "",
       "version_major": 2,
       "version_minor": 0
      },
      "text/plain": [
       "HBox(children=(FloatProgress(value=0.0, description='Validation batches', max=25.0, style=ProgressStyle(descri…"
      ]
     },
     "metadata": {},
     "output_type": "display_data"
    },
    {
     "data": {
      "application/vnd.jupyter.widget-view+json": {
       "model_id": "",
       "version_major": 2,
       "version_minor": 0
      },
      "text/plain": [
       "HBox(children=(FloatProgress(value=0.0, description='Train batches', max=75.0, style=ProgressStyle(description…"
      ]
     },
     "metadata": {},
     "output_type": "display_data"
    },
    {
     "data": {
      "application/vnd.jupyter.widget-view+json": {
       "model_id": "",
       "version_major": 2,
       "version_minor": 0
      },
      "text/plain": [
       "HBox(children=(FloatProgress(value=0.0, description='Validation batches', max=25.0, style=ProgressStyle(descri…"
      ]
     },
     "metadata": {},
     "output_type": "display_data"
    },
    {
     "data": {
      "application/vnd.jupyter.widget-view+json": {
       "model_id": "",
       "version_major": 2,
       "version_minor": 0
      },
      "text/plain": [
       "HBox(children=(FloatProgress(value=0.0, description='Train batches', max=75.0, style=ProgressStyle(description…"
      ]
     },
     "metadata": {},
     "output_type": "display_data"
    },
    {
     "data": {
      "application/vnd.jupyter.widget-view+json": {
       "model_id": "",
       "version_major": 2,
       "version_minor": 0
      },
      "text/plain": [
       "HBox(children=(FloatProgress(value=0.0, description='Validation batches', max=25.0, style=ProgressStyle(descri…"
      ]
     },
     "metadata": {},
     "output_type": "display_data"
    },
    {
     "data": {
      "application/vnd.jupyter.widget-view+json": {
       "model_id": "",
       "version_major": 2,
       "version_minor": 0
      },
      "text/plain": [
       "HBox(children=(FloatProgress(value=0.0, description='Train batches', max=75.0, style=ProgressStyle(description…"
      ]
     },
     "metadata": {},
     "output_type": "display_data"
    },
    {
     "data": {
      "application/vnd.jupyter.widget-view+json": {
       "model_id": "",
       "version_major": 2,
       "version_minor": 0
      },
      "text/plain": [
       "HBox(children=(FloatProgress(value=0.0, description='Validation batches', max=25.0, style=ProgressStyle(descri…"
      ]
     },
     "metadata": {},
     "output_type": "display_data"
    },
    {
     "data": {
      "application/vnd.jupyter.widget-view+json": {
       "model_id": "",
       "version_major": 2,
       "version_minor": 0
      },
      "text/plain": [
       "HBox(children=(FloatProgress(value=0.0, description='Train batches', max=75.0, style=ProgressStyle(description…"
      ]
     },
     "metadata": {},
     "output_type": "display_data"
    },
    {
     "data": {
      "application/vnd.jupyter.widget-view+json": {
       "model_id": "",
       "version_major": 2,
       "version_minor": 0
      },
      "text/plain": [
       "HBox(children=(FloatProgress(value=0.0, description='Validation batches', max=25.0, style=ProgressStyle(descri…"
      ]
     },
     "metadata": {},
     "output_type": "display_data"
    },
    {
     "data": {
      "application/vnd.jupyter.widget-view+json": {
       "model_id": "",
       "version_major": 2,
       "version_minor": 0
      },
      "text/plain": [
       "HBox(children=(FloatProgress(value=0.0, description='Train batches', max=75.0, style=ProgressStyle(description…"
      ]
     },
     "metadata": {},
     "output_type": "display_data"
    },
    {
     "data": {
      "application/vnd.jupyter.widget-view+json": {
       "model_id": "",
       "version_major": 2,
       "version_minor": 0
      },
      "text/plain": [
       "HBox(children=(FloatProgress(value=0.0, description='Validation batches', max=25.0, style=ProgressStyle(descri…"
      ]
     },
     "metadata": {},
     "output_type": "display_data"
    },
    {
     "data": {
      "application/vnd.jupyter.widget-view+json": {
       "model_id": "",
       "version_major": 2,
       "version_minor": 0
      },
      "text/plain": [
       "HBox(children=(FloatProgress(value=0.0, description='Train batches', max=75.0, style=ProgressStyle(description…"
      ]
     },
     "metadata": {},
     "output_type": "display_data"
    },
    {
     "data": {
      "application/vnd.jupyter.widget-view+json": {
       "model_id": "",
       "version_major": 2,
       "version_minor": 0
      },
      "text/plain": [
       "HBox(children=(FloatProgress(value=0.0, description='Validation batches', max=25.0, style=ProgressStyle(descri…"
      ]
     },
     "metadata": {},
     "output_type": "display_data"
    },
    {
     "data": {
      "application/vnd.jupyter.widget-view+json": {
       "model_id": "",
       "version_major": 2,
       "version_minor": 0
      },
      "text/plain": [
       "HBox(children=(FloatProgress(value=0.0, description='Train batches', max=75.0, style=ProgressStyle(description…"
      ]
     },
     "metadata": {},
     "output_type": "display_data"
    },
    {
     "data": {
      "application/vnd.jupyter.widget-view+json": {
       "model_id": "",
       "version_major": 2,
       "version_minor": 0
      },
      "text/plain": [
       "HBox(children=(FloatProgress(value=0.0, description='Validation batches', max=25.0, style=ProgressStyle(descri…"
      ]
     },
     "metadata": {},
     "output_type": "display_data"
    },
    {
     "data": {
      "application/vnd.jupyter.widget-view+json": {
       "model_id": "",
       "version_major": 2,
       "version_minor": 0
      },
      "text/plain": [
       "HBox(children=(FloatProgress(value=0.0, description='Train batches', max=75.0, style=ProgressStyle(description…"
      ]
     },
     "metadata": {},
     "output_type": "display_data"
    },
    {
     "data": {
      "application/vnd.jupyter.widget-view+json": {
       "model_id": "",
       "version_major": 2,
       "version_minor": 0
      },
      "text/plain": [
       "HBox(children=(FloatProgress(value=0.0, description='Validation batches', max=25.0, style=ProgressStyle(descri…"
      ]
     },
     "metadata": {},
     "output_type": "display_data"
    },
    {
     "data": {
      "application/vnd.jupyter.widget-view+json": {
       "model_id": "",
       "version_major": 2,
       "version_minor": 0
      },
      "text/plain": [
       "HBox(children=(FloatProgress(value=0.0, description='Train batches', max=75.0, style=ProgressStyle(description…"
      ]
     },
     "metadata": {},
     "output_type": "display_data"
    },
    {
     "data": {
      "application/vnd.jupyter.widget-view+json": {
       "model_id": "",
       "version_major": 2,
       "version_minor": 0
      },
      "text/plain": [
       "HBox(children=(FloatProgress(value=0.0, description='Validation batches', max=25.0, style=ProgressStyle(descri…"
      ]
     },
     "metadata": {},
     "output_type": "display_data"
    },
    {
     "data": {
      "application/vnd.jupyter.widget-view+json": {
       "model_id": "",
       "version_major": 2,
       "version_minor": 0
      },
      "text/plain": [
       "HBox(children=(FloatProgress(value=0.0, description='Train batches', max=75.0, style=ProgressStyle(description…"
      ]
     },
     "metadata": {},
     "output_type": "display_data"
    },
    {
     "data": {
      "application/vnd.jupyter.widget-view+json": {
       "model_id": "",
       "version_major": 2,
       "version_minor": 0
      },
      "text/plain": [
       "HBox(children=(FloatProgress(value=0.0, description='Validation batches', max=25.0, style=ProgressStyle(descri…"
      ]
     },
     "metadata": {},
     "output_type": "display_data"
    },
    {
     "data": {
      "application/vnd.jupyter.widget-view+json": {
       "model_id": "",
       "version_major": 2,
       "version_minor": 0
      },
      "text/plain": [
       "HBox(children=(FloatProgress(value=0.0, description='Train batches', max=75.0, style=ProgressStyle(description…"
      ]
     },
     "metadata": {},
     "output_type": "display_data"
    },
    {
     "data": {
      "application/vnd.jupyter.widget-view+json": {
       "model_id": "",
       "version_major": 2,
       "version_minor": 0
      },
      "text/plain": [
       "HBox(children=(FloatProgress(value=0.0, description='Validation batches', max=25.0, style=ProgressStyle(descri…"
      ]
     },
     "metadata": {},
     "output_type": "display_data"
    },
    {
     "name": "stdout",
     "output_type": "stream",
     "text": [
      "Early stopping at epoch 16 out of 50 total.\n"
     ]
    },
    {
     "data": {
      "application/javascript": [
       "/* Put everything inside the global mpl namespace */\n",
       "window.mpl = {};\n",
       "\n",
       "\n",
       "mpl.get_websocket_type = function() {\n",
       "    if (typeof(WebSocket) !== 'undefined') {\n",
       "        return WebSocket;\n",
       "    } else if (typeof(MozWebSocket) !== 'undefined') {\n",
       "        return MozWebSocket;\n",
       "    } else {\n",
       "        alert('Your browser does not have WebSocket support. ' +\n",
       "              'Please try Chrome, Safari or Firefox ≥ 6. ' +\n",
       "              'Firefox 4 and 5 are also supported but you ' +\n",
       "              'have to enable WebSockets in about:config.');\n",
       "    };\n",
       "}\n",
       "\n",
       "mpl.figure = function(figure_id, websocket, ondownload, parent_element) {\n",
       "    this.id = figure_id;\n",
       "\n",
       "    this.ws = websocket;\n",
       "\n",
       "    this.supports_binary = (this.ws.binaryType != undefined);\n",
       "\n",
       "    if (!this.supports_binary) {\n",
       "        var warnings = document.getElementById(\"mpl-warnings\");\n",
       "        if (warnings) {\n",
       "            warnings.style.display = 'block';\n",
       "            warnings.textContent = (\n",
       "                \"This browser does not support binary websocket messages. \" +\n",
       "                    \"Performance may be slow.\");\n",
       "        }\n",
       "    }\n",
       "\n",
       "    this.imageObj = new Image();\n",
       "\n",
       "    this.context = undefined;\n",
       "    this.message = undefined;\n",
       "    this.canvas = undefined;\n",
       "    this.rubberband_canvas = undefined;\n",
       "    this.rubberband_context = undefined;\n",
       "    this.format_dropdown = undefined;\n",
       "\n",
       "    this.image_mode = 'full';\n",
       "\n",
       "    this.root = $('<div/>');\n",
       "    this._root_extra_style(this.root)\n",
       "    this.root.attr('style', 'display: inline-block');\n",
       "\n",
       "    $(parent_element).append(this.root);\n",
       "\n",
       "    this._init_header(this);\n",
       "    this._init_canvas(this);\n",
       "    this._init_toolbar(this);\n",
       "\n",
       "    var fig = this;\n",
       "\n",
       "    this.waiting = false;\n",
       "\n",
       "    this.ws.onopen =  function () {\n",
       "            fig.send_message(\"supports_binary\", {value: fig.supports_binary});\n",
       "            fig.send_message(\"send_image_mode\", {});\n",
       "            if (mpl.ratio != 1) {\n",
       "                fig.send_message(\"set_dpi_ratio\", {'dpi_ratio': mpl.ratio});\n",
       "            }\n",
       "            fig.send_message(\"refresh\", {});\n",
       "        }\n",
       "\n",
       "    this.imageObj.onload = function() {\n",
       "            if (fig.image_mode == 'full') {\n",
       "                // Full images could contain transparency (where diff images\n",
       "                // almost always do), so we need to clear the canvas so that\n",
       "                // there is no ghosting.\n",
       "                fig.context.clearRect(0, 0, fig.canvas.width, fig.canvas.height);\n",
       "            }\n",
       "            fig.context.drawImage(fig.imageObj, 0, 0);\n",
       "        };\n",
       "\n",
       "    this.imageObj.onunload = function() {\n",
       "        fig.ws.close();\n",
       "    }\n",
       "\n",
       "    this.ws.onmessage = this._make_on_message_function(this);\n",
       "\n",
       "    this.ondownload = ondownload;\n",
       "}\n",
       "\n",
       "mpl.figure.prototype._init_header = function() {\n",
       "    var titlebar = $(\n",
       "        '<div class=\"ui-dialog-titlebar ui-widget-header ui-corner-all ' +\n",
       "        'ui-helper-clearfix\"/>');\n",
       "    var titletext = $(\n",
       "        '<div class=\"ui-dialog-title\" style=\"width: 100%; ' +\n",
       "        'text-align: center; padding: 3px;\"/>');\n",
       "    titlebar.append(titletext)\n",
       "    this.root.append(titlebar);\n",
       "    this.header = titletext[0];\n",
       "}\n",
       "\n",
       "\n",
       "\n",
       "mpl.figure.prototype._canvas_extra_style = function(canvas_div) {\n",
       "\n",
       "}\n",
       "\n",
       "\n",
       "mpl.figure.prototype._root_extra_style = function(canvas_div) {\n",
       "\n",
       "}\n",
       "\n",
       "mpl.figure.prototype._init_canvas = function() {\n",
       "    var fig = this;\n",
       "\n",
       "    var canvas_div = $('<div/>');\n",
       "\n",
       "    canvas_div.attr('style', 'position: relative; clear: both; outline: 0');\n",
       "\n",
       "    function canvas_keyboard_event(event) {\n",
       "        return fig.key_event(event, event['data']);\n",
       "    }\n",
       "\n",
       "    canvas_div.keydown('key_press', canvas_keyboard_event);\n",
       "    canvas_div.keyup('key_release', canvas_keyboard_event);\n",
       "    this.canvas_div = canvas_div\n",
       "    this._canvas_extra_style(canvas_div)\n",
       "    this.root.append(canvas_div);\n",
       "\n",
       "    var canvas = $('<canvas/>');\n",
       "    canvas.addClass('mpl-canvas');\n",
       "    canvas.attr('style', \"left: 0; top: 0; z-index: 0; outline: 0\")\n",
       "\n",
       "    this.canvas = canvas[0];\n",
       "    this.context = canvas[0].getContext(\"2d\");\n",
       "\n",
       "    var backingStore = this.context.backingStorePixelRatio ||\n",
       "\tthis.context.webkitBackingStorePixelRatio ||\n",
       "\tthis.context.mozBackingStorePixelRatio ||\n",
       "\tthis.context.msBackingStorePixelRatio ||\n",
       "\tthis.context.oBackingStorePixelRatio ||\n",
       "\tthis.context.backingStorePixelRatio || 1;\n",
       "\n",
       "    mpl.ratio = (window.devicePixelRatio || 1) / backingStore;\n",
       "\n",
       "    var rubberband = $('<canvas/>');\n",
       "    rubberband.attr('style', \"position: absolute; left: 0; top: 0; z-index: 1;\")\n",
       "\n",
       "    var pass_mouse_events = true;\n",
       "\n",
       "    canvas_div.resizable({\n",
       "        start: function(event, ui) {\n",
       "            pass_mouse_events = false;\n",
       "        },\n",
       "        resize: function(event, ui) {\n",
       "            fig.request_resize(ui.size.width, ui.size.height);\n",
       "        },\n",
       "        stop: function(event, ui) {\n",
       "            pass_mouse_events = true;\n",
       "            fig.request_resize(ui.size.width, ui.size.height);\n",
       "        },\n",
       "    });\n",
       "\n",
       "    function mouse_event_fn(event) {\n",
       "        if (pass_mouse_events)\n",
       "            return fig.mouse_event(event, event['data']);\n",
       "    }\n",
       "\n",
       "    rubberband.mousedown('button_press', mouse_event_fn);\n",
       "    rubberband.mouseup('button_release', mouse_event_fn);\n",
       "    // Throttle sequential mouse events to 1 every 20ms.\n",
       "    rubberband.mousemove('motion_notify', mouse_event_fn);\n",
       "\n",
       "    rubberband.mouseenter('figure_enter', mouse_event_fn);\n",
       "    rubberband.mouseleave('figure_leave', mouse_event_fn);\n",
       "\n",
       "    canvas_div.on(\"wheel\", function (event) {\n",
       "        event = event.originalEvent;\n",
       "        event['data'] = 'scroll'\n",
       "        if (event.deltaY < 0) {\n",
       "            event.step = 1;\n",
       "        } else {\n",
       "            event.step = -1;\n",
       "        }\n",
       "        mouse_event_fn(event);\n",
       "    });\n",
       "\n",
       "    canvas_div.append(canvas);\n",
       "    canvas_div.append(rubberband);\n",
       "\n",
       "    this.rubberband = rubberband;\n",
       "    this.rubberband_canvas = rubberband[0];\n",
       "    this.rubberband_context = rubberband[0].getContext(\"2d\");\n",
       "    this.rubberband_context.strokeStyle = \"#000000\";\n",
       "\n",
       "    this._resize_canvas = function(width, height) {\n",
       "        // Keep the size of the canvas, canvas container, and rubber band\n",
       "        // canvas in synch.\n",
       "        canvas_div.css('width', width)\n",
       "        canvas_div.css('height', height)\n",
       "\n",
       "        canvas.attr('width', width * mpl.ratio);\n",
       "        canvas.attr('height', height * mpl.ratio);\n",
       "        canvas.attr('style', 'width: ' + width + 'px; height: ' + height + 'px;');\n",
       "\n",
       "        rubberband.attr('width', width);\n",
       "        rubberband.attr('height', height);\n",
       "    }\n",
       "\n",
       "    // Set the figure to an initial 600x600px, this will subsequently be updated\n",
       "    // upon first draw.\n",
       "    this._resize_canvas(600, 600);\n",
       "\n",
       "    // Disable right mouse context menu.\n",
       "    $(this.rubberband_canvas).bind(\"contextmenu\",function(e){\n",
       "        return false;\n",
       "    });\n",
       "\n",
       "    function set_focus () {\n",
       "        canvas.focus();\n",
       "        canvas_div.focus();\n",
       "    }\n",
       "\n",
       "    window.setTimeout(set_focus, 100);\n",
       "}\n",
       "\n",
       "mpl.figure.prototype._init_toolbar = function() {\n",
       "    var fig = this;\n",
       "\n",
       "    var nav_element = $('<div/>');\n",
       "    nav_element.attr('style', 'width: 100%');\n",
       "    this.root.append(nav_element);\n",
       "\n",
       "    // Define a callback function for later on.\n",
       "    function toolbar_event(event) {\n",
       "        return fig.toolbar_button_onclick(event['data']);\n",
       "    }\n",
       "    function toolbar_mouse_event(event) {\n",
       "        return fig.toolbar_button_onmouseover(event['data']);\n",
       "    }\n",
       "\n",
       "    for(var toolbar_ind in mpl.toolbar_items) {\n",
       "        var name = mpl.toolbar_items[toolbar_ind][0];\n",
       "        var tooltip = mpl.toolbar_items[toolbar_ind][1];\n",
       "        var image = mpl.toolbar_items[toolbar_ind][2];\n",
       "        var method_name = mpl.toolbar_items[toolbar_ind][3];\n",
       "\n",
       "        if (!name) {\n",
       "            // put a spacer in here.\n",
       "            continue;\n",
       "        }\n",
       "        var button = $('<button/>');\n",
       "        button.addClass('ui-button ui-widget ui-state-default ui-corner-all ' +\n",
       "                        'ui-button-icon-only');\n",
       "        button.attr('role', 'button');\n",
       "        button.attr('aria-disabled', 'false');\n",
       "        button.click(method_name, toolbar_event);\n",
       "        button.mouseover(tooltip, toolbar_mouse_event);\n",
       "\n",
       "        var icon_img = $('<span/>');\n",
       "        icon_img.addClass('ui-button-icon-primary ui-icon');\n",
       "        icon_img.addClass(image);\n",
       "        icon_img.addClass('ui-corner-all');\n",
       "\n",
       "        var tooltip_span = $('<span/>');\n",
       "        tooltip_span.addClass('ui-button-text');\n",
       "        tooltip_span.html(tooltip);\n",
       "\n",
       "        button.append(icon_img);\n",
       "        button.append(tooltip_span);\n",
       "\n",
       "        nav_element.append(button);\n",
       "    }\n",
       "\n",
       "    var fmt_picker_span = $('<span/>');\n",
       "\n",
       "    var fmt_picker = $('<select/>');\n",
       "    fmt_picker.addClass('mpl-toolbar-option ui-widget ui-widget-content');\n",
       "    fmt_picker_span.append(fmt_picker);\n",
       "    nav_element.append(fmt_picker_span);\n",
       "    this.format_dropdown = fmt_picker[0];\n",
       "\n",
       "    for (var ind in mpl.extensions) {\n",
       "        var fmt = mpl.extensions[ind];\n",
       "        var option = $(\n",
       "            '<option/>', {selected: fmt === mpl.default_extension}).html(fmt);\n",
       "        fmt_picker.append(option);\n",
       "    }\n",
       "\n",
       "    // Add hover states to the ui-buttons\n",
       "    $( \".ui-button\" ).hover(\n",
       "        function() { $(this).addClass(\"ui-state-hover\");},\n",
       "        function() { $(this).removeClass(\"ui-state-hover\");}\n",
       "    );\n",
       "\n",
       "    var status_bar = $('<span class=\"mpl-message\"/>');\n",
       "    nav_element.append(status_bar);\n",
       "    this.message = status_bar[0];\n",
       "}\n",
       "\n",
       "mpl.figure.prototype.request_resize = function(x_pixels, y_pixels) {\n",
       "    // Request matplotlib to resize the figure. Matplotlib will then trigger a resize in the client,\n",
       "    // which will in turn request a refresh of the image.\n",
       "    this.send_message('resize', {'width': x_pixels, 'height': y_pixels});\n",
       "}\n",
       "\n",
       "mpl.figure.prototype.send_message = function(type, properties) {\n",
       "    properties['type'] = type;\n",
       "    properties['figure_id'] = this.id;\n",
       "    this.ws.send(JSON.stringify(properties));\n",
       "}\n",
       "\n",
       "mpl.figure.prototype.send_draw_message = function() {\n",
       "    if (!this.waiting) {\n",
       "        this.waiting = true;\n",
       "        this.ws.send(JSON.stringify({type: \"draw\", figure_id: this.id}));\n",
       "    }\n",
       "}\n",
       "\n",
       "\n",
       "mpl.figure.prototype.handle_save = function(fig, msg) {\n",
       "    var format_dropdown = fig.format_dropdown;\n",
       "    var format = format_dropdown.options[format_dropdown.selectedIndex].value;\n",
       "    fig.ondownload(fig, format);\n",
       "}\n",
       "\n",
       "\n",
       "mpl.figure.prototype.handle_resize = function(fig, msg) {\n",
       "    var size = msg['size'];\n",
       "    if (size[0] != fig.canvas.width || size[1] != fig.canvas.height) {\n",
       "        fig._resize_canvas(size[0], size[1]);\n",
       "        fig.send_message(\"refresh\", {});\n",
       "    };\n",
       "}\n",
       "\n",
       "mpl.figure.prototype.handle_rubberband = function(fig, msg) {\n",
       "    var x0 = msg['x0'] / mpl.ratio;\n",
       "    var y0 = (fig.canvas.height - msg['y0']) / mpl.ratio;\n",
       "    var x1 = msg['x1'] / mpl.ratio;\n",
       "    var y1 = (fig.canvas.height - msg['y1']) / mpl.ratio;\n",
       "    x0 = Math.floor(x0) + 0.5;\n",
       "    y0 = Math.floor(y0) + 0.5;\n",
       "    x1 = Math.floor(x1) + 0.5;\n",
       "    y1 = Math.floor(y1) + 0.5;\n",
       "    var min_x = Math.min(x0, x1);\n",
       "    var min_y = Math.min(y0, y1);\n",
       "    var width = Math.abs(x1 - x0);\n",
       "    var height = Math.abs(y1 - y0);\n",
       "\n",
       "    fig.rubberband_context.clearRect(\n",
       "        0, 0, fig.canvas.width / mpl.ratio, fig.canvas.height / mpl.ratio);\n",
       "\n",
       "    fig.rubberband_context.strokeRect(min_x, min_y, width, height);\n",
       "}\n",
       "\n",
       "mpl.figure.prototype.handle_figure_label = function(fig, msg) {\n",
       "    // Updates the figure title.\n",
       "    fig.header.textContent = msg['label'];\n",
       "}\n",
       "\n",
       "mpl.figure.prototype.handle_cursor = function(fig, msg) {\n",
       "    var cursor = msg['cursor'];\n",
       "    switch(cursor)\n",
       "    {\n",
       "    case 0:\n",
       "        cursor = 'pointer';\n",
       "        break;\n",
       "    case 1:\n",
       "        cursor = 'default';\n",
       "        break;\n",
       "    case 2:\n",
       "        cursor = 'crosshair';\n",
       "        break;\n",
       "    case 3:\n",
       "        cursor = 'move';\n",
       "        break;\n",
       "    }\n",
       "    fig.rubberband_canvas.style.cursor = cursor;\n",
       "}\n",
       "\n",
       "mpl.figure.prototype.handle_message = function(fig, msg) {\n",
       "    fig.message.textContent = msg['message'];\n",
       "}\n",
       "\n",
       "mpl.figure.prototype.handle_draw = function(fig, msg) {\n",
       "    // Request the server to send over a new figure.\n",
       "    fig.send_draw_message();\n",
       "}\n",
       "\n",
       "mpl.figure.prototype.handle_image_mode = function(fig, msg) {\n",
       "    fig.image_mode = msg['mode'];\n",
       "}\n",
       "\n",
       "mpl.figure.prototype.updated_canvas_event = function() {\n",
       "    // Called whenever the canvas gets updated.\n",
       "    this.send_message(\"ack\", {});\n",
       "}\n",
       "\n",
       "// A function to construct a web socket function for onmessage handling.\n",
       "// Called in the figure constructor.\n",
       "mpl.figure.prototype._make_on_message_function = function(fig) {\n",
       "    return function socket_on_message(evt) {\n",
       "        if (evt.data instanceof Blob) {\n",
       "            /* FIXME: We get \"Resource interpreted as Image but\n",
       "             * transferred with MIME type text/plain:\" errors on\n",
       "             * Chrome.  But how to set the MIME type?  It doesn't seem\n",
       "             * to be part of the websocket stream */\n",
       "            evt.data.type = \"image/png\";\n",
       "\n",
       "            /* Free the memory for the previous frames */\n",
       "            if (fig.imageObj.src) {\n",
       "                (window.URL || window.webkitURL).revokeObjectURL(\n",
       "                    fig.imageObj.src);\n",
       "            }\n",
       "\n",
       "            fig.imageObj.src = (window.URL || window.webkitURL).createObjectURL(\n",
       "                evt.data);\n",
       "            fig.updated_canvas_event();\n",
       "            fig.waiting = false;\n",
       "            return;\n",
       "        }\n",
       "        else if (typeof evt.data === 'string' && evt.data.slice(0, 21) == \"data:image/png;base64\") {\n",
       "            fig.imageObj.src = evt.data;\n",
       "            fig.updated_canvas_event();\n",
       "            fig.waiting = false;\n",
       "            return;\n",
       "        }\n",
       "\n",
       "        var msg = JSON.parse(evt.data);\n",
       "        var msg_type = msg['type'];\n",
       "\n",
       "        // Call the  \"handle_{type}\" callback, which takes\n",
       "        // the figure and JSON message as its only arguments.\n",
       "        try {\n",
       "            var callback = fig[\"handle_\" + msg_type];\n",
       "        } catch (e) {\n",
       "            console.log(\"No handler for the '\" + msg_type + \"' message type: \", msg);\n",
       "            return;\n",
       "        }\n",
       "\n",
       "        if (callback) {\n",
       "            try {\n",
       "                // console.log(\"Handling '\" + msg_type + \"' message: \", msg);\n",
       "                callback(fig, msg);\n",
       "            } catch (e) {\n",
       "                console.log(\"Exception inside the 'handler_\" + msg_type + \"' callback:\", e, e.stack, msg);\n",
       "            }\n",
       "        }\n",
       "    };\n",
       "}\n",
       "\n",
       "// from http://stackoverflow.com/questions/1114465/getting-mouse-location-in-canvas\n",
       "mpl.findpos = function(e) {\n",
       "    //this section is from http://www.quirksmode.org/js/events_properties.html\n",
       "    var targ;\n",
       "    if (!e)\n",
       "        e = window.event;\n",
       "    if (e.target)\n",
       "        targ = e.target;\n",
       "    else if (e.srcElement)\n",
       "        targ = e.srcElement;\n",
       "    if (targ.nodeType == 3) // defeat Safari bug\n",
       "        targ = targ.parentNode;\n",
       "\n",
       "    // jQuery normalizes the pageX and pageY\n",
       "    // pageX,Y are the mouse positions relative to the document\n",
       "    // offset() returns the position of the element relative to the document\n",
       "    var x = e.pageX - $(targ).offset().left;\n",
       "    var y = e.pageY - $(targ).offset().top;\n",
       "\n",
       "    return {\"x\": x, \"y\": y};\n",
       "};\n",
       "\n",
       "/*\n",
       " * return a copy of an object with only non-object keys\n",
       " * we need this to avoid circular references\n",
       " * http://stackoverflow.com/a/24161582/3208463\n",
       " */\n",
       "function simpleKeys (original) {\n",
       "  return Object.keys(original).reduce(function (obj, key) {\n",
       "    if (typeof original[key] !== 'object')\n",
       "        obj[key] = original[key]\n",
       "    return obj;\n",
       "  }, {});\n",
       "}\n",
       "\n",
       "mpl.figure.prototype.mouse_event = function(event, name) {\n",
       "    var canvas_pos = mpl.findpos(event)\n",
       "\n",
       "    if (name === 'button_press')\n",
       "    {\n",
       "        this.canvas.focus();\n",
       "        this.canvas_div.focus();\n",
       "    }\n",
       "\n",
       "    var x = canvas_pos.x * mpl.ratio;\n",
       "    var y = canvas_pos.y * mpl.ratio;\n",
       "\n",
       "    this.send_message(name, {x: x, y: y, button: event.button,\n",
       "                             step: event.step,\n",
       "                             guiEvent: simpleKeys(event)});\n",
       "\n",
       "    /* This prevents the web browser from automatically changing to\n",
       "     * the text insertion cursor when the button is pressed.  We want\n",
       "     * to control all of the cursor setting manually through the\n",
       "     * 'cursor' event from matplotlib */\n",
       "    event.preventDefault();\n",
       "    return false;\n",
       "}\n",
       "\n",
       "mpl.figure.prototype._key_event_extra = function(event, name) {\n",
       "    // Handle any extra behaviour associated with a key event\n",
       "}\n",
       "\n",
       "mpl.figure.prototype.key_event = function(event, name) {\n",
       "\n",
       "    // Prevent repeat events\n",
       "    if (name == 'key_press')\n",
       "    {\n",
       "        if (event.which === this._key)\n",
       "            return;\n",
       "        else\n",
       "            this._key = event.which;\n",
       "    }\n",
       "    if (name == 'key_release')\n",
       "        this._key = null;\n",
       "\n",
       "    var value = '';\n",
       "    if (event.ctrlKey && event.which != 17)\n",
       "        value += \"ctrl+\";\n",
       "    if (event.altKey && event.which != 18)\n",
       "        value += \"alt+\";\n",
       "    if (event.shiftKey && event.which != 16)\n",
       "        value += \"shift+\";\n",
       "\n",
       "    value += 'k';\n",
       "    value += event.which.toString();\n",
       "\n",
       "    this._key_event_extra(event, name);\n",
       "\n",
       "    this.send_message(name, {key: value,\n",
       "                             guiEvent: simpleKeys(event)});\n",
       "    return false;\n",
       "}\n",
       "\n",
       "mpl.figure.prototype.toolbar_button_onclick = function(name) {\n",
       "    if (name == 'download') {\n",
       "        this.handle_save(this, null);\n",
       "    } else {\n",
       "        this.send_message(\"toolbar_button\", {name: name});\n",
       "    }\n",
       "};\n",
       "\n",
       "mpl.figure.prototype.toolbar_button_onmouseover = function(tooltip) {\n",
       "    this.message.textContent = tooltip;\n",
       "};\n",
       "mpl.toolbar_items = [[\"Home\", \"Reset original view\", \"fa fa-home icon-home\", \"home\"], [\"Back\", \"Back to previous view\", \"fa fa-arrow-left icon-arrow-left\", \"back\"], [\"Forward\", \"Forward to next view\", \"fa fa-arrow-right icon-arrow-right\", \"forward\"], [\"\", \"\", \"\", \"\"], [\"Pan\", \"Pan axes with left mouse, zoom with right\", \"fa fa-arrows icon-move\", \"pan\"], [\"Zoom\", \"Zoom to rectangle\", \"fa fa-square-o icon-check-empty\", \"zoom\"], [\"\", \"\", \"\", \"\"], [\"Download\", \"Download plot\", \"fa fa-floppy-o icon-save\", \"download\"]];\n",
       "\n",
       "mpl.extensions = [\"eps\", \"jpeg\", \"pdf\", \"png\", \"ps\", \"raw\", \"svg\", \"tif\"];\n",
       "\n",
       "mpl.default_extension = \"png\";var comm_websocket_adapter = function(comm) {\n",
       "    // Create a \"websocket\"-like object which calls the given IPython comm\n",
       "    // object with the appropriate methods. Currently this is a non binary\n",
       "    // socket, so there is still some room for performance tuning.\n",
       "    var ws = {};\n",
       "\n",
       "    ws.close = function() {\n",
       "        comm.close()\n",
       "    };\n",
       "    ws.send = function(m) {\n",
       "        //console.log('sending', m);\n",
       "        comm.send(m);\n",
       "    };\n",
       "    // Register the callback with on_msg.\n",
       "    comm.on_msg(function(msg) {\n",
       "        //console.log('receiving', msg['content']['data'], msg);\n",
       "        // Pass the mpl event to the overridden (by mpl) onmessage function.\n",
       "        ws.onmessage(msg['content']['data'])\n",
       "    });\n",
       "    return ws;\n",
       "}\n",
       "\n",
       "mpl.mpl_figure_comm = function(comm, msg) {\n",
       "    // This is the function which gets called when the mpl process\n",
       "    // starts-up an IPython Comm through the \"matplotlib\" channel.\n",
       "\n",
       "    var id = msg.content.data.id;\n",
       "    // Get hold of the div created by the display call when the Comm\n",
       "    // socket was opened in Python.\n",
       "    var element = $(\"#\" + id);\n",
       "    var ws_proxy = comm_websocket_adapter(comm)\n",
       "\n",
       "    function ondownload(figure, format) {\n",
       "        window.open(figure.imageObj.src);\n",
       "    }\n",
       "\n",
       "    var fig = new mpl.figure(id, ws_proxy,\n",
       "                           ondownload,\n",
       "                           element.get(0));\n",
       "\n",
       "    // Call onopen now - mpl needs it, as it is assuming we've passed it a real\n",
       "    // web socket which is closed, not our websocket->open comm proxy.\n",
       "    ws_proxy.onopen();\n",
       "\n",
       "    fig.parent_element = element.get(0);\n",
       "    fig.cell_info = mpl.find_output_cell(\"<div id='\" + id + \"'></div>\");\n",
       "    if (!fig.cell_info) {\n",
       "        console.error(\"Failed to find cell for figure\", id, fig);\n",
       "        return;\n",
       "    }\n",
       "\n",
       "    var output_index = fig.cell_info[2]\n",
       "    var cell = fig.cell_info[0];\n",
       "\n",
       "};\n",
       "\n",
       "mpl.figure.prototype.handle_close = function(fig, msg) {\n",
       "    var width = fig.canvas.width/mpl.ratio\n",
       "    fig.root.unbind('remove')\n",
       "\n",
       "    // Update the output cell to use the data from the current canvas.\n",
       "    fig.push_to_output();\n",
       "    var dataURL = fig.canvas.toDataURL();\n",
       "    // Re-enable the keyboard manager in IPython - without this line, in FF,\n",
       "    // the notebook keyboard shortcuts fail.\n",
       "    IPython.keyboard_manager.enable()\n",
       "    $(fig.parent_element).html('<img src=\"' + dataURL + '\" width=\"' + width + '\">');\n",
       "    fig.close_ws(fig, msg);\n",
       "}\n",
       "\n",
       "mpl.figure.prototype.close_ws = function(fig, msg){\n",
       "    fig.send_message('closing', msg);\n",
       "    // fig.ws.close()\n",
       "}\n",
       "\n",
       "mpl.figure.prototype.push_to_output = function(remove_interactive) {\n",
       "    // Turn the data on the canvas into data in the output cell.\n",
       "    var width = this.canvas.width/mpl.ratio\n",
       "    var dataURL = this.canvas.toDataURL();\n",
       "    this.cell_info[1]['text/html'] = '<img src=\"' + dataURL + '\" width=\"' + width + '\">';\n",
       "}\n",
       "\n",
       "mpl.figure.prototype.updated_canvas_event = function() {\n",
       "    // Tell IPython that the notebook contents must change.\n",
       "    IPython.notebook.set_dirty(true);\n",
       "    this.send_message(\"ack\", {});\n",
       "    var fig = this;\n",
       "    // Wait a second, then push the new image to the DOM so\n",
       "    // that it is saved nicely (might be nice to debounce this).\n",
       "    setTimeout(function () { fig.push_to_output() }, 1000);\n",
       "}\n",
       "\n",
       "mpl.figure.prototype._init_toolbar = function() {\n",
       "    var fig = this;\n",
       "\n",
       "    var nav_element = $('<div/>');\n",
       "    nav_element.attr('style', 'width: 100%');\n",
       "    this.root.append(nav_element);\n",
       "\n",
       "    // Define a callback function for later on.\n",
       "    function toolbar_event(event) {\n",
       "        return fig.toolbar_button_onclick(event['data']);\n",
       "    }\n",
       "    function toolbar_mouse_event(event) {\n",
       "        return fig.toolbar_button_onmouseover(event['data']);\n",
       "    }\n",
       "\n",
       "    for(var toolbar_ind in mpl.toolbar_items){\n",
       "        var name = mpl.toolbar_items[toolbar_ind][0];\n",
       "        var tooltip = mpl.toolbar_items[toolbar_ind][1];\n",
       "        var image = mpl.toolbar_items[toolbar_ind][2];\n",
       "        var method_name = mpl.toolbar_items[toolbar_ind][3];\n",
       "\n",
       "        if (!name) { continue; };\n",
       "\n",
       "        var button = $('<button class=\"btn btn-default\" href=\"#\" title=\"' + name + '\"><i class=\"fa ' + image + ' fa-lg\"></i></button>');\n",
       "        button.click(method_name, toolbar_event);\n",
       "        button.mouseover(tooltip, toolbar_mouse_event);\n",
       "        nav_element.append(button);\n",
       "    }\n",
       "\n",
       "    // Add the status bar.\n",
       "    var status_bar = $('<span class=\"mpl-message\" style=\"text-align:right; float: right;\"/>');\n",
       "    nav_element.append(status_bar);\n",
       "    this.message = status_bar[0];\n",
       "\n",
       "    // Add the close button to the window.\n",
       "    var buttongrp = $('<div class=\"btn-group inline pull-right\"></div>');\n",
       "    var button = $('<button class=\"btn btn-mini btn-primary\" href=\"#\" title=\"Stop Interaction\"><i class=\"fa fa-power-off icon-remove icon-large\"></i></button>');\n",
       "    button.click(function (evt) { fig.handle_close(fig, {}); } );\n",
       "    button.mouseover('Stop Interaction', toolbar_mouse_event);\n",
       "    buttongrp.append(button);\n",
       "    var titlebar = this.root.find($('.ui-dialog-titlebar'));\n",
       "    titlebar.prepend(buttongrp);\n",
       "}\n",
       "\n",
       "mpl.figure.prototype._root_extra_style = function(el){\n",
       "    var fig = this\n",
       "    el.on(\"remove\", function(){\n",
       "\tfig.close_ws(fig, {});\n",
       "    });\n",
       "}\n",
       "\n",
       "mpl.figure.prototype._canvas_extra_style = function(el){\n",
       "    // this is important to make the div 'focusable\n",
       "    el.attr('tabindex', 0)\n",
       "    // reach out to IPython and tell the keyboard manager to turn it's self\n",
       "    // off when our div gets focus\n",
       "\n",
       "    // location in version 3\n",
       "    if (IPython.notebook.keyboard_manager) {\n",
       "        IPython.notebook.keyboard_manager.register_events(el);\n",
       "    }\n",
       "    else {\n",
       "        // location in version 2\n",
       "        IPython.keyboard_manager.register_events(el);\n",
       "    }\n",
       "\n",
       "}\n",
       "\n",
       "mpl.figure.prototype._key_event_extra = function(event, name) {\n",
       "    var manager = IPython.notebook.keyboard_manager;\n",
       "    if (!manager)\n",
       "        manager = IPython.keyboard_manager;\n",
       "\n",
       "    // Check for shift+enter\n",
       "    if (event.shiftKey && event.which == 13) {\n",
       "        this.canvas_div.blur();\n",
       "        // select the cell after this one\n",
       "        var index = IPython.notebook.find_cell_index(this.cell_info[0]);\n",
       "        IPython.notebook.select(index + 1);\n",
       "    }\n",
       "}\n",
       "\n",
       "mpl.figure.prototype.handle_save = function(fig, msg) {\n",
       "    fig.ondownload(fig, null);\n",
       "}\n",
       "\n",
       "\n",
       "mpl.find_output_cell = function(html_output) {\n",
       "    // Return the cell and output element which can be found *uniquely* in the notebook.\n",
       "    // Note - this is a bit hacky, but it is done because the \"notebook_saving.Notebook\"\n",
       "    // IPython event is triggered only after the cells have been serialised, which for\n",
       "    // our purposes (turning an active figure into a static one), is too late.\n",
       "    var cells = IPython.notebook.get_cells();\n",
       "    var ncells = cells.length;\n",
       "    for (var i=0; i<ncells; i++) {\n",
       "        var cell = cells[i];\n",
       "        if (cell.cell_type === 'code'){\n",
       "            for (var j=0; j<cell.output_area.outputs.length; j++) {\n",
       "                var data = cell.output_area.outputs[j];\n",
       "                if (data.data) {\n",
       "                    // IPython >= 3 moved mimebundle to data attribute of output\n",
       "                    data = data.data;\n",
       "                }\n",
       "                if (data['text/html'] == html_output) {\n",
       "                    return [cell, data, j];\n",
       "                }\n",
       "            }\n",
       "        }\n",
       "    }\n",
       "}\n",
       "\n",
       "// Register the function which deals with the matplotlib target/channel.\n",
       "// The kernel may be null if the page has been refreshed.\n",
       "if (IPython.notebook.kernel != null) {\n",
       "    IPython.notebook.kernel.comm_manager.register_target('matplotlib', mpl.mpl_figure_comm);\n",
       "}\n"
      ],
      "text/plain": [
       "<IPython.core.display.Javascript object>"
      ]
     },
     "metadata": {},
     "output_type": "display_data"
    },
    {
     "data": {
      "text/html": [
       "<img src=\"data:image/png;base64,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\" width=\"640\">"
      ],
      "text/plain": [
       "<IPython.core.display.HTML object>"
      ]
     },
     "metadata": {},
     "output_type": "display_data"
    }
   ],
   "source": [
    "# Training parameters\n",
    "num_epochs = 50\n",
    "learning_rate = 0.001\n",
    "\n",
    "# Model, loss, and optimizer\n",
    "cnn = CNN()\n",
    "cnn = cnn.to(device)\n",
    "criterion = nn.MSELoss()\n",
    "optimizer = optim.Adam(cnn.parameters(), lr=learning_rate)\n",
    "\n",
    "# Train the model\n",
    "validation_losses = []\n",
    "for epoch in tqdm(range(num_epochs), desc='Epochs', leave=False):\n",
    "    \n",
    "    # Training loss\n",
    "    cnn.train()\n",
    "    for i, (images, targets) in enumerate(tqdm(training, desc='Train batches', leave=False)):\n",
    "\n",
    "        images, targets = images.to(device, dtype=torch.float), targets.to(device, dtype=torch.float)\n",
    "        outputs = cnn(images)\n",
    "        loss = criterion(outputs, targets)\n",
    "        optimizer.zero_grad()\n",
    "        loss.backward()\n",
    "        optimizer.step()\n",
    "\n",
    "    # Validation loss\n",
    "    cnn.eval()\n",
    "    epoch_losses = []\n",
    "    for i, (images, targets) in enumerate(tqdm(validation, desc='Validation batches', leave=False)):\n",
    "\n",
    "        images, targets = images.to(device, dtype=torch.float), targets.to(device, dtype=torch.float)\n",
    "        outputs = cnn(images)\n",
    "        loss_val = criterion(outputs, targets).item()\n",
    "        epoch_losses.append(loss_val)\n",
    "        \n",
    "    # Early stopping\n",
    "    validation_losses.append(np.mean(epoch_losses))\n",
    "    patience = 7\n",
    "    if len(validation_losses) >= patience and np.argmin(validation_losses[-7:]) == 0:\n",
    "        print(f\"Early stopping at epoch {epoch} out of {num_epochs} total.\")\n",
    "        break\n",
    "\n",
    "else:\n",
    "    print(f\"No early stopping used. Completed {num_epochs} epochs.\")\n",
    "        \n",
    "# Plot the training curve\n",
    "plt.plot(np.arange(len(validation_losses)) + 1, validation_losses)\n",
    "plt.xlabel('Epoch number')\n",
    "plt.ylabel('Validation MSE loss')\n",
    "plt.show()"
   ]
  },
  {
   "cell_type": "code",
   "execution_count": null,
   "metadata": {},
   "outputs": [],
   "source": []
  }
 ],
 "metadata": {
  "kernelspec": {
   "display_name": "Python 3",
   "language": "python",
   "name": "python3"
  },
  "language_info": {
   "codemirror_mode": {
    "name": "ipython",
    "version": 3
   },
   "file_extension": ".py",
   "mimetype": "text/x-python",
   "name": "python",
   "nbconvert_exporter": "python",
   "pygments_lexer": "ipython3",
   "version": "3.7.7"
  }
 },
 "nbformat": 4,
 "nbformat_minor": 4
}
