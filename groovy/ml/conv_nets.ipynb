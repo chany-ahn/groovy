{
 "cells": [
  {
   "cell_type": "code",
   "execution_count": 25,
   "metadata": {},
   "outputs": [],
   "source": [
    "import numpy as np\n",
    "from tqdm.auto import tqdm\n",
    "import matplotlib.pyplot as plt\n",
    "import torch\n",
    "from torch import nn, optim\n",
    "from torch.utils.data import DataLoader, Dataset\n",
    "from sklearn.model_selection import train_test_split\n",
    "%matplotlib notebook"
   ]
  },
  {
   "cell_type": "code",
   "execution_count": 2,
   "metadata": {},
   "outputs": [
    {
     "name": "stdout",
     "output_type": "stream",
     "text": [
      "Device: cuda\n"
     ]
    }
   ],
   "source": [
    "# Select CPU/GPU\n",
    "device = torch.device('cuda') if torch.cuda.is_available() else torch.device('cpu')\n",
    "print('Device:', device)"
   ]
  },
  {
   "cell_type": "code",
   "execution_count": 3,
   "metadata": {},
   "outputs": [],
   "source": [
    "# Generate a fake data set\n",
    "targets = [np.asarray([mean, stdev]) for mean in np.linspace(-49, 50, 100) for stdev in np.linspace(1, 100, 100)]\n",
    "images = [np.random.normal(mean, stdev, size=(100, 100, 1)) for mean, stdev in targets]"
   ]
  },
  {
   "cell_type": "code",
   "execution_count": null,
   "metadata": {},
   "outputs": [],
   "source": [
    "# Swap the axes so that the components come first\n",
    "images = [np.swapaxes(image, 0, 2) for image in images]"
   ]
  },
  {
   "cell_type": "code",
   "execution_count": 4,
   "metadata": {},
   "outputs": [],
   "source": [
    "class MyDataset(Dataset):\n",
    "\n",
    "    def __init__(self, X, Y):\n",
    "        super().__init__()\n",
    "        self.X = X\n",
    "        self.Y = Y\n",
    "\n",
    "    def __getitem__(self, idx):\n",
    "        return torch.from_numpy(self.X[idx]), torch.from_numpy(self.Y[idx])\n",
    "\n",
    "    def __len__(self):\n",
    "        return len(self.X)\n",
    "\n",
    "\n",
    "# Split the data into train, validation, test\n",
    "X_trv,   X_test, Y_trv,   Y_test = train_test_split(images, targets, train_size=0.8)\n",
    "X_train, X_val,  Y_train, Y_val  = train_test_split(images, targets, train_size=0.75)\n",
    "\n",
    "# Convert to Pytorch data loaders\n",
    "batch_size = 100\n",
    "training   = DataLoader(MyDataset(X_train, Y_train), batch_size=batch_size)\n",
    "validation = DataLoader(MyDataset(X_val,   Y_val),   batch_size=batch_size)\n",
    "test       = DataLoader(MyDataset(X_test,  Y_test),  batch_size=batch_size)"
   ]
  },
  {
   "cell_type": "code",
   "execution_count": 5,
   "metadata": {},
   "outputs": [],
   "source": [
    "# Define our CNN\n",
    "class CNN(nn.Module):\n",
    "\n",
    "    def __init__(self):\n",
    "        super().__init__()\n",
    "        self.layer1 = nn.Sequential(\n",
    "            nn.Conv2d(1, 16, kernel_size=5, padding=2),\n",
    "            nn.BatchNorm2d(16),\n",
    "            nn.ReLU(),\n",
    "            nn.MaxPool2d(2))\n",
    "        self.layer2 = nn.Sequential(\n",
    "            nn.Conv2d(16, 32, kernel_size=5, padding=2),\n",
    "            nn.BatchNorm2d(32),\n",
    "            nn.ReLU(),\n",
    "            nn.MaxPool2d(2))\n",
    "        self.fc = nn.Linear(100*100*2, 2)\n",
    "\n",
    "    def forward(self, x):\n",
    "        out = self.layer1(x)\n",
    "        out = self.layer2(out)\n",
    "        out = out.view(out.size(0), -1)\n",
    "        out = self.fc(out)\n",
    "        return out"
   ]
  },
  {
   "cell_type": "code",
   "execution_count": 6,
   "metadata": {
    "scrolled": false
   },
   "outputs": [
    {
     "data": {
      "application/vnd.jupyter.widget-view+json": {
       "model_id": "c6667ed09fb44f1fbd7c91f087181202",
       "version_major": 2,
       "version_minor": 0
      },
      "text/plain": [
       "HBox(children=(FloatProgress(value=0.0, description='Epochs', max=50.0, style=ProgressStyle(description_width=…"
      ]
     },
     "metadata": {},
     "output_type": "display_data"
    },
    {
     "data": {
      "application/vnd.jupyter.widget-view+json": {
       "model_id": "",
       "version_major": 2,
       "version_minor": 0
      },
      "text/plain": [
       "HBox(children=(FloatProgress(value=0.0, description='Train batches', max=75.0, style=ProgressStyle(description…"
      ]
     },
     "metadata": {},
     "output_type": "display_data"
    },
    {
     "data": {
      "application/vnd.jupyter.widget-view+json": {
       "model_id": "",
       "version_major": 2,
       "version_minor": 0
      },
      "text/plain": [
       "HBox(children=(FloatProgress(value=0.0, description='Validation batches', max=25.0, style=ProgressStyle(descri…"
      ]
     },
     "metadata": {},
     "output_type": "display_data"
    },
    {
     "data": {
      "application/vnd.jupyter.widget-view+json": {
       "model_id": "",
       "version_major": 2,
       "version_minor": 0
      },
      "text/plain": [
       "HBox(children=(FloatProgress(value=0.0, description='Train batches', max=75.0, style=ProgressStyle(description…"
      ]
     },
     "metadata": {},
     "output_type": "display_data"
    },
    {
     "data": {
      "application/vnd.jupyter.widget-view+json": {
       "model_id": "",
       "version_major": 2,
       "version_minor": 0
      },
      "text/plain": [
       "HBox(children=(FloatProgress(value=0.0, description='Validation batches', max=25.0, style=ProgressStyle(descri…"
      ]
     },
     "metadata": {},
     "output_type": "display_data"
    },
    {
     "data": {
      "application/vnd.jupyter.widget-view+json": {
       "model_id": "",
       "version_major": 2,
       "version_minor": 0
      },
      "text/plain": [
       "HBox(children=(FloatProgress(value=0.0, description='Train batches', max=75.0, style=ProgressStyle(description…"
      ]
     },
     "metadata": {},
     "output_type": "display_data"
    },
    {
     "data": {
      "application/vnd.jupyter.widget-view+json": {
       "model_id": "",
       "version_major": 2,
       "version_minor": 0
      },
      "text/plain": [
       "HBox(children=(FloatProgress(value=0.0, description='Validation batches', max=25.0, style=ProgressStyle(descri…"
      ]
     },
     "metadata": {},
     "output_type": "display_data"
    },
    {
     "data": {
      "application/vnd.jupyter.widget-view+json": {
       "model_id": "",
       "version_major": 2,
       "version_minor": 0
      },
      "text/plain": [
       "HBox(children=(FloatProgress(value=0.0, description='Train batches', max=75.0, style=ProgressStyle(description…"
      ]
     },
     "metadata": {},
     "output_type": "display_data"
    },
    {
     "data": {
      "application/vnd.jupyter.widget-view+json": {
       "model_id": "",
       "version_major": 2,
       "version_minor": 0
      },
      "text/plain": [
       "HBox(children=(FloatProgress(value=0.0, description='Validation batches', max=25.0, style=ProgressStyle(descri…"
      ]
     },
     "metadata": {},
     "output_type": "display_data"
    },
    {
     "data": {
      "application/vnd.jupyter.widget-view+json": {
       "model_id": "",
       "version_major": 2,
       "version_minor": 0
      },
      "text/plain": [
       "HBox(children=(FloatProgress(value=0.0, description='Train batches', max=75.0, style=ProgressStyle(description…"
      ]
     },
     "metadata": {},
     "output_type": "display_data"
    },
    {
     "data": {
      "application/vnd.jupyter.widget-view+json": {
       "model_id": "",
       "version_major": 2,
       "version_minor": 0
      },
      "text/plain": [
       "HBox(children=(FloatProgress(value=0.0, description='Validation batches', max=25.0, style=ProgressStyle(descri…"
      ]
     },
     "metadata": {},
     "output_type": "display_data"
    },
    {
     "data": {
      "application/vnd.jupyter.widget-view+json": {
       "model_id": "",
       "version_major": 2,
       "version_minor": 0
      },
      "text/plain": [
       "HBox(children=(FloatProgress(value=0.0, description='Train batches', max=75.0, style=ProgressStyle(description…"
      ]
     },
     "metadata": {},
     "output_type": "display_data"
    },
    {
     "data": {
      "application/vnd.jupyter.widget-view+json": {
       "model_id": "",
       "version_major": 2,
       "version_minor": 0
      },
      "text/plain": [
       "HBox(children=(FloatProgress(value=0.0, description='Validation batches', max=25.0, style=ProgressStyle(descri…"
      ]
     },
     "metadata": {},
     "output_type": "display_data"
    },
    {
     "data": {
      "application/vnd.jupyter.widget-view+json": {
       "model_id": "",
       "version_major": 2,
       "version_minor": 0
      },
      "text/plain": [
       "HBox(children=(FloatProgress(value=0.0, description='Train batches', max=75.0, style=ProgressStyle(description…"
      ]
     },
     "metadata": {},
     "output_type": "display_data"
    },
    {
     "data": {
      "application/vnd.jupyter.widget-view+json": {
       "model_id": "",
       "version_major": 2,
       "version_minor": 0
      },
      "text/plain": [
       "HBox(children=(FloatProgress(value=0.0, description='Validation batches', max=25.0, style=ProgressStyle(descri…"
      ]
     },
     "metadata": {},
     "output_type": "display_data"
    },
    {
     "data": {
      "application/vnd.jupyter.widget-view+json": {
       "model_id": "",
       "version_major": 2,
       "version_minor": 0
      },
      "text/plain": [
       "HBox(children=(FloatProgress(value=0.0, description='Train batches', max=75.0, style=ProgressStyle(description…"
      ]
     },
     "metadata": {},
     "output_type": "display_data"
    },
    {
     "data": {
      "application/vnd.jupyter.widget-view+json": {
       "model_id": "",
       "version_major": 2,
       "version_minor": 0
      },
      "text/plain": [
       "HBox(children=(FloatProgress(value=0.0, description='Validation batches', max=25.0, style=ProgressStyle(descri…"
      ]
     },
     "metadata": {},
     "output_type": "display_data"
    },
    {
     "data": {
      "application/vnd.jupyter.widget-view+json": {
       "model_id": "",
       "version_major": 2,
       "version_minor": 0
      },
      "text/plain": [
       "HBox(children=(FloatProgress(value=0.0, description='Train batches', max=75.0, style=ProgressStyle(description…"
      ]
     },
     "metadata": {},
     "output_type": "display_data"
    },
    {
     "data": {
      "application/vnd.jupyter.widget-view+json": {
       "model_id": "",
       "version_major": 2,
       "version_minor": 0
      },
      "text/plain": [
       "HBox(children=(FloatProgress(value=0.0, description='Validation batches', max=25.0, style=ProgressStyle(descri…"
      ]
     },
     "metadata": {},
     "output_type": "display_data"
    },
    {
     "data": {
      "application/vnd.jupyter.widget-view+json": {
       "model_id": "",
       "version_major": 2,
       "version_minor": 0
      },
      "text/plain": [
       "HBox(children=(FloatProgress(value=0.0, description='Train batches', max=75.0, style=ProgressStyle(description…"
      ]
     },
     "metadata": {},
     "output_type": "display_data"
    },
    {
     "data": {
      "application/vnd.jupyter.widget-view+json": {
       "model_id": "",
       "version_major": 2,
       "version_minor": 0
      },
      "text/plain": [
       "HBox(children=(FloatProgress(value=0.0, description='Validation batches', max=25.0, style=ProgressStyle(descri…"
      ]
     },
     "metadata": {},
     "output_type": "display_data"
    },
    {
     "data": {
      "application/vnd.jupyter.widget-view+json": {
       "model_id": "",
       "version_major": 2,
       "version_minor": 0
      },
      "text/plain": [
       "HBox(children=(FloatProgress(value=0.0, description='Train batches', max=75.0, style=ProgressStyle(description…"
      ]
     },
     "metadata": {},
     "output_type": "display_data"
    },
    {
     "data": {
      "application/vnd.jupyter.widget-view+json": {
       "model_id": "",
       "version_major": 2,
       "version_minor": 0
      },
      "text/plain": [
       "HBox(children=(FloatProgress(value=0.0, description='Validation batches', max=25.0, style=ProgressStyle(descri…"
      ]
     },
     "metadata": {},
     "output_type": "display_data"
    },
    {
     "data": {
      "application/vnd.jupyter.widget-view+json": {
       "model_id": "",
       "version_major": 2,
       "version_minor": 0
      },
      "text/plain": [
       "HBox(children=(FloatProgress(value=0.0, description='Train batches', max=75.0, style=ProgressStyle(description…"
      ]
     },
     "metadata": {},
     "output_type": "display_data"
    },
    {
     "data": {
      "application/vnd.jupyter.widget-view+json": {
       "model_id": "",
       "version_major": 2,
       "version_minor": 0
      },
      "text/plain": [
       "HBox(children=(FloatProgress(value=0.0, description='Validation batches', max=25.0, style=ProgressStyle(descri…"
      ]
     },
     "metadata": {},
     "output_type": "display_data"
    },
    {
     "data": {
      "application/vnd.jupyter.widget-view+json": {
       "model_id": "",
       "version_major": 2,
       "version_minor": 0
      },
      "text/plain": [
       "HBox(children=(FloatProgress(value=0.0, description='Train batches', max=75.0, style=ProgressStyle(description…"
      ]
     },
     "metadata": {},
     "output_type": "display_data"
    },
    {
     "data": {
      "application/vnd.jupyter.widget-view+json": {
       "model_id": "",
       "version_major": 2,
       "version_minor": 0
      },
      "text/plain": [
       "HBox(children=(FloatProgress(value=0.0, description='Validation batches', max=25.0, style=ProgressStyle(descri…"
      ]
     },
     "metadata": {},
     "output_type": "display_data"
    },
    {
     "data": {
      "application/vnd.jupyter.widget-view+json": {
       "model_id": "",
       "version_major": 2,
       "version_minor": 0
      },
      "text/plain": [
       "HBox(children=(FloatProgress(value=0.0, description='Train batches', max=75.0, style=ProgressStyle(description…"
      ]
     },
     "metadata": {},
     "output_type": "display_data"
    },
    {
     "data": {
      "application/vnd.jupyter.widget-view+json": {
       "model_id": "",
       "version_major": 2,
       "version_minor": 0
      },
      "text/plain": [
       "HBox(children=(FloatProgress(value=0.0, description='Validation batches', max=25.0, style=ProgressStyle(descri…"
      ]
     },
     "metadata": {},
     "output_type": "display_data"
    },
    {
     "data": {
      "application/vnd.jupyter.widget-view+json": {
       "model_id": "",
       "version_major": 2,
       "version_minor": 0
      },
      "text/plain": [
       "HBox(children=(FloatProgress(value=0.0, description='Train batches', max=75.0, style=ProgressStyle(description…"
      ]
     },
     "metadata": {},
     "output_type": "display_data"
    },
    {
     "data": {
      "application/vnd.jupyter.widget-view+json": {
       "model_id": "",
       "version_major": 2,
       "version_minor": 0
      },
      "text/plain": [
       "HBox(children=(FloatProgress(value=0.0, description='Validation batches', max=25.0, style=ProgressStyle(descri…"
      ]
     },
     "metadata": {},
     "output_type": "display_data"
    },
    {
     "data": {
      "application/vnd.jupyter.widget-view+json": {
       "model_id": "",
       "version_major": 2,
       "version_minor": 0
      },
      "text/plain": [
       "HBox(children=(FloatProgress(value=0.0, description='Train batches', max=75.0, style=ProgressStyle(description…"
      ]
     },
     "metadata": {},
     "output_type": "display_data"
    },
    {
     "data": {
      "application/vnd.jupyter.widget-view+json": {
       "model_id": "",
       "version_major": 2,
       "version_minor": 0
      },
      "text/plain": [
       "HBox(children=(FloatProgress(value=0.0, description='Validation batches', max=25.0, style=ProgressStyle(descri…"
      ]
     },
     "metadata": {},
     "output_type": "display_data"
    },
    {
     "data": {
      "application/vnd.jupyter.widget-view+json": {
       "model_id": "",
       "version_major": 2,
       "version_minor": 0
      },
      "text/plain": [
       "HBox(children=(FloatProgress(value=0.0, description='Train batches', max=75.0, style=ProgressStyle(description…"
      ]
     },
     "metadata": {},
     "output_type": "display_data"
    },
    {
     "data": {
      "application/vnd.jupyter.widget-view+json": {
       "model_id": "",
       "version_major": 2,
       "version_minor": 0
      },
      "text/plain": [
       "HBox(children=(FloatProgress(value=0.0, description='Validation batches', max=25.0, style=ProgressStyle(descri…"
      ]
     },
     "metadata": {},
     "output_type": "display_data"
    },
    {
     "data": {
      "application/vnd.jupyter.widget-view+json": {
       "model_id": "",
       "version_major": 2,
       "version_minor": 0
      },
      "text/plain": [
       "HBox(children=(FloatProgress(value=0.0, description='Train batches', max=75.0, style=ProgressStyle(description…"
      ]
     },
     "metadata": {},
     "output_type": "display_data"
    },
    {
     "data": {
      "application/vnd.jupyter.widget-view+json": {
       "model_id": "",
       "version_major": 2,
       "version_minor": 0
      },
      "text/plain": [
       "HBox(children=(FloatProgress(value=0.0, description='Validation batches', max=25.0, style=ProgressStyle(descri…"
      ]
     },
     "metadata": {},
     "output_type": "display_data"
    },
    {
     "data": {
      "application/vnd.jupyter.widget-view+json": {
       "model_id": "",
       "version_major": 2,
       "version_minor": 0
      },
      "text/plain": [
       "HBox(children=(FloatProgress(value=0.0, description='Train batches', max=75.0, style=ProgressStyle(description…"
      ]
     },
     "metadata": {},
     "output_type": "display_data"
    },
    {
     "data": {
      "application/vnd.jupyter.widget-view+json": {
       "model_id": "",
       "version_major": 2,
       "version_minor": 0
      },
      "text/plain": [
       "HBox(children=(FloatProgress(value=0.0, description='Validation batches', max=25.0, style=ProgressStyle(descri…"
      ]
     },
     "metadata": {},
     "output_type": "display_data"
    },
    {
     "data": {
      "application/vnd.jupyter.widget-view+json": {
       "model_id": "",
       "version_major": 2,
       "version_minor": 0
      },
      "text/plain": [
       "HBox(children=(FloatProgress(value=0.0, description='Train batches', max=75.0, style=ProgressStyle(description…"
      ]
     },
     "metadata": {},
     "output_type": "display_data"
    },
    {
     "data": {
      "application/vnd.jupyter.widget-view+json": {
       "model_id": "",
       "version_major": 2,
       "version_minor": 0
      },
      "text/plain": [
       "HBox(children=(FloatProgress(value=0.0, description='Validation batches', max=25.0, style=ProgressStyle(descri…"
      ]
     },
     "metadata": {},
     "output_type": "display_data"
    },
    {
     "data": {
      "application/vnd.jupyter.widget-view+json": {
       "model_id": "",
       "version_major": 2,
       "version_minor": 0
      },
      "text/plain": [
       "HBox(children=(FloatProgress(value=0.0, description='Train batches', max=75.0, style=ProgressStyle(description…"
      ]
     },
     "metadata": {},
     "output_type": "display_data"
    },
    {
     "data": {
      "application/vnd.jupyter.widget-view+json": {
       "model_id": "",
       "version_major": 2,
       "version_minor": 0
      },
      "text/plain": [
       "HBox(children=(FloatProgress(value=0.0, description='Validation batches', max=25.0, style=ProgressStyle(descri…"
      ]
     },
     "metadata": {},
     "output_type": "display_data"
    },
    {
     "data": {
      "application/vnd.jupyter.widget-view+json": {
       "model_id": "",
       "version_major": 2,
       "version_minor": 0
      },
      "text/plain": [
       "HBox(children=(FloatProgress(value=0.0, description='Train batches', max=75.0, style=ProgressStyle(description…"
      ]
     },
     "metadata": {},
     "output_type": "display_data"
    },
    {
     "data": {
      "application/vnd.jupyter.widget-view+json": {
       "model_id": "",
       "version_major": 2,
       "version_minor": 0
      },
      "text/plain": [
       "HBox(children=(FloatProgress(value=0.0, description='Validation batches', max=25.0, style=ProgressStyle(descri…"
      ]
     },
     "metadata": {},
     "output_type": "display_data"
    },
    {
     "data": {
      "application/vnd.jupyter.widget-view+json": {
       "model_id": "",
       "version_major": 2,
       "version_minor": 0
      },
      "text/plain": [
       "HBox(children=(FloatProgress(value=0.0, description='Train batches', max=75.0, style=ProgressStyle(description…"
      ]
     },
     "metadata": {},
     "output_type": "display_data"
    },
    {
     "data": {
      "application/vnd.jupyter.widget-view+json": {
       "model_id": "",
       "version_major": 2,
       "version_minor": 0
      },
      "text/plain": [
       "HBox(children=(FloatProgress(value=0.0, description='Validation batches', max=25.0, style=ProgressStyle(descri…"
      ]
     },
     "metadata": {},
     "output_type": "display_data"
    },
    {
     "data": {
      "application/vnd.jupyter.widget-view+json": {
       "model_id": "",
       "version_major": 2,
       "version_minor": 0
      },
      "text/plain": [
       "HBox(children=(FloatProgress(value=0.0, description='Train batches', max=75.0, style=ProgressStyle(description…"
      ]
     },
     "metadata": {},
     "output_type": "display_data"
    },
    {
     "data": {
      "application/vnd.jupyter.widget-view+json": {
       "model_id": "",
       "version_major": 2,
       "version_minor": 0
      },
      "text/plain": [
       "HBox(children=(FloatProgress(value=0.0, description='Validation batches', max=25.0, style=ProgressStyle(descri…"
      ]
     },
     "metadata": {},
     "output_type": "display_data"
    },
    {
     "data": {
      "application/vnd.jupyter.widget-view+json": {
       "model_id": "",
       "version_major": 2,
       "version_minor": 0
      },
      "text/plain": [
       "HBox(children=(FloatProgress(value=0.0, description='Train batches', max=75.0, style=ProgressStyle(description…"
      ]
     },
     "metadata": {},
     "output_type": "display_data"
    },
    {
     "data": {
      "application/vnd.jupyter.widget-view+json": {
       "model_id": "",
       "version_major": 2,
       "version_minor": 0
      },
      "text/plain": [
       "HBox(children=(FloatProgress(value=0.0, description='Validation batches', max=25.0, style=ProgressStyle(descri…"
      ]
     },
     "metadata": {},
     "output_type": "display_data"
    },
    {
     "data": {
      "application/vnd.jupyter.widget-view+json": {
       "model_id": "",
       "version_major": 2,
       "version_minor": 0
      },
      "text/plain": [
       "HBox(children=(FloatProgress(value=0.0, description='Train batches', max=75.0, style=ProgressStyle(description…"
      ]
     },
     "metadata": {},
     "output_type": "display_data"
    },
    {
     "data": {
      "application/vnd.jupyter.widget-view+json": {
       "model_id": "",
       "version_major": 2,
       "version_minor": 0
      },
      "text/plain": [
       "HBox(children=(FloatProgress(value=0.0, description='Validation batches', max=25.0, style=ProgressStyle(descri…"
      ]
     },
     "metadata": {},
     "output_type": "display_data"
    },
    {
     "data": {
      "application/vnd.jupyter.widget-view+json": {
       "model_id": "",
       "version_major": 2,
       "version_minor": 0
      },
      "text/plain": [
       "HBox(children=(FloatProgress(value=0.0, description='Train batches', max=75.0, style=ProgressStyle(description…"
      ]
     },
     "metadata": {},
     "output_type": "display_data"
    },
    {
     "data": {
      "application/vnd.jupyter.widget-view+json": {
       "model_id": "",
       "version_major": 2,
       "version_minor": 0
      },
      "text/plain": [
       "HBox(children=(FloatProgress(value=0.0, description='Validation batches', max=25.0, style=ProgressStyle(descri…"
      ]
     },
     "metadata": {},
     "output_type": "display_data"
    },
    {
     "data": {
      "application/vnd.jupyter.widget-view+json": {
       "model_id": "",
       "version_major": 2,
       "version_minor": 0
      },
      "text/plain": [
       "HBox(children=(FloatProgress(value=0.0, description='Train batches', max=75.0, style=ProgressStyle(description…"
      ]
     },
     "metadata": {},
     "output_type": "display_data"
    },
    {
     "data": {
      "application/vnd.jupyter.widget-view+json": {
       "model_id": "",
       "version_major": 2,
       "version_minor": 0
      },
      "text/plain": [
       "HBox(children=(FloatProgress(value=0.0, description='Validation batches', max=25.0, style=ProgressStyle(descri…"
      ]
     },
     "metadata": {},
     "output_type": "display_data"
    },
    {
     "data": {
      "application/vnd.jupyter.widget-view+json": {
       "model_id": "",
       "version_major": 2,
       "version_minor": 0
      },
      "text/plain": [
       "HBox(children=(FloatProgress(value=0.0, description='Train batches', max=75.0, style=ProgressStyle(description…"
      ]
     },
     "metadata": {},
     "output_type": "display_data"
    },
    {
     "data": {
      "application/vnd.jupyter.widget-view+json": {
       "model_id": "",
       "version_major": 2,
       "version_minor": 0
      },
      "text/plain": [
       "HBox(children=(FloatProgress(value=0.0, description='Validation batches', max=25.0, style=ProgressStyle(descri…"
      ]
     },
     "metadata": {},
     "output_type": "display_data"
    },
    {
     "data": {
      "application/vnd.jupyter.widget-view+json": {
       "model_id": "",
       "version_major": 2,
       "version_minor": 0
      },
      "text/plain": [
       "HBox(children=(FloatProgress(value=0.0, description='Train batches', max=75.0, style=ProgressStyle(description…"
      ]
     },
     "metadata": {},
     "output_type": "display_data"
    },
    {
     "data": {
      "application/vnd.jupyter.widget-view+json": {
       "model_id": "",
       "version_major": 2,
       "version_minor": 0
      },
      "text/plain": [
       "HBox(children=(FloatProgress(value=0.0, description='Validation batches', max=25.0, style=ProgressStyle(descri…"
      ]
     },
     "metadata": {},
     "output_type": "display_data"
    },
    {
     "data": {
      "application/vnd.jupyter.widget-view+json": {
       "model_id": "",
       "version_major": 2,
       "version_minor": 0
      },
      "text/plain": [
       "HBox(children=(FloatProgress(value=0.0, description='Train batches', max=75.0, style=ProgressStyle(description…"
      ]
     },
     "metadata": {},
     "output_type": "display_data"
    },
    {
     "data": {
      "application/vnd.jupyter.widget-view+json": {
       "model_id": "",
       "version_major": 2,
       "version_minor": 0
      },
      "text/plain": [
       "HBox(children=(FloatProgress(value=0.0, description='Validation batches', max=25.0, style=ProgressStyle(descri…"
      ]
     },
     "metadata": {},
     "output_type": "display_data"
    },
    {
     "data": {
      "application/vnd.jupyter.widget-view+json": {
       "model_id": "",
       "version_major": 2,
       "version_minor": 0
      },
      "text/plain": [
       "HBox(children=(FloatProgress(value=0.0, description='Train batches', max=75.0, style=ProgressStyle(description…"
      ]
     },
     "metadata": {},
     "output_type": "display_data"
    },
    {
     "data": {
      "application/vnd.jupyter.widget-view+json": {
       "model_id": "",
       "version_major": 2,
       "version_minor": 0
      },
      "text/plain": [
       "HBox(children=(FloatProgress(value=0.0, description='Validation batches', max=25.0, style=ProgressStyle(descri…"
      ]
     },
     "metadata": {},
     "output_type": "display_data"
    },
    {
     "name": "stdout",
     "output_type": "stream",
     "text": [
      "Early stopping at epoch 31 out of 50 total.\n"
     ]
    },
    {
     "data": {
      "application/javascript": [
       "/* Put everything inside the global mpl namespace */\n",
       "window.mpl = {};\n",
       "\n",
       "\n",
       "mpl.get_websocket_type = function() {\n",
       "    if (typeof(WebSocket) !== 'undefined') {\n",
       "        return WebSocket;\n",
       "    } else if (typeof(MozWebSocket) !== 'undefined') {\n",
       "        return MozWebSocket;\n",
       "    } else {\n",
       "        alert('Your browser does not have WebSocket support. ' +\n",
       "              'Please try Chrome, Safari or Firefox ≥ 6. ' +\n",
       "              'Firefox 4 and 5 are also supported but you ' +\n",
       "              'have to enable WebSockets in about:config.');\n",
       "    };\n",
       "}\n",
       "\n",
       "mpl.figure = function(figure_id, websocket, ondownload, parent_element) {\n",
       "    this.id = figure_id;\n",
       "\n",
       "    this.ws = websocket;\n",
       "\n",
       "    this.supports_binary = (this.ws.binaryType != undefined);\n",
       "\n",
       "    if (!this.supports_binary) {\n",
       "        var warnings = document.getElementById(\"mpl-warnings\");\n",
       "        if (warnings) {\n",
       "            warnings.style.display = 'block';\n",
       "            warnings.textContent = (\n",
       "                \"This browser does not support binary websocket messages. \" +\n",
       "                    \"Performance may be slow.\");\n",
       "        }\n",
       "    }\n",
       "\n",
       "    this.imageObj = new Image();\n",
       "\n",
       "    this.context = undefined;\n",
       "    this.message = undefined;\n",
       "    this.canvas = undefined;\n",
       "    this.rubberband_canvas = undefined;\n",
       "    this.rubberband_context = undefined;\n",
       "    this.format_dropdown = undefined;\n",
       "\n",
       "    this.image_mode = 'full';\n",
       "\n",
       "    this.root = $('<div/>');\n",
       "    this._root_extra_style(this.root)\n",
       "    this.root.attr('style', 'display: inline-block');\n",
       "\n",
       "    $(parent_element).append(this.root);\n",
       "\n",
       "    this._init_header(this);\n",
       "    this._init_canvas(this);\n",
       "    this._init_toolbar(this);\n",
       "\n",
       "    var fig = this;\n",
       "\n",
       "    this.waiting = false;\n",
       "\n",
       "    this.ws.onopen =  function () {\n",
       "            fig.send_message(\"supports_binary\", {value: fig.supports_binary});\n",
       "            fig.send_message(\"send_image_mode\", {});\n",
       "            if (mpl.ratio != 1) {\n",
       "                fig.send_message(\"set_dpi_ratio\", {'dpi_ratio': mpl.ratio});\n",
       "            }\n",
       "            fig.send_message(\"refresh\", {});\n",
       "        }\n",
       "\n",
       "    this.imageObj.onload = function() {\n",
       "            if (fig.image_mode == 'full') {\n",
       "                // Full images could contain transparency (where diff images\n",
       "                // almost always do), so we need to clear the canvas so that\n",
       "                // there is no ghosting.\n",
       "                fig.context.clearRect(0, 0, fig.canvas.width, fig.canvas.height);\n",
       "            }\n",
       "            fig.context.drawImage(fig.imageObj, 0, 0);\n",
       "        };\n",
       "\n",
       "    this.imageObj.onunload = function() {\n",
       "        fig.ws.close();\n",
       "    }\n",
       "\n",
       "    this.ws.onmessage = this._make_on_message_function(this);\n",
       "\n",
       "    this.ondownload = ondownload;\n",
       "}\n",
       "\n",
       "mpl.figure.prototype._init_header = function() {\n",
       "    var titlebar = $(\n",
       "        '<div class=\"ui-dialog-titlebar ui-widget-header ui-corner-all ' +\n",
       "        'ui-helper-clearfix\"/>');\n",
       "    var titletext = $(\n",
       "        '<div class=\"ui-dialog-title\" style=\"width: 100%; ' +\n",
       "        'text-align: center; padding: 3px;\"/>');\n",
       "    titlebar.append(titletext)\n",
       "    this.root.append(titlebar);\n",
       "    this.header = titletext[0];\n",
       "}\n",
       "\n",
       "\n",
       "\n",
       "mpl.figure.prototype._canvas_extra_style = function(canvas_div) {\n",
       "\n",
       "}\n",
       "\n",
       "\n",
       "mpl.figure.prototype._root_extra_style = function(canvas_div) {\n",
       "\n",
       "}\n",
       "\n",
       "mpl.figure.prototype._init_canvas = function() {\n",
       "    var fig = this;\n",
       "\n",
       "    var canvas_div = $('<div/>');\n",
       "\n",
       "    canvas_div.attr('style', 'position: relative; clear: both; outline: 0');\n",
       "\n",
       "    function canvas_keyboard_event(event) {\n",
       "        return fig.key_event(event, event['data']);\n",
       "    }\n",
       "\n",
       "    canvas_div.keydown('key_press', canvas_keyboard_event);\n",
       "    canvas_div.keyup('key_release', canvas_keyboard_event);\n",
       "    this.canvas_div = canvas_div\n",
       "    this._canvas_extra_style(canvas_div)\n",
       "    this.root.append(canvas_div);\n",
       "\n",
       "    var canvas = $('<canvas/>');\n",
       "    canvas.addClass('mpl-canvas');\n",
       "    canvas.attr('style', \"left: 0; top: 0; z-index: 0; outline: 0\")\n",
       "\n",
       "    this.canvas = canvas[0];\n",
       "    this.context = canvas[0].getContext(\"2d\");\n",
       "\n",
       "    var backingStore = this.context.backingStorePixelRatio ||\n",
       "\tthis.context.webkitBackingStorePixelRatio ||\n",
       "\tthis.context.mozBackingStorePixelRatio ||\n",
       "\tthis.context.msBackingStorePixelRatio ||\n",
       "\tthis.context.oBackingStorePixelRatio ||\n",
       "\tthis.context.backingStorePixelRatio || 1;\n",
       "\n",
       "    mpl.ratio = (window.devicePixelRatio || 1) / backingStore;\n",
       "\n",
       "    var rubberband = $('<canvas/>');\n",
       "    rubberband.attr('style', \"position: absolute; left: 0; top: 0; z-index: 1;\")\n",
       "\n",
       "    var pass_mouse_events = true;\n",
       "\n",
       "    canvas_div.resizable({\n",
       "        start: function(event, ui) {\n",
       "            pass_mouse_events = false;\n",
       "        },\n",
       "        resize: function(event, ui) {\n",
       "            fig.request_resize(ui.size.width, ui.size.height);\n",
       "        },\n",
       "        stop: function(event, ui) {\n",
       "            pass_mouse_events = true;\n",
       "            fig.request_resize(ui.size.width, ui.size.height);\n",
       "        },\n",
       "    });\n",
       "\n",
       "    function mouse_event_fn(event) {\n",
       "        if (pass_mouse_events)\n",
       "            return fig.mouse_event(event, event['data']);\n",
       "    }\n",
       "\n",
       "    rubberband.mousedown('button_press', mouse_event_fn);\n",
       "    rubberband.mouseup('button_release', mouse_event_fn);\n",
       "    // Throttle sequential mouse events to 1 every 20ms.\n",
       "    rubberband.mousemove('motion_notify', mouse_event_fn);\n",
       "\n",
       "    rubberband.mouseenter('figure_enter', mouse_event_fn);\n",
       "    rubberband.mouseleave('figure_leave', mouse_event_fn);\n",
       "\n",
       "    canvas_div.on(\"wheel\", function (event) {\n",
       "        event = event.originalEvent;\n",
       "        event['data'] = 'scroll'\n",
       "        if (event.deltaY < 0) {\n",
       "            event.step = 1;\n",
       "        } else {\n",
       "            event.step = -1;\n",
       "        }\n",
       "        mouse_event_fn(event);\n",
       "    });\n",
       "\n",
       "    canvas_div.append(canvas);\n",
       "    canvas_div.append(rubberband);\n",
       "\n",
       "    this.rubberband = rubberband;\n",
       "    this.rubberband_canvas = rubberband[0];\n",
       "    this.rubberband_context = rubberband[0].getContext(\"2d\");\n",
       "    this.rubberband_context.strokeStyle = \"#000000\";\n",
       "\n",
       "    this._resize_canvas = function(width, height) {\n",
       "        // Keep the size of the canvas, canvas container, and rubber band\n",
       "        // canvas in synch.\n",
       "        canvas_div.css('width', width)\n",
       "        canvas_div.css('height', height)\n",
       "\n",
       "        canvas.attr('width', width * mpl.ratio);\n",
       "        canvas.attr('height', height * mpl.ratio);\n",
       "        canvas.attr('style', 'width: ' + width + 'px; height: ' + height + 'px;');\n",
       "\n",
       "        rubberband.attr('width', width);\n",
       "        rubberband.attr('height', height);\n",
       "    }\n",
       "\n",
       "    // Set the figure to an initial 600x600px, this will subsequently be updated\n",
       "    // upon first draw.\n",
       "    this._resize_canvas(600, 600);\n",
       "\n",
       "    // Disable right mouse context menu.\n",
       "    $(this.rubberband_canvas).bind(\"contextmenu\",function(e){\n",
       "        return false;\n",
       "    });\n",
       "\n",
       "    function set_focus () {\n",
       "        canvas.focus();\n",
       "        canvas_div.focus();\n",
       "    }\n",
       "\n",
       "    window.setTimeout(set_focus, 100);\n",
       "}\n",
       "\n",
       "mpl.figure.prototype._init_toolbar = function() {\n",
       "    var fig = this;\n",
       "\n",
       "    var nav_element = $('<div/>');\n",
       "    nav_element.attr('style', 'width: 100%');\n",
       "    this.root.append(nav_element);\n",
       "\n",
       "    // Define a callback function for later on.\n",
       "    function toolbar_event(event) {\n",
       "        return fig.toolbar_button_onclick(event['data']);\n",
       "    }\n",
       "    function toolbar_mouse_event(event) {\n",
       "        return fig.toolbar_button_onmouseover(event['data']);\n",
       "    }\n",
       "\n",
       "    for(var toolbar_ind in mpl.toolbar_items) {\n",
       "        var name = mpl.toolbar_items[toolbar_ind][0];\n",
       "        var tooltip = mpl.toolbar_items[toolbar_ind][1];\n",
       "        var image = mpl.toolbar_items[toolbar_ind][2];\n",
       "        var method_name = mpl.toolbar_items[toolbar_ind][3];\n",
       "\n",
       "        if (!name) {\n",
       "            // put a spacer in here.\n",
       "            continue;\n",
       "        }\n",
       "        var button = $('<button/>');\n",
       "        button.addClass('ui-button ui-widget ui-state-default ui-corner-all ' +\n",
       "                        'ui-button-icon-only');\n",
       "        button.attr('role', 'button');\n",
       "        button.attr('aria-disabled', 'false');\n",
       "        button.click(method_name, toolbar_event);\n",
       "        button.mouseover(tooltip, toolbar_mouse_event);\n",
       "\n",
       "        var icon_img = $('<span/>');\n",
       "        icon_img.addClass('ui-button-icon-primary ui-icon');\n",
       "        icon_img.addClass(image);\n",
       "        icon_img.addClass('ui-corner-all');\n",
       "\n",
       "        var tooltip_span = $('<span/>');\n",
       "        tooltip_span.addClass('ui-button-text');\n",
       "        tooltip_span.html(tooltip);\n",
       "\n",
       "        button.append(icon_img);\n",
       "        button.append(tooltip_span);\n",
       "\n",
       "        nav_element.append(button);\n",
       "    }\n",
       "\n",
       "    var fmt_picker_span = $('<span/>');\n",
       "\n",
       "    var fmt_picker = $('<select/>');\n",
       "    fmt_picker.addClass('mpl-toolbar-option ui-widget ui-widget-content');\n",
       "    fmt_picker_span.append(fmt_picker);\n",
       "    nav_element.append(fmt_picker_span);\n",
       "    this.format_dropdown = fmt_picker[0];\n",
       "\n",
       "    for (var ind in mpl.extensions) {\n",
       "        var fmt = mpl.extensions[ind];\n",
       "        var option = $(\n",
       "            '<option/>', {selected: fmt === mpl.default_extension}).html(fmt);\n",
       "        fmt_picker.append(option);\n",
       "    }\n",
       "\n",
       "    // Add hover states to the ui-buttons\n",
       "    $( \".ui-button\" ).hover(\n",
       "        function() { $(this).addClass(\"ui-state-hover\");},\n",
       "        function() { $(this).removeClass(\"ui-state-hover\");}\n",
       "    );\n",
       "\n",
       "    var status_bar = $('<span class=\"mpl-message\"/>');\n",
       "    nav_element.append(status_bar);\n",
       "    this.message = status_bar[0];\n",
       "}\n",
       "\n",
       "mpl.figure.prototype.request_resize = function(x_pixels, y_pixels) {\n",
       "    // Request matplotlib to resize the figure. Matplotlib will then trigger a resize in the client,\n",
       "    // which will in turn request a refresh of the image.\n",
       "    this.send_message('resize', {'width': x_pixels, 'height': y_pixels});\n",
       "}\n",
       "\n",
       "mpl.figure.prototype.send_message = function(type, properties) {\n",
       "    properties['type'] = type;\n",
       "    properties['figure_id'] = this.id;\n",
       "    this.ws.send(JSON.stringify(properties));\n",
       "}\n",
       "\n",
       "mpl.figure.prototype.send_draw_message = function() {\n",
       "    if (!this.waiting) {\n",
       "        this.waiting = true;\n",
       "        this.ws.send(JSON.stringify({type: \"draw\", figure_id: this.id}));\n",
       "    }\n",
       "}\n",
       "\n",
       "\n",
       "mpl.figure.prototype.handle_save = function(fig, msg) {\n",
       "    var format_dropdown = fig.format_dropdown;\n",
       "    var format = format_dropdown.options[format_dropdown.selectedIndex].value;\n",
       "    fig.ondownload(fig, format);\n",
       "}\n",
       "\n",
       "\n",
       "mpl.figure.prototype.handle_resize = function(fig, msg) {\n",
       "    var size = msg['size'];\n",
       "    if (size[0] != fig.canvas.width || size[1] != fig.canvas.height) {\n",
       "        fig._resize_canvas(size[0], size[1]);\n",
       "        fig.send_message(\"refresh\", {});\n",
       "    };\n",
       "}\n",
       "\n",
       "mpl.figure.prototype.handle_rubberband = function(fig, msg) {\n",
       "    var x0 = msg['x0'] / mpl.ratio;\n",
       "    var y0 = (fig.canvas.height - msg['y0']) / mpl.ratio;\n",
       "    var x1 = msg['x1'] / mpl.ratio;\n",
       "    var y1 = (fig.canvas.height - msg['y1']) / mpl.ratio;\n",
       "    x0 = Math.floor(x0) + 0.5;\n",
       "    y0 = Math.floor(y0) + 0.5;\n",
       "    x1 = Math.floor(x1) + 0.5;\n",
       "    y1 = Math.floor(y1) + 0.5;\n",
       "    var min_x = Math.min(x0, x1);\n",
       "    var min_y = Math.min(y0, y1);\n",
       "    var width = Math.abs(x1 - x0);\n",
       "    var height = Math.abs(y1 - y0);\n",
       "\n",
       "    fig.rubberband_context.clearRect(\n",
       "        0, 0, fig.canvas.width / mpl.ratio, fig.canvas.height / mpl.ratio);\n",
       "\n",
       "    fig.rubberband_context.strokeRect(min_x, min_y, width, height);\n",
       "}\n",
       "\n",
       "mpl.figure.prototype.handle_figure_label = function(fig, msg) {\n",
       "    // Updates the figure title.\n",
       "    fig.header.textContent = msg['label'];\n",
       "}\n",
       "\n",
       "mpl.figure.prototype.handle_cursor = function(fig, msg) {\n",
       "    var cursor = msg['cursor'];\n",
       "    switch(cursor)\n",
       "    {\n",
       "    case 0:\n",
       "        cursor = 'pointer';\n",
       "        break;\n",
       "    case 1:\n",
       "        cursor = 'default';\n",
       "        break;\n",
       "    case 2:\n",
       "        cursor = 'crosshair';\n",
       "        break;\n",
       "    case 3:\n",
       "        cursor = 'move';\n",
       "        break;\n",
       "    }\n",
       "    fig.rubberband_canvas.style.cursor = cursor;\n",
       "}\n",
       "\n",
       "mpl.figure.prototype.handle_message = function(fig, msg) {\n",
       "    fig.message.textContent = msg['message'];\n",
       "}\n",
       "\n",
       "mpl.figure.prototype.handle_draw = function(fig, msg) {\n",
       "    // Request the server to send over a new figure.\n",
       "    fig.send_draw_message();\n",
       "}\n",
       "\n",
       "mpl.figure.prototype.handle_image_mode = function(fig, msg) {\n",
       "    fig.image_mode = msg['mode'];\n",
       "}\n",
       "\n",
       "mpl.figure.prototype.updated_canvas_event = function() {\n",
       "    // Called whenever the canvas gets updated.\n",
       "    this.send_message(\"ack\", {});\n",
       "}\n",
       "\n",
       "// A function to construct a web socket function for onmessage handling.\n",
       "// Called in the figure constructor.\n",
       "mpl.figure.prototype._make_on_message_function = function(fig) {\n",
       "    return function socket_on_message(evt) {\n",
       "        if (evt.data instanceof Blob) {\n",
       "            /* FIXME: We get \"Resource interpreted as Image but\n",
       "             * transferred with MIME type text/plain:\" errors on\n",
       "             * Chrome.  But how to set the MIME type?  It doesn't seem\n",
       "             * to be part of the websocket stream */\n",
       "            evt.data.type = \"image/png\";\n",
       "\n",
       "            /* Free the memory for the previous frames */\n",
       "            if (fig.imageObj.src) {\n",
       "                (window.URL || window.webkitURL).revokeObjectURL(\n",
       "                    fig.imageObj.src);\n",
       "            }\n",
       "\n",
       "            fig.imageObj.src = (window.URL || window.webkitURL).createObjectURL(\n",
       "                evt.data);\n",
       "            fig.updated_canvas_event();\n",
       "            fig.waiting = false;\n",
       "            return;\n",
       "        }\n",
       "        else if (typeof evt.data === 'string' && evt.data.slice(0, 21) == \"data:image/png;base64\") {\n",
       "            fig.imageObj.src = evt.data;\n",
       "            fig.updated_canvas_event();\n",
       "            fig.waiting = false;\n",
       "            return;\n",
       "        }\n",
       "\n",
       "        var msg = JSON.parse(evt.data);\n",
       "        var msg_type = msg['type'];\n",
       "\n",
       "        // Call the  \"handle_{type}\" callback, which takes\n",
       "        // the figure and JSON message as its only arguments.\n",
       "        try {\n",
       "            var callback = fig[\"handle_\" + msg_type];\n",
       "        } catch (e) {\n",
       "            console.log(\"No handler for the '\" + msg_type + \"' message type: \", msg);\n",
       "            return;\n",
       "        }\n",
       "\n",
       "        if (callback) {\n",
       "            try {\n",
       "                // console.log(\"Handling '\" + msg_type + \"' message: \", msg);\n",
       "                callback(fig, msg);\n",
       "            } catch (e) {\n",
       "                console.log(\"Exception inside the 'handler_\" + msg_type + \"' callback:\", e, e.stack, msg);\n",
       "            }\n",
       "        }\n",
       "    };\n",
       "}\n",
       "\n",
       "// from http://stackoverflow.com/questions/1114465/getting-mouse-location-in-canvas\n",
       "mpl.findpos = function(e) {\n",
       "    //this section is from http://www.quirksmode.org/js/events_properties.html\n",
       "    var targ;\n",
       "    if (!e)\n",
       "        e = window.event;\n",
       "    if (e.target)\n",
       "        targ = e.target;\n",
       "    else if (e.srcElement)\n",
       "        targ = e.srcElement;\n",
       "    if (targ.nodeType == 3) // defeat Safari bug\n",
       "        targ = targ.parentNode;\n",
       "\n",
       "    // jQuery normalizes the pageX and pageY\n",
       "    // pageX,Y are the mouse positions relative to the document\n",
       "    // offset() returns the position of the element relative to the document\n",
       "    var x = e.pageX - $(targ).offset().left;\n",
       "    var y = e.pageY - $(targ).offset().top;\n",
       "\n",
       "    return {\"x\": x, \"y\": y};\n",
       "};\n",
       "\n",
       "/*\n",
       " * return a copy of an object with only non-object keys\n",
       " * we need this to avoid circular references\n",
       " * http://stackoverflow.com/a/24161582/3208463\n",
       " */\n",
       "function simpleKeys (original) {\n",
       "  return Object.keys(original).reduce(function (obj, key) {\n",
       "    if (typeof original[key] !== 'object')\n",
       "        obj[key] = original[key]\n",
       "    return obj;\n",
       "  }, {});\n",
       "}\n",
       "\n",
       "mpl.figure.prototype.mouse_event = function(event, name) {\n",
       "    var canvas_pos = mpl.findpos(event)\n",
       "\n",
       "    if (name === 'button_press')\n",
       "    {\n",
       "        this.canvas.focus();\n",
       "        this.canvas_div.focus();\n",
       "    }\n",
       "\n",
       "    var x = canvas_pos.x * mpl.ratio;\n",
       "    var y = canvas_pos.y * mpl.ratio;\n",
       "\n",
       "    this.send_message(name, {x: x, y: y, button: event.button,\n",
       "                             step: event.step,\n",
       "                             guiEvent: simpleKeys(event)});\n",
       "\n",
       "    /* This prevents the web browser from automatically changing to\n",
       "     * the text insertion cursor when the button is pressed.  We want\n",
       "     * to control all of the cursor setting manually through the\n",
       "     * 'cursor' event from matplotlib */\n",
       "    event.preventDefault();\n",
       "    return false;\n",
       "}\n",
       "\n",
       "mpl.figure.prototype._key_event_extra = function(event, name) {\n",
       "    // Handle any extra behaviour associated with a key event\n",
       "}\n",
       "\n",
       "mpl.figure.prototype.key_event = function(event, name) {\n",
       "\n",
       "    // Prevent repeat events\n",
       "    if (name == 'key_press')\n",
       "    {\n",
       "        if (event.which === this._key)\n",
       "            return;\n",
       "        else\n",
       "            this._key = event.which;\n",
       "    }\n",
       "    if (name == 'key_release')\n",
       "        this._key = null;\n",
       "\n",
       "    var value = '';\n",
       "    if (event.ctrlKey && event.which != 17)\n",
       "        value += \"ctrl+\";\n",
       "    if (event.altKey && event.which != 18)\n",
       "        value += \"alt+\";\n",
       "    if (event.shiftKey && event.which != 16)\n",
       "        value += \"shift+\";\n",
       "\n",
       "    value += 'k';\n",
       "    value += event.which.toString();\n",
       "\n",
       "    this._key_event_extra(event, name);\n",
       "\n",
       "    this.send_message(name, {key: value,\n",
       "                             guiEvent: simpleKeys(event)});\n",
       "    return false;\n",
       "}\n",
       "\n",
       "mpl.figure.prototype.toolbar_button_onclick = function(name) {\n",
       "    if (name == 'download') {\n",
       "        this.handle_save(this, null);\n",
       "    } else {\n",
       "        this.send_message(\"toolbar_button\", {name: name});\n",
       "    }\n",
       "};\n",
       "\n",
       "mpl.figure.prototype.toolbar_button_onmouseover = function(tooltip) {\n",
       "    this.message.textContent = tooltip;\n",
       "};\n",
       "mpl.toolbar_items = [[\"Home\", \"Reset original view\", \"fa fa-home icon-home\", \"home\"], [\"Back\", \"Back to previous view\", \"fa fa-arrow-left icon-arrow-left\", \"back\"], [\"Forward\", \"Forward to next view\", \"fa fa-arrow-right icon-arrow-right\", \"forward\"], [\"\", \"\", \"\", \"\"], [\"Pan\", \"Pan axes with left mouse, zoom with right\", \"fa fa-arrows icon-move\", \"pan\"], [\"Zoom\", \"Zoom to rectangle\", \"fa fa-square-o icon-check-empty\", \"zoom\"], [\"\", \"\", \"\", \"\"], [\"Download\", \"Download plot\", \"fa fa-floppy-o icon-save\", \"download\"]];\n",
       "\n",
       "mpl.extensions = [\"eps\", \"jpeg\", \"pdf\", \"png\", \"ps\", \"raw\", \"svg\", \"tif\"];\n",
       "\n",
       "mpl.default_extension = \"png\";var comm_websocket_adapter = function(comm) {\n",
       "    // Create a \"websocket\"-like object which calls the given IPython comm\n",
       "    // object with the appropriate methods. Currently this is a non binary\n",
       "    // socket, so there is still some room for performance tuning.\n",
       "    var ws = {};\n",
       "\n",
       "    ws.close = function() {\n",
       "        comm.close()\n",
       "    };\n",
       "    ws.send = function(m) {\n",
       "        //console.log('sending', m);\n",
       "        comm.send(m);\n",
       "    };\n",
       "    // Register the callback with on_msg.\n",
       "    comm.on_msg(function(msg) {\n",
       "        //console.log('receiving', msg['content']['data'], msg);\n",
       "        // Pass the mpl event to the overridden (by mpl) onmessage function.\n",
       "        ws.onmessage(msg['content']['data'])\n",
       "    });\n",
       "    return ws;\n",
       "}\n",
       "\n",
       "mpl.mpl_figure_comm = function(comm, msg) {\n",
       "    // This is the function which gets called when the mpl process\n",
       "    // starts-up an IPython Comm through the \"matplotlib\" channel.\n",
       "\n",
       "    var id = msg.content.data.id;\n",
       "    // Get hold of the div created by the display call when the Comm\n",
       "    // socket was opened in Python.\n",
       "    var element = $(\"#\" + id);\n",
       "    var ws_proxy = comm_websocket_adapter(comm)\n",
       "\n",
       "    function ondownload(figure, format) {\n",
       "        window.open(figure.imageObj.src);\n",
       "    }\n",
       "\n",
       "    var fig = new mpl.figure(id, ws_proxy,\n",
       "                           ondownload,\n",
       "                           element.get(0));\n",
       "\n",
       "    // Call onopen now - mpl needs it, as it is assuming we've passed it a real\n",
       "    // web socket which is closed, not our websocket->open comm proxy.\n",
       "    ws_proxy.onopen();\n",
       "\n",
       "    fig.parent_element = element.get(0);\n",
       "    fig.cell_info = mpl.find_output_cell(\"<div id='\" + id + \"'></div>\");\n",
       "    if (!fig.cell_info) {\n",
       "        console.error(\"Failed to find cell for figure\", id, fig);\n",
       "        return;\n",
       "    }\n",
       "\n",
       "    var output_index = fig.cell_info[2]\n",
       "    var cell = fig.cell_info[0];\n",
       "\n",
       "};\n",
       "\n",
       "mpl.figure.prototype.handle_close = function(fig, msg) {\n",
       "    var width = fig.canvas.width/mpl.ratio\n",
       "    fig.root.unbind('remove')\n",
       "\n",
       "    // Update the output cell to use the data from the current canvas.\n",
       "    fig.push_to_output();\n",
       "    var dataURL = fig.canvas.toDataURL();\n",
       "    // Re-enable the keyboard manager in IPython - without this line, in FF,\n",
       "    // the notebook keyboard shortcuts fail.\n",
       "    IPython.keyboard_manager.enable()\n",
       "    $(fig.parent_element).html('<img src=\"' + dataURL + '\" width=\"' + width + '\">');\n",
       "    fig.close_ws(fig, msg);\n",
       "}\n",
       "\n",
       "mpl.figure.prototype.close_ws = function(fig, msg){\n",
       "    fig.send_message('closing', msg);\n",
       "    // fig.ws.close()\n",
       "}\n",
       "\n",
       "mpl.figure.prototype.push_to_output = function(remove_interactive) {\n",
       "    // Turn the data on the canvas into data in the output cell.\n",
       "    var width = this.canvas.width/mpl.ratio\n",
       "    var dataURL = this.canvas.toDataURL();\n",
       "    this.cell_info[1]['text/html'] = '<img src=\"' + dataURL + '\" width=\"' + width + '\">';\n",
       "}\n",
       "\n",
       "mpl.figure.prototype.updated_canvas_event = function() {\n",
       "    // Tell IPython that the notebook contents must change.\n",
       "    IPython.notebook.set_dirty(true);\n",
       "    this.send_message(\"ack\", {});\n",
       "    var fig = this;\n",
       "    // Wait a second, then push the new image to the DOM so\n",
       "    // that it is saved nicely (might be nice to debounce this).\n",
       "    setTimeout(function () { fig.push_to_output() }, 1000);\n",
       "}\n",
       "\n",
       "mpl.figure.prototype._init_toolbar = function() {\n",
       "    var fig = this;\n",
       "\n",
       "    var nav_element = $('<div/>');\n",
       "    nav_element.attr('style', 'width: 100%');\n",
       "    this.root.append(nav_element);\n",
       "\n",
       "    // Define a callback function for later on.\n",
       "    function toolbar_event(event) {\n",
       "        return fig.toolbar_button_onclick(event['data']);\n",
       "    }\n",
       "    function toolbar_mouse_event(event) {\n",
       "        return fig.toolbar_button_onmouseover(event['data']);\n",
       "    }\n",
       "\n",
       "    for(var toolbar_ind in mpl.toolbar_items){\n",
       "        var name = mpl.toolbar_items[toolbar_ind][0];\n",
       "        var tooltip = mpl.toolbar_items[toolbar_ind][1];\n",
       "        var image = mpl.toolbar_items[toolbar_ind][2];\n",
       "        var method_name = mpl.toolbar_items[toolbar_ind][3];\n",
       "\n",
       "        if (!name) { continue; };\n",
       "\n",
       "        var button = $('<button class=\"btn btn-default\" href=\"#\" title=\"' + name + '\"><i class=\"fa ' + image + ' fa-lg\"></i></button>');\n",
       "        button.click(method_name, toolbar_event);\n",
       "        button.mouseover(tooltip, toolbar_mouse_event);\n",
       "        nav_element.append(button);\n",
       "    }\n",
       "\n",
       "    // Add the status bar.\n",
       "    var status_bar = $('<span class=\"mpl-message\" style=\"text-align:right; float: right;\"/>');\n",
       "    nav_element.append(status_bar);\n",
       "    this.message = status_bar[0];\n",
       "\n",
       "    // Add the close button to the window.\n",
       "    var buttongrp = $('<div class=\"btn-group inline pull-right\"></div>');\n",
       "    var button = $('<button class=\"btn btn-mini btn-primary\" href=\"#\" title=\"Stop Interaction\"><i class=\"fa fa-power-off icon-remove icon-large\"></i></button>');\n",
       "    button.click(function (evt) { fig.handle_close(fig, {}); } );\n",
       "    button.mouseover('Stop Interaction', toolbar_mouse_event);\n",
       "    buttongrp.append(button);\n",
       "    var titlebar = this.root.find($('.ui-dialog-titlebar'));\n",
       "    titlebar.prepend(buttongrp);\n",
       "}\n",
       "\n",
       "mpl.figure.prototype._root_extra_style = function(el){\n",
       "    var fig = this\n",
       "    el.on(\"remove\", function(){\n",
       "\tfig.close_ws(fig, {});\n",
       "    });\n",
       "}\n",
       "\n",
       "mpl.figure.prototype._canvas_extra_style = function(el){\n",
       "    // this is important to make the div 'focusable\n",
       "    el.attr('tabindex', 0)\n",
       "    // reach out to IPython and tell the keyboard manager to turn it's self\n",
       "    // off when our div gets focus\n",
       "\n",
       "    // location in version 3\n",
       "    if (IPython.notebook.keyboard_manager) {\n",
       "        IPython.notebook.keyboard_manager.register_events(el);\n",
       "    }\n",
       "    else {\n",
       "        // location in version 2\n",
       "        IPython.keyboard_manager.register_events(el);\n",
       "    }\n",
       "\n",
       "}\n",
       "\n",
       "mpl.figure.prototype._key_event_extra = function(event, name) {\n",
       "    var manager = IPython.notebook.keyboard_manager;\n",
       "    if (!manager)\n",
       "        manager = IPython.keyboard_manager;\n",
       "\n",
       "    // Check for shift+enter\n",
       "    if (event.shiftKey && event.which == 13) {\n",
       "        this.canvas_div.blur();\n",
       "        // select the cell after this one\n",
       "        var index = IPython.notebook.find_cell_index(this.cell_info[0]);\n",
       "        IPython.notebook.select(index + 1);\n",
       "    }\n",
       "}\n",
       "\n",
       "mpl.figure.prototype.handle_save = function(fig, msg) {\n",
       "    fig.ondownload(fig, null);\n",
       "}\n",
       "\n",
       "\n",
       "mpl.find_output_cell = function(html_output) {\n",
       "    // Return the cell and output element which can be found *uniquely* in the notebook.\n",
       "    // Note - this is a bit hacky, but it is done because the \"notebook_saving.Notebook\"\n",
       "    // IPython event is triggered only after the cells have been serialised, which for\n",
       "    // our purposes (turning an active figure into a static one), is too late.\n",
       "    var cells = IPython.notebook.get_cells();\n",
       "    var ncells = cells.length;\n",
       "    for (var i=0; i<ncells; i++) {\n",
       "        var cell = cells[i];\n",
       "        if (cell.cell_type === 'code'){\n",
       "            for (var j=0; j<cell.output_area.outputs.length; j++) {\n",
       "                var data = cell.output_area.outputs[j];\n",
       "                if (data.data) {\n",
       "                    // IPython >= 3 moved mimebundle to data attribute of output\n",
       "                    data = data.data;\n",
       "                }\n",
       "                if (data['text/html'] == html_output) {\n",
       "                    return [cell, data, j];\n",
       "                }\n",
       "            }\n",
       "        }\n",
       "    }\n",
       "}\n",
       "\n",
       "// Register the function which deals with the matplotlib target/channel.\n",
       "// The kernel may be null if the page has been refreshed.\n",
       "if (IPython.notebook.kernel != null) {\n",
       "    IPython.notebook.kernel.comm_manager.register_target('matplotlib', mpl.mpl_figure_comm);\n",
       "}\n"
      ],
      "text/plain": [
       "<IPython.core.display.Javascript object>"
      ]
     },
     "metadata": {},
     "output_type": "display_data"
    },
    {
     "data": {
      "text/html": [
       "<img src=\"data:image/png;base64,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\" width=\"640\">"
      ],
      "text/plain": [
       "<IPython.core.display.HTML object>"
      ]
     },
     "metadata": {},
     "output_type": "display_data"
    }
   ],
   "source": [
    "# Training parameters\n",
    "num_epochs = 50\n",
    "learning_rate = 0.0001\n",
    "\n",
    "# Model, loss, and optimizer\n",
    "cnn = CNN()\n",
    "cnn = cnn.to(device)\n",
    "criterion = nn.MSELoss()\n",
    "optimizer = optim.Adam(cnn.parameters(), lr=learning_rate)\n",
    "\n",
    "# Train the model\n",
    "validation_losses = []\n",
    "for epoch in tqdm(range(num_epochs), desc='Epochs', leave=False):\n",
    "\n",
    "    # Training loss\n",
    "    cnn.train()\n",
    "    for i, (images, targets) in enumerate(tqdm(training, desc='Train batches', leave=False)):\n",
    "\n",
    "        images, targets = images.to(device, dtype=torch.float), targets.to(device, dtype=torch.float)\n",
    "        outputs = cnn(images)\n",
    "        loss = criterion(outputs, targets)\n",
    "        optimizer.zero_grad()\n",
    "        loss.backward()\n",
    "        optimizer.step()\n",
    "\n",
    "    # Validation loss\n",
    "    cnn.eval()\n",
    "    epoch_losses = []\n",
    "    for i, (images, targets) in enumerate(tqdm(validation, desc='Validation batches', leave=False)):\n",
    "\n",
    "        images, targets = images.to(device, dtype=torch.float), targets.to(device, dtype=torch.float)\n",
    "        outputs = cnn(images)\n",
    "        loss_val = criterion(outputs, targets).item()\n",
    "        epoch_losses.append(loss_val)\n",
    "\n",
    "    # Early stopping\n",
    "    patience = 7\n",
    "    validation_losses.append(np.mean(epoch_losses))\n",
    "    if len(validation_losses) >= patience and np.argmin(validation_losses[-patience:]) == 0:\n",
    "        print(f\"Early stopping at epoch {epoch} out of {num_epochs} total.\")\n",
    "        break\n",
    "\n",
    "else:\n",
    "    print(f\"No early stopping used. Completed {num_epochs} epochs.\")\n",
    "\n",
    "# Plot the training curve\n",
    "plt.plot(np.arange(len(validation_losses)) + 1, validation_losses)\n",
    "plt.xlabel('Epoch number')\n",
    "plt.ylabel('Validation MSE loss')"
   ]
  },
  {
   "cell_type": "markdown",
   "metadata": {},
   "source": [
    "## Animal images"
   ]
  },
  {
   "cell_type": "code",
   "execution_count": 3,
   "metadata": {},
   "outputs": [],
   "source": [
    "from glob import glob\n",
    "\n",
    "from PIL import Image"
   ]
  },
  {
   "cell_type": "code",
   "execution_count": 44,
   "metadata": {},
   "outputs": [],
   "source": [
    "# Standardize the image inputs\n",
    "def sanitize(img):\n",
    "    \"\"\"\n",
    "    Convert a jpeg into an 100x100, 2 component image.\n",
    "    \"\"\"\n",
    "    # Resize image\n",
    "    min_length = min(img.size)\n",
    "    img = img.crop((0, 0, min_length, min_length))\n",
    "    img = img.resize((100, 100))\n",
    "\n",
    "    # Convert to 2-channel pixel array\n",
    "    return np.asarray([[r, 255-g] for r, g, b in img.getdata()]).reshape(100, 100, 2)"
   ]
  },
  {
   "cell_type": "code",
   "execution_count": 45,
   "metadata": {},
   "outputs": [],
   "source": [
    "# Assemble images\n",
    "labels = ['giraffe', 'leopard', 'zebra']\n",
    "images = {label: [sanitize(Image.open(image)) for image in glob(f\"patterns/{label}_*.jpg\")] for label in labels}"
   ]
  },
  {
   "cell_type": "code",
   "execution_count": 51,
   "metadata": {},
   "outputs": [
    {
     "data": {
      "application/javascript": [
       "/* Put everything inside the global mpl namespace */\n",
       "window.mpl = {};\n",
       "\n",
       "\n",
       "mpl.get_websocket_type = function() {\n",
       "    if (typeof(WebSocket) !== 'undefined') {\n",
       "        return WebSocket;\n",
       "    } else if (typeof(MozWebSocket) !== 'undefined') {\n",
       "        return MozWebSocket;\n",
       "    } else {\n",
       "        alert('Your browser does not have WebSocket support. ' +\n",
       "              'Please try Chrome, Safari or Firefox ≥ 6. ' +\n",
       "              'Firefox 4 and 5 are also supported but you ' +\n",
       "              'have to enable WebSockets in about:config.');\n",
       "    };\n",
       "}\n",
       "\n",
       "mpl.figure = function(figure_id, websocket, ondownload, parent_element) {\n",
       "    this.id = figure_id;\n",
       "\n",
       "    this.ws = websocket;\n",
       "\n",
       "    this.supports_binary = (this.ws.binaryType != undefined);\n",
       "\n",
       "    if (!this.supports_binary) {\n",
       "        var warnings = document.getElementById(\"mpl-warnings\");\n",
       "        if (warnings) {\n",
       "            warnings.style.display = 'block';\n",
       "            warnings.textContent = (\n",
       "                \"This browser does not support binary websocket messages. \" +\n",
       "                    \"Performance may be slow.\");\n",
       "        }\n",
       "    }\n",
       "\n",
       "    this.imageObj = new Image();\n",
       "\n",
       "    this.context = undefined;\n",
       "    this.message = undefined;\n",
       "    this.canvas = undefined;\n",
       "    this.rubberband_canvas = undefined;\n",
       "    this.rubberband_context = undefined;\n",
       "    this.format_dropdown = undefined;\n",
       "\n",
       "    this.image_mode = 'full';\n",
       "\n",
       "    this.root = $('<div/>');\n",
       "    this._root_extra_style(this.root)\n",
       "    this.root.attr('style', 'display: inline-block');\n",
       "\n",
       "    $(parent_element).append(this.root);\n",
       "\n",
       "    this._init_header(this);\n",
       "    this._init_canvas(this);\n",
       "    this._init_toolbar(this);\n",
       "\n",
       "    var fig = this;\n",
       "\n",
       "    this.waiting = false;\n",
       "\n",
       "    this.ws.onopen =  function () {\n",
       "            fig.send_message(\"supports_binary\", {value: fig.supports_binary});\n",
       "            fig.send_message(\"send_image_mode\", {});\n",
       "            if (mpl.ratio != 1) {\n",
       "                fig.send_message(\"set_dpi_ratio\", {'dpi_ratio': mpl.ratio});\n",
       "            }\n",
       "            fig.send_message(\"refresh\", {});\n",
       "        }\n",
       "\n",
       "    this.imageObj.onload = function() {\n",
       "            if (fig.image_mode == 'full') {\n",
       "                // Full images could contain transparency (where diff images\n",
       "                // almost always do), so we need to clear the canvas so that\n",
       "                // there is no ghosting.\n",
       "                fig.context.clearRect(0, 0, fig.canvas.width, fig.canvas.height);\n",
       "            }\n",
       "            fig.context.drawImage(fig.imageObj, 0, 0);\n",
       "        };\n",
       "\n",
       "    this.imageObj.onunload = function() {\n",
       "        fig.ws.close();\n",
       "    }\n",
       "\n",
       "    this.ws.onmessage = this._make_on_message_function(this);\n",
       "\n",
       "    this.ondownload = ondownload;\n",
       "}\n",
       "\n",
       "mpl.figure.prototype._init_header = function() {\n",
       "    var titlebar = $(\n",
       "        '<div class=\"ui-dialog-titlebar ui-widget-header ui-corner-all ' +\n",
       "        'ui-helper-clearfix\"/>');\n",
       "    var titletext = $(\n",
       "        '<div class=\"ui-dialog-title\" style=\"width: 100%; ' +\n",
       "        'text-align: center; padding: 3px;\"/>');\n",
       "    titlebar.append(titletext)\n",
       "    this.root.append(titlebar);\n",
       "    this.header = titletext[0];\n",
       "}\n",
       "\n",
       "\n",
       "\n",
       "mpl.figure.prototype._canvas_extra_style = function(canvas_div) {\n",
       "\n",
       "}\n",
       "\n",
       "\n",
       "mpl.figure.prototype._root_extra_style = function(canvas_div) {\n",
       "\n",
       "}\n",
       "\n",
       "mpl.figure.prototype._init_canvas = function() {\n",
       "    var fig = this;\n",
       "\n",
       "    var canvas_div = $('<div/>');\n",
       "\n",
       "    canvas_div.attr('style', 'position: relative; clear: both; outline: 0');\n",
       "\n",
       "    function canvas_keyboard_event(event) {\n",
       "        return fig.key_event(event, event['data']);\n",
       "    }\n",
       "\n",
       "    canvas_div.keydown('key_press', canvas_keyboard_event);\n",
       "    canvas_div.keyup('key_release', canvas_keyboard_event);\n",
       "    this.canvas_div = canvas_div\n",
       "    this._canvas_extra_style(canvas_div)\n",
       "    this.root.append(canvas_div);\n",
       "\n",
       "    var canvas = $('<canvas/>');\n",
       "    canvas.addClass('mpl-canvas');\n",
       "    canvas.attr('style', \"left: 0; top: 0; z-index: 0; outline: 0\")\n",
       "\n",
       "    this.canvas = canvas[0];\n",
       "    this.context = canvas[0].getContext(\"2d\");\n",
       "\n",
       "    var backingStore = this.context.backingStorePixelRatio ||\n",
       "\tthis.context.webkitBackingStorePixelRatio ||\n",
       "\tthis.context.mozBackingStorePixelRatio ||\n",
       "\tthis.context.msBackingStorePixelRatio ||\n",
       "\tthis.context.oBackingStorePixelRatio ||\n",
       "\tthis.context.backingStorePixelRatio || 1;\n",
       "\n",
       "    mpl.ratio = (window.devicePixelRatio || 1) / backingStore;\n",
       "\n",
       "    var rubberband = $('<canvas/>');\n",
       "    rubberband.attr('style', \"position: absolute; left: 0; top: 0; z-index: 1;\")\n",
       "\n",
       "    var pass_mouse_events = true;\n",
       "\n",
       "    canvas_div.resizable({\n",
       "        start: function(event, ui) {\n",
       "            pass_mouse_events = false;\n",
       "        },\n",
       "        resize: function(event, ui) {\n",
       "            fig.request_resize(ui.size.width, ui.size.height);\n",
       "        },\n",
       "        stop: function(event, ui) {\n",
       "            pass_mouse_events = true;\n",
       "            fig.request_resize(ui.size.width, ui.size.height);\n",
       "        },\n",
       "    });\n",
       "\n",
       "    function mouse_event_fn(event) {\n",
       "        if (pass_mouse_events)\n",
       "            return fig.mouse_event(event, event['data']);\n",
       "    }\n",
       "\n",
       "    rubberband.mousedown('button_press', mouse_event_fn);\n",
       "    rubberband.mouseup('button_release', mouse_event_fn);\n",
       "    // Throttle sequential mouse events to 1 every 20ms.\n",
       "    rubberband.mousemove('motion_notify', mouse_event_fn);\n",
       "\n",
       "    rubberband.mouseenter('figure_enter', mouse_event_fn);\n",
       "    rubberband.mouseleave('figure_leave', mouse_event_fn);\n",
       "\n",
       "    canvas_div.on(\"wheel\", function (event) {\n",
       "        event = event.originalEvent;\n",
       "        event['data'] = 'scroll'\n",
       "        if (event.deltaY < 0) {\n",
       "            event.step = 1;\n",
       "        } else {\n",
       "            event.step = -1;\n",
       "        }\n",
       "        mouse_event_fn(event);\n",
       "    });\n",
       "\n",
       "    canvas_div.append(canvas);\n",
       "    canvas_div.append(rubberband);\n",
       "\n",
       "    this.rubberband = rubberband;\n",
       "    this.rubberband_canvas = rubberband[0];\n",
       "    this.rubberband_context = rubberband[0].getContext(\"2d\");\n",
       "    this.rubberband_context.strokeStyle = \"#000000\";\n",
       "\n",
       "    this._resize_canvas = function(width, height) {\n",
       "        // Keep the size of the canvas, canvas container, and rubber band\n",
       "        // canvas in synch.\n",
       "        canvas_div.css('width', width)\n",
       "        canvas_div.css('height', height)\n",
       "\n",
       "        canvas.attr('width', width * mpl.ratio);\n",
       "        canvas.attr('height', height * mpl.ratio);\n",
       "        canvas.attr('style', 'width: ' + width + 'px; height: ' + height + 'px;');\n",
       "\n",
       "        rubberband.attr('width', width);\n",
       "        rubberband.attr('height', height);\n",
       "    }\n",
       "\n",
       "    // Set the figure to an initial 600x600px, this will subsequently be updated\n",
       "    // upon first draw.\n",
       "    this._resize_canvas(600, 600);\n",
       "\n",
       "    // Disable right mouse context menu.\n",
       "    $(this.rubberband_canvas).bind(\"contextmenu\",function(e){\n",
       "        return false;\n",
       "    });\n",
       "\n",
       "    function set_focus () {\n",
       "        canvas.focus();\n",
       "        canvas_div.focus();\n",
       "    }\n",
       "\n",
       "    window.setTimeout(set_focus, 100);\n",
       "}\n",
       "\n",
       "mpl.figure.prototype._init_toolbar = function() {\n",
       "    var fig = this;\n",
       "\n",
       "    var nav_element = $('<div/>');\n",
       "    nav_element.attr('style', 'width: 100%');\n",
       "    this.root.append(nav_element);\n",
       "\n",
       "    // Define a callback function for later on.\n",
       "    function toolbar_event(event) {\n",
       "        return fig.toolbar_button_onclick(event['data']);\n",
       "    }\n",
       "    function toolbar_mouse_event(event) {\n",
       "        return fig.toolbar_button_onmouseover(event['data']);\n",
       "    }\n",
       "\n",
       "    for(var toolbar_ind in mpl.toolbar_items) {\n",
       "        var name = mpl.toolbar_items[toolbar_ind][0];\n",
       "        var tooltip = mpl.toolbar_items[toolbar_ind][1];\n",
       "        var image = mpl.toolbar_items[toolbar_ind][2];\n",
       "        var method_name = mpl.toolbar_items[toolbar_ind][3];\n",
       "\n",
       "        if (!name) {\n",
       "            // put a spacer in here.\n",
       "            continue;\n",
       "        }\n",
       "        var button = $('<button/>');\n",
       "        button.addClass('ui-button ui-widget ui-state-default ui-corner-all ' +\n",
       "                        'ui-button-icon-only');\n",
       "        button.attr('role', 'button');\n",
       "        button.attr('aria-disabled', 'false');\n",
       "        button.click(method_name, toolbar_event);\n",
       "        button.mouseover(tooltip, toolbar_mouse_event);\n",
       "\n",
       "        var icon_img = $('<span/>');\n",
       "        icon_img.addClass('ui-button-icon-primary ui-icon');\n",
       "        icon_img.addClass(image);\n",
       "        icon_img.addClass('ui-corner-all');\n",
       "\n",
       "        var tooltip_span = $('<span/>');\n",
       "        tooltip_span.addClass('ui-button-text');\n",
       "        tooltip_span.html(tooltip);\n",
       "\n",
       "        button.append(icon_img);\n",
       "        button.append(tooltip_span);\n",
       "\n",
       "        nav_element.append(button);\n",
       "    }\n",
       "\n",
       "    var fmt_picker_span = $('<span/>');\n",
       "\n",
       "    var fmt_picker = $('<select/>');\n",
       "    fmt_picker.addClass('mpl-toolbar-option ui-widget ui-widget-content');\n",
       "    fmt_picker_span.append(fmt_picker);\n",
       "    nav_element.append(fmt_picker_span);\n",
       "    this.format_dropdown = fmt_picker[0];\n",
       "\n",
       "    for (var ind in mpl.extensions) {\n",
       "        var fmt = mpl.extensions[ind];\n",
       "        var option = $(\n",
       "            '<option/>', {selected: fmt === mpl.default_extension}).html(fmt);\n",
       "        fmt_picker.append(option);\n",
       "    }\n",
       "\n",
       "    // Add hover states to the ui-buttons\n",
       "    $( \".ui-button\" ).hover(\n",
       "        function() { $(this).addClass(\"ui-state-hover\");},\n",
       "        function() { $(this).removeClass(\"ui-state-hover\");}\n",
       "    );\n",
       "\n",
       "    var status_bar = $('<span class=\"mpl-message\"/>');\n",
       "    nav_element.append(status_bar);\n",
       "    this.message = status_bar[0];\n",
       "}\n",
       "\n",
       "mpl.figure.prototype.request_resize = function(x_pixels, y_pixels) {\n",
       "    // Request matplotlib to resize the figure. Matplotlib will then trigger a resize in the client,\n",
       "    // which will in turn request a refresh of the image.\n",
       "    this.send_message('resize', {'width': x_pixels, 'height': y_pixels});\n",
       "}\n",
       "\n",
       "mpl.figure.prototype.send_message = function(type, properties) {\n",
       "    properties['type'] = type;\n",
       "    properties['figure_id'] = this.id;\n",
       "    this.ws.send(JSON.stringify(properties));\n",
       "}\n",
       "\n",
       "mpl.figure.prototype.send_draw_message = function() {\n",
       "    if (!this.waiting) {\n",
       "        this.waiting = true;\n",
       "        this.ws.send(JSON.stringify({type: \"draw\", figure_id: this.id}));\n",
       "    }\n",
       "}\n",
       "\n",
       "\n",
       "mpl.figure.prototype.handle_save = function(fig, msg) {\n",
       "    var format_dropdown = fig.format_dropdown;\n",
       "    var format = format_dropdown.options[format_dropdown.selectedIndex].value;\n",
       "    fig.ondownload(fig, format);\n",
       "}\n",
       "\n",
       "\n",
       "mpl.figure.prototype.handle_resize = function(fig, msg) {\n",
       "    var size = msg['size'];\n",
       "    if (size[0] != fig.canvas.width || size[1] != fig.canvas.height) {\n",
       "        fig._resize_canvas(size[0], size[1]);\n",
       "        fig.send_message(\"refresh\", {});\n",
       "    };\n",
       "}\n",
       "\n",
       "mpl.figure.prototype.handle_rubberband = function(fig, msg) {\n",
       "    var x0 = msg['x0'] / mpl.ratio;\n",
       "    var y0 = (fig.canvas.height - msg['y0']) / mpl.ratio;\n",
       "    var x1 = msg['x1'] / mpl.ratio;\n",
       "    var y1 = (fig.canvas.height - msg['y1']) / mpl.ratio;\n",
       "    x0 = Math.floor(x0) + 0.5;\n",
       "    y0 = Math.floor(y0) + 0.5;\n",
       "    x1 = Math.floor(x1) + 0.5;\n",
       "    y1 = Math.floor(y1) + 0.5;\n",
       "    var min_x = Math.min(x0, x1);\n",
       "    var min_y = Math.min(y0, y1);\n",
       "    var width = Math.abs(x1 - x0);\n",
       "    var height = Math.abs(y1 - y0);\n",
       "\n",
       "    fig.rubberband_context.clearRect(\n",
       "        0, 0, fig.canvas.width / mpl.ratio, fig.canvas.height / mpl.ratio);\n",
       "\n",
       "    fig.rubberband_context.strokeRect(min_x, min_y, width, height);\n",
       "}\n",
       "\n",
       "mpl.figure.prototype.handle_figure_label = function(fig, msg) {\n",
       "    // Updates the figure title.\n",
       "    fig.header.textContent = msg['label'];\n",
       "}\n",
       "\n",
       "mpl.figure.prototype.handle_cursor = function(fig, msg) {\n",
       "    var cursor = msg['cursor'];\n",
       "    switch(cursor)\n",
       "    {\n",
       "    case 0:\n",
       "        cursor = 'pointer';\n",
       "        break;\n",
       "    case 1:\n",
       "        cursor = 'default';\n",
       "        break;\n",
       "    case 2:\n",
       "        cursor = 'crosshair';\n",
       "        break;\n",
       "    case 3:\n",
       "        cursor = 'move';\n",
       "        break;\n",
       "    }\n",
       "    fig.rubberband_canvas.style.cursor = cursor;\n",
       "}\n",
       "\n",
       "mpl.figure.prototype.handle_message = function(fig, msg) {\n",
       "    fig.message.textContent = msg['message'];\n",
       "}\n",
       "\n",
       "mpl.figure.prototype.handle_draw = function(fig, msg) {\n",
       "    // Request the server to send over a new figure.\n",
       "    fig.send_draw_message();\n",
       "}\n",
       "\n",
       "mpl.figure.prototype.handle_image_mode = function(fig, msg) {\n",
       "    fig.image_mode = msg['mode'];\n",
       "}\n",
       "\n",
       "mpl.figure.prototype.updated_canvas_event = function() {\n",
       "    // Called whenever the canvas gets updated.\n",
       "    this.send_message(\"ack\", {});\n",
       "}\n",
       "\n",
       "// A function to construct a web socket function for onmessage handling.\n",
       "// Called in the figure constructor.\n",
       "mpl.figure.prototype._make_on_message_function = function(fig) {\n",
       "    return function socket_on_message(evt) {\n",
       "        if (evt.data instanceof Blob) {\n",
       "            /* FIXME: We get \"Resource interpreted as Image but\n",
       "             * transferred with MIME type text/plain:\" errors on\n",
       "             * Chrome.  But how to set the MIME type?  It doesn't seem\n",
       "             * to be part of the websocket stream */\n",
       "            evt.data.type = \"image/png\";\n",
       "\n",
       "            /* Free the memory for the previous frames */\n",
       "            if (fig.imageObj.src) {\n",
       "                (window.URL || window.webkitURL).revokeObjectURL(\n",
       "                    fig.imageObj.src);\n",
       "            }\n",
       "\n",
       "            fig.imageObj.src = (window.URL || window.webkitURL).createObjectURL(\n",
       "                evt.data);\n",
       "            fig.updated_canvas_event();\n",
       "            fig.waiting = false;\n",
       "            return;\n",
       "        }\n",
       "        else if (typeof evt.data === 'string' && evt.data.slice(0, 21) == \"data:image/png;base64\") {\n",
       "            fig.imageObj.src = evt.data;\n",
       "            fig.updated_canvas_event();\n",
       "            fig.waiting = false;\n",
       "            return;\n",
       "        }\n",
       "\n",
       "        var msg = JSON.parse(evt.data);\n",
       "        var msg_type = msg['type'];\n",
       "\n",
       "        // Call the  \"handle_{type}\" callback, which takes\n",
       "        // the figure and JSON message as its only arguments.\n",
       "        try {\n",
       "            var callback = fig[\"handle_\" + msg_type];\n",
       "        } catch (e) {\n",
       "            console.log(\"No handler for the '\" + msg_type + \"' message type: \", msg);\n",
       "            return;\n",
       "        }\n",
       "\n",
       "        if (callback) {\n",
       "            try {\n",
       "                // console.log(\"Handling '\" + msg_type + \"' message: \", msg);\n",
       "                callback(fig, msg);\n",
       "            } catch (e) {\n",
       "                console.log(\"Exception inside the 'handler_\" + msg_type + \"' callback:\", e, e.stack, msg);\n",
       "            }\n",
       "        }\n",
       "    };\n",
       "}\n",
       "\n",
       "// from http://stackoverflow.com/questions/1114465/getting-mouse-location-in-canvas\n",
       "mpl.findpos = function(e) {\n",
       "    //this section is from http://www.quirksmode.org/js/events_properties.html\n",
       "    var targ;\n",
       "    if (!e)\n",
       "        e = window.event;\n",
       "    if (e.target)\n",
       "        targ = e.target;\n",
       "    else if (e.srcElement)\n",
       "        targ = e.srcElement;\n",
       "    if (targ.nodeType == 3) // defeat Safari bug\n",
       "        targ = targ.parentNode;\n",
       "\n",
       "    // jQuery normalizes the pageX and pageY\n",
       "    // pageX,Y are the mouse positions relative to the document\n",
       "    // offset() returns the position of the element relative to the document\n",
       "    var x = e.pageX - $(targ).offset().left;\n",
       "    var y = e.pageY - $(targ).offset().top;\n",
       "\n",
       "    return {\"x\": x, \"y\": y};\n",
       "};\n",
       "\n",
       "/*\n",
       " * return a copy of an object with only non-object keys\n",
       " * we need this to avoid circular references\n",
       " * http://stackoverflow.com/a/24161582/3208463\n",
       " */\n",
       "function simpleKeys (original) {\n",
       "  return Object.keys(original).reduce(function (obj, key) {\n",
       "    if (typeof original[key] !== 'object')\n",
       "        obj[key] = original[key]\n",
       "    return obj;\n",
       "  }, {});\n",
       "}\n",
       "\n",
       "mpl.figure.prototype.mouse_event = function(event, name) {\n",
       "    var canvas_pos = mpl.findpos(event)\n",
       "\n",
       "    if (name === 'button_press')\n",
       "    {\n",
       "        this.canvas.focus();\n",
       "        this.canvas_div.focus();\n",
       "    }\n",
       "\n",
       "    var x = canvas_pos.x * mpl.ratio;\n",
       "    var y = canvas_pos.y * mpl.ratio;\n",
       "\n",
       "    this.send_message(name, {x: x, y: y, button: event.button,\n",
       "                             step: event.step,\n",
       "                             guiEvent: simpleKeys(event)});\n",
       "\n",
       "    /* This prevents the web browser from automatically changing to\n",
       "     * the text insertion cursor when the button is pressed.  We want\n",
       "     * to control all of the cursor setting manually through the\n",
       "     * 'cursor' event from matplotlib */\n",
       "    event.preventDefault();\n",
       "    return false;\n",
       "}\n",
       "\n",
       "mpl.figure.prototype._key_event_extra = function(event, name) {\n",
       "    // Handle any extra behaviour associated with a key event\n",
       "}\n",
       "\n",
       "mpl.figure.prototype.key_event = function(event, name) {\n",
       "\n",
       "    // Prevent repeat events\n",
       "    if (name == 'key_press')\n",
       "    {\n",
       "        if (event.which === this._key)\n",
       "            return;\n",
       "        else\n",
       "            this._key = event.which;\n",
       "    }\n",
       "    if (name == 'key_release')\n",
       "        this._key = null;\n",
       "\n",
       "    var value = '';\n",
       "    if (event.ctrlKey && event.which != 17)\n",
       "        value += \"ctrl+\";\n",
       "    if (event.altKey && event.which != 18)\n",
       "        value += \"alt+\";\n",
       "    if (event.shiftKey && event.which != 16)\n",
       "        value += \"shift+\";\n",
       "\n",
       "    value += 'k';\n",
       "    value += event.which.toString();\n",
       "\n",
       "    this._key_event_extra(event, name);\n",
       "\n",
       "    this.send_message(name, {key: value,\n",
       "                             guiEvent: simpleKeys(event)});\n",
       "    return false;\n",
       "}\n",
       "\n",
       "mpl.figure.prototype.toolbar_button_onclick = function(name) {\n",
       "    if (name == 'download') {\n",
       "        this.handle_save(this, null);\n",
       "    } else {\n",
       "        this.send_message(\"toolbar_button\", {name: name});\n",
       "    }\n",
       "};\n",
       "\n",
       "mpl.figure.prototype.toolbar_button_onmouseover = function(tooltip) {\n",
       "    this.message.textContent = tooltip;\n",
       "};\n",
       "mpl.toolbar_items = [[\"Home\", \"Reset original view\", \"fa fa-home icon-home\", \"home\"], [\"Back\", \"Back to previous view\", \"fa fa-arrow-left icon-arrow-left\", \"back\"], [\"Forward\", \"Forward to next view\", \"fa fa-arrow-right icon-arrow-right\", \"forward\"], [\"\", \"\", \"\", \"\"], [\"Pan\", \"Pan axes with left mouse, zoom with right\", \"fa fa-arrows icon-move\", \"pan\"], [\"Zoom\", \"Zoom to rectangle\", \"fa fa-square-o icon-check-empty\", \"zoom\"], [\"\", \"\", \"\", \"\"], [\"Download\", \"Download plot\", \"fa fa-floppy-o icon-save\", \"download\"]];\n",
       "\n",
       "mpl.extensions = [\"eps\", \"jpeg\", \"pdf\", \"png\", \"ps\", \"raw\", \"svg\", \"tif\"];\n",
       "\n",
       "mpl.default_extension = \"png\";var comm_websocket_adapter = function(comm) {\n",
       "    // Create a \"websocket\"-like object which calls the given IPython comm\n",
       "    // object with the appropriate methods. Currently this is a non binary\n",
       "    // socket, so there is still some room for performance tuning.\n",
       "    var ws = {};\n",
       "\n",
       "    ws.close = function() {\n",
       "        comm.close()\n",
       "    };\n",
       "    ws.send = function(m) {\n",
       "        //console.log('sending', m);\n",
       "        comm.send(m);\n",
       "    };\n",
       "    // Register the callback with on_msg.\n",
       "    comm.on_msg(function(msg) {\n",
       "        //console.log('receiving', msg['content']['data'], msg);\n",
       "        // Pass the mpl event to the overridden (by mpl) onmessage function.\n",
       "        ws.onmessage(msg['content']['data'])\n",
       "    });\n",
       "    return ws;\n",
       "}\n",
       "\n",
       "mpl.mpl_figure_comm = function(comm, msg) {\n",
       "    // This is the function which gets called when the mpl process\n",
       "    // starts-up an IPython Comm through the \"matplotlib\" channel.\n",
       "\n",
       "    var id = msg.content.data.id;\n",
       "    // Get hold of the div created by the display call when the Comm\n",
       "    // socket was opened in Python.\n",
       "    var element = $(\"#\" + id);\n",
       "    var ws_proxy = comm_websocket_adapter(comm)\n",
       "\n",
       "    function ondownload(figure, format) {\n",
       "        window.open(figure.imageObj.src);\n",
       "    }\n",
       "\n",
       "    var fig = new mpl.figure(id, ws_proxy,\n",
       "                           ondownload,\n",
       "                           element.get(0));\n",
       "\n",
       "    // Call onopen now - mpl needs it, as it is assuming we've passed it a real\n",
       "    // web socket which is closed, not our websocket->open comm proxy.\n",
       "    ws_proxy.onopen();\n",
       "\n",
       "    fig.parent_element = element.get(0);\n",
       "    fig.cell_info = mpl.find_output_cell(\"<div id='\" + id + \"'></div>\");\n",
       "    if (!fig.cell_info) {\n",
       "        console.error(\"Failed to find cell for figure\", id, fig);\n",
       "        return;\n",
       "    }\n",
       "\n",
       "    var output_index = fig.cell_info[2]\n",
       "    var cell = fig.cell_info[0];\n",
       "\n",
       "};\n",
       "\n",
       "mpl.figure.prototype.handle_close = function(fig, msg) {\n",
       "    var width = fig.canvas.width/mpl.ratio\n",
       "    fig.root.unbind('remove')\n",
       "\n",
       "    // Update the output cell to use the data from the current canvas.\n",
       "    fig.push_to_output();\n",
       "    var dataURL = fig.canvas.toDataURL();\n",
       "    // Re-enable the keyboard manager in IPython - without this line, in FF,\n",
       "    // the notebook keyboard shortcuts fail.\n",
       "    IPython.keyboard_manager.enable()\n",
       "    $(fig.parent_element).html('<img src=\"' + dataURL + '\" width=\"' + width + '\">');\n",
       "    fig.close_ws(fig, msg);\n",
       "}\n",
       "\n",
       "mpl.figure.prototype.close_ws = function(fig, msg){\n",
       "    fig.send_message('closing', msg);\n",
       "    // fig.ws.close()\n",
       "}\n",
       "\n",
       "mpl.figure.prototype.push_to_output = function(remove_interactive) {\n",
       "    // Turn the data on the canvas into data in the output cell.\n",
       "    var width = this.canvas.width/mpl.ratio\n",
       "    var dataURL = this.canvas.toDataURL();\n",
       "    this.cell_info[1]['text/html'] = '<img src=\"' + dataURL + '\" width=\"' + width + '\">';\n",
       "}\n",
       "\n",
       "mpl.figure.prototype.updated_canvas_event = function() {\n",
       "    // Tell IPython that the notebook contents must change.\n",
       "    IPython.notebook.set_dirty(true);\n",
       "    this.send_message(\"ack\", {});\n",
       "    var fig = this;\n",
       "    // Wait a second, then push the new image to the DOM so\n",
       "    // that it is saved nicely (might be nice to debounce this).\n",
       "    setTimeout(function () { fig.push_to_output() }, 1000);\n",
       "}\n",
       "\n",
       "mpl.figure.prototype._init_toolbar = function() {\n",
       "    var fig = this;\n",
       "\n",
       "    var nav_element = $('<div/>');\n",
       "    nav_element.attr('style', 'width: 100%');\n",
       "    this.root.append(nav_element);\n",
       "\n",
       "    // Define a callback function for later on.\n",
       "    function toolbar_event(event) {\n",
       "        return fig.toolbar_button_onclick(event['data']);\n",
       "    }\n",
       "    function toolbar_mouse_event(event) {\n",
       "        return fig.toolbar_button_onmouseover(event['data']);\n",
       "    }\n",
       "\n",
       "    for(var toolbar_ind in mpl.toolbar_items){\n",
       "        var name = mpl.toolbar_items[toolbar_ind][0];\n",
       "        var tooltip = mpl.toolbar_items[toolbar_ind][1];\n",
       "        var image = mpl.toolbar_items[toolbar_ind][2];\n",
       "        var method_name = mpl.toolbar_items[toolbar_ind][3];\n",
       "\n",
       "        if (!name) { continue; };\n",
       "\n",
       "        var button = $('<button class=\"btn btn-default\" href=\"#\" title=\"' + name + '\"><i class=\"fa ' + image + ' fa-lg\"></i></button>');\n",
       "        button.click(method_name, toolbar_event);\n",
       "        button.mouseover(tooltip, toolbar_mouse_event);\n",
       "        nav_element.append(button);\n",
       "    }\n",
       "\n",
       "    // Add the status bar.\n",
       "    var status_bar = $('<span class=\"mpl-message\" style=\"text-align:right; float: right;\"/>');\n",
       "    nav_element.append(status_bar);\n",
       "    this.message = status_bar[0];\n",
       "\n",
       "    // Add the close button to the window.\n",
       "    var buttongrp = $('<div class=\"btn-group inline pull-right\"></div>');\n",
       "    var button = $('<button class=\"btn btn-mini btn-primary\" href=\"#\" title=\"Stop Interaction\"><i class=\"fa fa-power-off icon-remove icon-large\"></i></button>');\n",
       "    button.click(function (evt) { fig.handle_close(fig, {}); } );\n",
       "    button.mouseover('Stop Interaction', toolbar_mouse_event);\n",
       "    buttongrp.append(button);\n",
       "    var titlebar = this.root.find($('.ui-dialog-titlebar'));\n",
       "    titlebar.prepend(buttongrp);\n",
       "}\n",
       "\n",
       "mpl.figure.prototype._root_extra_style = function(el){\n",
       "    var fig = this\n",
       "    el.on(\"remove\", function(){\n",
       "\tfig.close_ws(fig, {});\n",
       "    });\n",
       "}\n",
       "\n",
       "mpl.figure.prototype._canvas_extra_style = function(el){\n",
       "    // this is important to make the div 'focusable\n",
       "    el.attr('tabindex', 0)\n",
       "    // reach out to IPython and tell the keyboard manager to turn it's self\n",
       "    // off when our div gets focus\n",
       "\n",
       "    // location in version 3\n",
       "    if (IPython.notebook.keyboard_manager) {\n",
       "        IPython.notebook.keyboard_manager.register_events(el);\n",
       "    }\n",
       "    else {\n",
       "        // location in version 2\n",
       "        IPython.keyboard_manager.register_events(el);\n",
       "    }\n",
       "\n",
       "}\n",
       "\n",
       "mpl.figure.prototype._key_event_extra = function(event, name) {\n",
       "    var manager = IPython.notebook.keyboard_manager;\n",
       "    if (!manager)\n",
       "        manager = IPython.keyboard_manager;\n",
       "\n",
       "    // Check for shift+enter\n",
       "    if (event.shiftKey && event.which == 13) {\n",
       "        this.canvas_div.blur();\n",
       "        // select the cell after this one\n",
       "        var index = IPython.notebook.find_cell_index(this.cell_info[0]);\n",
       "        IPython.notebook.select(index + 1);\n",
       "    }\n",
       "}\n",
       "\n",
       "mpl.figure.prototype.handle_save = function(fig, msg) {\n",
       "    fig.ondownload(fig, null);\n",
       "}\n",
       "\n",
       "\n",
       "mpl.find_output_cell = function(html_output) {\n",
       "    // Return the cell and output element which can be found *uniquely* in the notebook.\n",
       "    // Note - this is a bit hacky, but it is done because the \"notebook_saving.Notebook\"\n",
       "    // IPython event is triggered only after the cells have been serialised, which for\n",
       "    // our purposes (turning an active figure into a static one), is too late.\n",
       "    var cells = IPython.notebook.get_cells();\n",
       "    var ncells = cells.length;\n",
       "    for (var i=0; i<ncells; i++) {\n",
       "        var cell = cells[i];\n",
       "        if (cell.cell_type === 'code'){\n",
       "            for (var j=0; j<cell.output_area.outputs.length; j++) {\n",
       "                var data = cell.output_area.outputs[j];\n",
       "                if (data.data) {\n",
       "                    // IPython >= 3 moved mimebundle to data attribute of output\n",
       "                    data = data.data;\n",
       "                }\n",
       "                if (data['text/html'] == html_output) {\n",
       "                    return [cell, data, j];\n",
       "                }\n",
       "            }\n",
       "        }\n",
       "    }\n",
       "}\n",
       "\n",
       "// Register the function which deals with the matplotlib target/channel.\n",
       "// The kernel may be null if the page has been refreshed.\n",
       "if (IPython.notebook.kernel != null) {\n",
       "    IPython.notebook.kernel.comm_manager.register_target('matplotlib', mpl.mpl_figure_comm);\n",
       "}\n"
      ],
      "text/plain": [
       "<IPython.core.display.Javascript object>"
      ]
     },
     "metadata": {},
     "output_type": "display_data"
    },
    {
     "data": {
      "text/html": [
       "<img src=\"data:image/png;base64,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\" width=\"640\">"
      ],
      "text/plain": [
       "<IPython.core.display.HTML object>"
      ]
     },
     "metadata": {},
     "output_type": "display_data"
    },
    {
     "data": {
      "text/plain": [
       "<matplotlib.image.AxesImage at 0x150387fb42d0>"
      ]
     },
     "execution_count": 51,
     "metadata": {},
     "output_type": "execute_result"
    }
   ],
   "source": [
    "# Demonstrate 2-component image\n",
    "img = images['zebra'][0]\n",
    "plt.subplot(121)\n",
    "plt.imshow(img[:,:,0], cmap='gist_gray')\n",
    "plt.subplot(122)\n",
    "plt.imshow(img[:,:,1], cmap='gist_gray')"
   ]
  },
  {
   "cell_type": "code",
   "execution_count": null,
   "metadata": {},
   "outputs": [],
   "source": []
  }
 ],
 "metadata": {
  "kernelspec": {
   "display_name": "Python 3",
   "language": "python",
   "name": "python3"
  },
  "language_info": {
   "codemirror_mode": {
    "name": "ipython",
    "version": 3
   },
   "file_extension": ".py",
   "mimetype": "text/x-python",
   "name": "python",
   "nbconvert_exporter": "python",
   "pygments_lexer": "ipython3",
   "version": "3.7.7"
  }
 },
 "nbformat": 4,
 "nbformat_minor": 4
}
