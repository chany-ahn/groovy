{
 "cells": [
  {
   "cell_type": "code",
   "execution_count": 1,
   "metadata": {},
   "outputs": [],
   "source": [
    "import numpy as np\n",
    "from tqdm.auto import tqdm\n",
    "import matplotlib.pyplot as plt\n",
    "import torch\n",
    "from torch import nn, optim\n",
    "from torch.utils.data import DataLoader, Dataset\n",
    "from sklearn.model_selection import train_test_split\n",
    "%matplotlib notebook"
   ]
  },
  {
   "cell_type": "code",
   "execution_count": 2,
   "metadata": {},
   "outputs": [
    {
     "name": "stdout",
     "output_type": "stream",
     "text": [
      "Device: cuda\n"
     ]
    }
   ],
   "source": [
    "# Select CPU/GPU\n",
    "device = torch.device('cuda') if torch.cuda.is_available() else torch.device('cpu')\n",
    "print('Device:', device)"
   ]
  },
  {
   "cell_type": "code",
   "execution_count": 3,
   "metadata": {},
   "outputs": [],
   "source": [
    "# Generate a fake data set\n",
    "targets = [np.asarray([mean, stdev]) for mean in np.linspace(0, 1, 100) for stdev in np.linspace(0.1, 1, 100)]\n",
    "images = [np.random.normal(mean, stdev, size=(100, 100, 1)) for mean, stdev in targets]"
   ]
  },
  {
   "cell_type": "code",
   "execution_count": 4,
   "metadata": {},
   "outputs": [],
   "source": [
    "# Swap the axes so that the components come first\n",
    "images = [np.swapaxes(image, 0, 2) for image in images]"
   ]
  },
  {
   "cell_type": "code",
   "execution_count": 5,
   "metadata": {},
   "outputs": [],
   "source": [
    "class MyDataset(Dataset):\n",
    "\n",
    "    def __init__(self, X, Y):\n",
    "        super().__init__()\n",
    "        self.X = X\n",
    "        self.Y = Y\n",
    "\n",
    "    def __getitem__(self, idx):\n",
    "        return torch.from_numpy(self.X[idx]), torch.from_numpy(self.Y[idx])\n",
    "\n",
    "    def __len__(self):\n",
    "        return len(self.X)\n",
    "\n",
    "\n",
    "# Split the data into train, validation, test\n",
    "X_trv,   X_test, Y_trv,   Y_test = train_test_split(images, targets, train_size=0.8)\n",
    "X_train, X_val,  Y_train, Y_val  = train_test_split(images, targets, train_size=0.75)\n",
    "\n",
    "# Convert to Pytorch data loaders\n",
    "batch_size = 100\n",
    "training   = DataLoader(MyDataset(X_train, Y_train), batch_size=batch_size)\n",
    "validation = DataLoader(MyDataset(X_val,   Y_val),   batch_size=batch_size)\n",
    "test       = DataLoader(MyDataset(X_test,  Y_test),  batch_size=batch_size)"
   ]
  },
  {
   "cell_type": "code",
   "execution_count": 10,
   "metadata": {},
   "outputs": [],
   "source": [
    "# Define our CNN\n",
    "class CNN(nn.Module):\n",
    "\n",
    "    def __init__(self):\n",
    "        super().__init__()\n",
    "        self.layer1 = nn.Sequential(\n",
    "            nn.Conv2d(1, 16, kernel_size=5, padding=2),\n",
    "            nn.BatchNorm2d(16),\n",
    "            nn.ReLU(),\n",
    "            nn.MaxPool2d(2))\n",
    "        self.layer2 = nn.Sequential(\n",
    "            nn.Conv2d(16, 32, kernel_size=5, padding=2),\n",
    "            nn.BatchNorm2d(32),\n",
    "            nn.ReLU(),\n",
    "            nn.MaxPool2d(2))\n",
    "        self.fc = nn.Linear(100*100*2, 2)\n",
    "        self.sig = nn.Sigmoid()\n",
    "\n",
    "    def forward(self, x):\n",
    "        out = self.layer1(x)\n",
    "        out = self.layer2(out)\n",
    "        out = out.view(out.size(0), -1)\n",
    "        out = self.sig(self.fc(out))\n",
    "        return out"
   ]
  },
  {
   "cell_type": "code",
   "execution_count": 13,
   "metadata": {
    "scrolled": false
   },
   "outputs": [
    {
     "data": {
      "application/vnd.jupyter.widget-view+json": {
       "model_id": "80814bd0160145708d16a53b3d0d4732",
       "version_major": 2,
       "version_minor": 0
      },
      "text/plain": [
       "HBox(children=(FloatProgress(value=0.0, description='Epochs', max=50.0, style=ProgressStyle(description_width=…"
      ]
     },
     "metadata": {},
     "output_type": "display_data"
    },
    {
     "data": {
      "application/vnd.jupyter.widget-view+json": {
       "model_id": "",
       "version_major": 2,
       "version_minor": 0
      },
      "text/plain": [
       "HBox(children=(FloatProgress(value=0.0, description='Train batches', max=75.0, style=ProgressStyle(description…"
      ]
     },
     "metadata": {},
     "output_type": "display_data"
    },
    {
     "data": {
      "application/vnd.jupyter.widget-view+json": {
       "model_id": "",
       "version_major": 2,
       "version_minor": 0
      },
      "text/plain": [
       "HBox(children=(FloatProgress(value=0.0, description='Validation batches', max=25.0, style=ProgressStyle(descri…"
      ]
     },
     "metadata": {},
     "output_type": "display_data"
    },
    {
     "data": {
      "application/vnd.jupyter.widget-view+json": {
       "model_id": "",
       "version_major": 2,
       "version_minor": 0
      },
      "text/plain": [
       "HBox(children=(FloatProgress(value=0.0, description='Train batches', max=75.0, style=ProgressStyle(description…"
      ]
     },
     "metadata": {},
     "output_type": "display_data"
    },
    {
     "data": {
      "application/vnd.jupyter.widget-view+json": {
       "model_id": "",
       "version_major": 2,
       "version_minor": 0
      },
      "text/plain": [
       "HBox(children=(FloatProgress(value=0.0, description='Validation batches', max=25.0, style=ProgressStyle(descri…"
      ]
     },
     "metadata": {},
     "output_type": "display_data"
    },
    {
     "data": {
      "application/vnd.jupyter.widget-view+json": {
       "model_id": "",
       "version_major": 2,
       "version_minor": 0
      },
      "text/plain": [
       "HBox(children=(FloatProgress(value=0.0, description='Train batches', max=75.0, style=ProgressStyle(description…"
      ]
     },
     "metadata": {},
     "output_type": "display_data"
    },
    {
     "data": {
      "application/vnd.jupyter.widget-view+json": {
       "model_id": "",
       "version_major": 2,
       "version_minor": 0
      },
      "text/plain": [
       "HBox(children=(FloatProgress(value=0.0, description='Validation batches', max=25.0, style=ProgressStyle(descri…"
      ]
     },
     "metadata": {},
     "output_type": "display_data"
    },
    {
     "data": {
      "application/vnd.jupyter.widget-view+json": {
       "model_id": "",
       "version_major": 2,
       "version_minor": 0
      },
      "text/plain": [
       "HBox(children=(FloatProgress(value=0.0, description='Train batches', max=75.0, style=ProgressStyle(description…"
      ]
     },
     "metadata": {},
     "output_type": "display_data"
    },
    {
     "data": {
      "application/vnd.jupyter.widget-view+json": {
       "model_id": "",
       "version_major": 2,
       "version_minor": 0
      },
      "text/plain": [
       "HBox(children=(FloatProgress(value=0.0, description='Validation batches', max=25.0, style=ProgressStyle(descri…"
      ]
     },
     "metadata": {},
     "output_type": "display_data"
    },
    {
     "data": {
      "application/vnd.jupyter.widget-view+json": {
       "model_id": "",
       "version_major": 2,
       "version_minor": 0
      },
      "text/plain": [
       "HBox(children=(FloatProgress(value=0.0, description='Train batches', max=75.0, style=ProgressStyle(description…"
      ]
     },
     "metadata": {},
     "output_type": "display_data"
    },
    {
     "data": {
      "application/vnd.jupyter.widget-view+json": {
       "model_id": "",
       "version_major": 2,
       "version_minor": 0
      },
      "text/plain": [
       "HBox(children=(FloatProgress(value=0.0, description='Validation batches', max=25.0, style=ProgressStyle(descri…"
      ]
     },
     "metadata": {},
     "output_type": "display_data"
    },
    {
     "data": {
      "application/vnd.jupyter.widget-view+json": {
       "model_id": "",
       "version_major": 2,
       "version_minor": 0
      },
      "text/plain": [
       "HBox(children=(FloatProgress(value=0.0, description='Train batches', max=75.0, style=ProgressStyle(description…"
      ]
     },
     "metadata": {},
     "output_type": "display_data"
    },
    {
     "data": {
      "application/vnd.jupyter.widget-view+json": {
       "model_id": "",
       "version_major": 2,
       "version_minor": 0
      },
      "text/plain": [
       "HBox(children=(FloatProgress(value=0.0, description='Validation batches', max=25.0, style=ProgressStyle(descri…"
      ]
     },
     "metadata": {},
     "output_type": "display_data"
    },
    {
     "data": {
      "application/vnd.jupyter.widget-view+json": {
       "model_id": "",
       "version_major": 2,
       "version_minor": 0
      },
      "text/plain": [
       "HBox(children=(FloatProgress(value=0.0, description='Train batches', max=75.0, style=ProgressStyle(description…"
      ]
     },
     "metadata": {},
     "output_type": "display_data"
    },
    {
     "data": {
      "application/vnd.jupyter.widget-view+json": {
       "model_id": "",
       "version_major": 2,
       "version_minor": 0
      },
      "text/plain": [
       "HBox(children=(FloatProgress(value=0.0, description='Validation batches', max=25.0, style=ProgressStyle(descri…"
      ]
     },
     "metadata": {},
     "output_type": "display_data"
    },
    {
     "data": {
      "application/vnd.jupyter.widget-view+json": {
       "model_id": "",
       "version_major": 2,
       "version_minor": 0
      },
      "text/plain": [
       "HBox(children=(FloatProgress(value=0.0, description='Train batches', max=75.0, style=ProgressStyle(description…"
      ]
     },
     "metadata": {},
     "output_type": "display_data"
    },
    {
     "data": {
      "application/vnd.jupyter.widget-view+json": {
       "model_id": "",
       "version_major": 2,
       "version_minor": 0
      },
      "text/plain": [
       "HBox(children=(FloatProgress(value=0.0, description='Validation batches', max=25.0, style=ProgressStyle(descri…"
      ]
     },
     "metadata": {},
     "output_type": "display_data"
    },
    {
     "data": {
      "application/vnd.jupyter.widget-view+json": {
       "model_id": "",
       "version_major": 2,
       "version_minor": 0
      },
      "text/plain": [
       "HBox(children=(FloatProgress(value=0.0, description='Train batches', max=75.0, style=ProgressStyle(description…"
      ]
     },
     "metadata": {},
     "output_type": "display_data"
    },
    {
     "data": {
      "application/vnd.jupyter.widget-view+json": {
       "model_id": "",
       "version_major": 2,
       "version_minor": 0
      },
      "text/plain": [
       "HBox(children=(FloatProgress(value=0.0, description='Validation batches', max=25.0, style=ProgressStyle(descri…"
      ]
     },
     "metadata": {},
     "output_type": "display_data"
    },
    {
     "data": {
      "application/vnd.jupyter.widget-view+json": {
       "model_id": "",
       "version_major": 2,
       "version_minor": 0
      },
      "text/plain": [
       "HBox(children=(FloatProgress(value=0.0, description='Train batches', max=75.0, style=ProgressStyle(description…"
      ]
     },
     "metadata": {},
     "output_type": "display_data"
    },
    {
     "data": {
      "application/vnd.jupyter.widget-view+json": {
       "model_id": "",
       "version_major": 2,
       "version_minor": 0
      },
      "text/plain": [
       "HBox(children=(FloatProgress(value=0.0, description='Validation batches', max=25.0, style=ProgressStyle(descri…"
      ]
     },
     "metadata": {},
     "output_type": "display_data"
    },
    {
     "data": {
      "application/vnd.jupyter.widget-view+json": {
       "model_id": "",
       "version_major": 2,
       "version_minor": 0
      },
      "text/plain": [
       "HBox(children=(FloatProgress(value=0.0, description='Train batches', max=75.0, style=ProgressStyle(description…"
      ]
     },
     "metadata": {},
     "output_type": "display_data"
    },
    {
     "data": {
      "application/vnd.jupyter.widget-view+json": {
       "model_id": "",
       "version_major": 2,
       "version_minor": 0
      },
      "text/plain": [
       "HBox(children=(FloatProgress(value=0.0, description='Validation batches', max=25.0, style=ProgressStyle(descri…"
      ]
     },
     "metadata": {},
     "output_type": "display_data"
    },
    {
     "data": {
      "application/vnd.jupyter.widget-view+json": {
       "model_id": "",
       "version_major": 2,
       "version_minor": 0
      },
      "text/plain": [
       "HBox(children=(FloatProgress(value=0.0, description='Train batches', max=75.0, style=ProgressStyle(description…"
      ]
     },
     "metadata": {},
     "output_type": "display_data"
    },
    {
     "data": {
      "application/vnd.jupyter.widget-view+json": {
       "model_id": "",
       "version_major": 2,
       "version_minor": 0
      },
      "text/plain": [
       "HBox(children=(FloatProgress(value=0.0, description='Validation batches', max=25.0, style=ProgressStyle(descri…"
      ]
     },
     "metadata": {},
     "output_type": "display_data"
    },
    {
     "data": {
      "application/vnd.jupyter.widget-view+json": {
       "model_id": "",
       "version_major": 2,
       "version_minor": 0
      },
      "text/plain": [
       "HBox(children=(FloatProgress(value=0.0, description='Train batches', max=75.0, style=ProgressStyle(description…"
      ]
     },
     "metadata": {},
     "output_type": "display_data"
    },
    {
     "data": {
      "application/vnd.jupyter.widget-view+json": {
       "model_id": "",
       "version_major": 2,
       "version_minor": 0
      },
      "text/plain": [
       "HBox(children=(FloatProgress(value=0.0, description='Validation batches', max=25.0, style=ProgressStyle(descri…"
      ]
     },
     "metadata": {},
     "output_type": "display_data"
    },
    {
     "data": {
      "application/vnd.jupyter.widget-view+json": {
       "model_id": "",
       "version_major": 2,
       "version_minor": 0
      },
      "text/plain": [
       "HBox(children=(FloatProgress(value=0.0, description='Train batches', max=75.0, style=ProgressStyle(description…"
      ]
     },
     "metadata": {},
     "output_type": "display_data"
    },
    {
     "data": {
      "application/vnd.jupyter.widget-view+json": {
       "model_id": "",
       "version_major": 2,
       "version_minor": 0
      },
      "text/plain": [
       "HBox(children=(FloatProgress(value=0.0, description='Validation batches', max=25.0, style=ProgressStyle(descri…"
      ]
     },
     "metadata": {},
     "output_type": "display_data"
    },
    {
     "data": {
      "application/vnd.jupyter.widget-view+json": {
       "model_id": "",
       "version_major": 2,
       "version_minor": 0
      },
      "text/plain": [
       "HBox(children=(FloatProgress(value=0.0, description='Train batches', max=75.0, style=ProgressStyle(description…"
      ]
     },
     "metadata": {},
     "output_type": "display_data"
    },
    {
     "data": {
      "application/vnd.jupyter.widget-view+json": {
       "model_id": "",
       "version_major": 2,
       "version_minor": 0
      },
      "text/plain": [
       "HBox(children=(FloatProgress(value=0.0, description='Validation batches', max=25.0, style=ProgressStyle(descri…"
      ]
     },
     "metadata": {},
     "output_type": "display_data"
    },
    {
     "data": {
      "application/vnd.jupyter.widget-view+json": {
       "model_id": "",
       "version_major": 2,
       "version_minor": 0
      },
      "text/plain": [
       "HBox(children=(FloatProgress(value=0.0, description='Train batches', max=75.0, style=ProgressStyle(description…"
      ]
     },
     "metadata": {},
     "output_type": "display_data"
    },
    {
     "data": {
      "application/vnd.jupyter.widget-view+json": {
       "model_id": "",
       "version_major": 2,
       "version_minor": 0
      },
      "text/plain": [
       "HBox(children=(FloatProgress(value=0.0, description='Validation batches', max=25.0, style=ProgressStyle(descri…"
      ]
     },
     "metadata": {},
     "output_type": "display_data"
    },
    {
     "data": {
      "application/vnd.jupyter.widget-view+json": {
       "model_id": "",
       "version_major": 2,
       "version_minor": 0
      },
      "text/plain": [
       "HBox(children=(FloatProgress(value=0.0, description='Train batches', max=75.0, style=ProgressStyle(description…"
      ]
     },
     "metadata": {},
     "output_type": "display_data"
    },
    {
     "data": {
      "application/vnd.jupyter.widget-view+json": {
       "model_id": "",
       "version_major": 2,
       "version_minor": 0
      },
      "text/plain": [
       "HBox(children=(FloatProgress(value=0.0, description='Validation batches', max=25.0, style=ProgressStyle(descri…"
      ]
     },
     "metadata": {},
     "output_type": "display_data"
    },
    {
     "data": {
      "application/vnd.jupyter.widget-view+json": {
       "model_id": "",
       "version_major": 2,
       "version_minor": 0
      },
      "text/plain": [
       "HBox(children=(FloatProgress(value=0.0, description='Train batches', max=75.0, style=ProgressStyle(description…"
      ]
     },
     "metadata": {},
     "output_type": "display_data"
    },
    {
     "data": {
      "application/vnd.jupyter.widget-view+json": {
       "model_id": "",
       "version_major": 2,
       "version_minor": 0
      },
      "text/plain": [
       "HBox(children=(FloatProgress(value=0.0, description='Validation batches', max=25.0, style=ProgressStyle(descri…"
      ]
     },
     "metadata": {},
     "output_type": "display_data"
    },
    {
     "data": {
      "application/vnd.jupyter.widget-view+json": {
       "model_id": "",
       "version_major": 2,
       "version_minor": 0
      },
      "text/plain": [
       "HBox(children=(FloatProgress(value=0.0, description='Train batches', max=75.0, style=ProgressStyle(description…"
      ]
     },
     "metadata": {},
     "output_type": "display_data"
    },
    {
     "data": {
      "application/vnd.jupyter.widget-view+json": {
       "model_id": "",
       "version_major": 2,
       "version_minor": 0
      },
      "text/plain": [
       "HBox(children=(FloatProgress(value=0.0, description='Validation batches', max=25.0, style=ProgressStyle(descri…"
      ]
     },
     "metadata": {},
     "output_type": "display_data"
    },
    {
     "data": {
      "application/vnd.jupyter.widget-view+json": {
       "model_id": "",
       "version_major": 2,
       "version_minor": 0
      },
      "text/plain": [
       "HBox(children=(FloatProgress(value=0.0, description='Train batches', max=75.0, style=ProgressStyle(description…"
      ]
     },
     "metadata": {},
     "output_type": "display_data"
    },
    {
     "data": {
      "application/vnd.jupyter.widget-view+json": {
       "model_id": "",
       "version_major": 2,
       "version_minor": 0
      },
      "text/plain": [
       "HBox(children=(FloatProgress(value=0.0, description='Validation batches', max=25.0, style=ProgressStyle(descri…"
      ]
     },
     "metadata": {},
     "output_type": "display_data"
    },
    {
     "data": {
      "application/vnd.jupyter.widget-view+json": {
       "model_id": "",
       "version_major": 2,
       "version_minor": 0
      },
      "text/plain": [
       "HBox(children=(FloatProgress(value=0.0, description='Train batches', max=75.0, style=ProgressStyle(description…"
      ]
     },
     "metadata": {},
     "output_type": "display_data"
    },
    {
     "data": {
      "application/vnd.jupyter.widget-view+json": {
       "model_id": "",
       "version_major": 2,
       "version_minor": 0
      },
      "text/plain": [
       "HBox(children=(FloatProgress(value=0.0, description='Validation batches', max=25.0, style=ProgressStyle(descri…"
      ]
     },
     "metadata": {},
     "output_type": "display_data"
    },
    {
     "data": {
      "application/vnd.jupyter.widget-view+json": {
       "model_id": "",
       "version_major": 2,
       "version_minor": 0
      },
      "text/plain": [
       "HBox(children=(FloatProgress(value=0.0, description='Train batches', max=75.0, style=ProgressStyle(description…"
      ]
     },
     "metadata": {},
     "output_type": "display_data"
    },
    {
     "data": {
      "application/vnd.jupyter.widget-view+json": {
       "model_id": "",
       "version_major": 2,
       "version_minor": 0
      },
      "text/plain": [
       "HBox(children=(FloatProgress(value=0.0, description='Validation batches', max=25.0, style=ProgressStyle(descri…"
      ]
     },
     "metadata": {},
     "output_type": "display_data"
    },
    {
     "data": {
      "application/vnd.jupyter.widget-view+json": {
       "model_id": "",
       "version_major": 2,
       "version_minor": 0
      },
      "text/plain": [
       "HBox(children=(FloatProgress(value=0.0, description='Train batches', max=75.0, style=ProgressStyle(description…"
      ]
     },
     "metadata": {},
     "output_type": "display_data"
    },
    {
     "data": {
      "application/vnd.jupyter.widget-view+json": {
       "model_id": "",
       "version_major": 2,
       "version_minor": 0
      },
      "text/plain": [
       "HBox(children=(FloatProgress(value=0.0, description='Validation batches', max=25.0, style=ProgressStyle(descri…"
      ]
     },
     "metadata": {},
     "output_type": "display_data"
    },
    {
     "data": {
      "application/vnd.jupyter.widget-view+json": {
       "model_id": "",
       "version_major": 2,
       "version_minor": 0
      },
      "text/plain": [
       "HBox(children=(FloatProgress(value=0.0, description='Train batches', max=75.0, style=ProgressStyle(description…"
      ]
     },
     "metadata": {},
     "output_type": "display_data"
    },
    {
     "data": {
      "application/vnd.jupyter.widget-view+json": {
       "model_id": "",
       "version_major": 2,
       "version_minor": 0
      },
      "text/plain": [
       "HBox(children=(FloatProgress(value=0.0, description='Validation batches', max=25.0, style=ProgressStyle(descri…"
      ]
     },
     "metadata": {},
     "output_type": "display_data"
    },
    {
     "data": {
      "application/vnd.jupyter.widget-view+json": {
       "model_id": "",
       "version_major": 2,
       "version_minor": 0
      },
      "text/plain": [
       "HBox(children=(FloatProgress(value=0.0, description='Train batches', max=75.0, style=ProgressStyle(description…"
      ]
     },
     "metadata": {},
     "output_type": "display_data"
    },
    {
     "data": {
      "application/vnd.jupyter.widget-view+json": {
       "model_id": "",
       "version_major": 2,
       "version_minor": 0
      },
      "text/plain": [
       "HBox(children=(FloatProgress(value=0.0, description='Validation batches', max=25.0, style=ProgressStyle(descri…"
      ]
     },
     "metadata": {},
     "output_type": "display_data"
    },
    {
     "data": {
      "application/vnd.jupyter.widget-view+json": {
       "model_id": "",
       "version_major": 2,
       "version_minor": 0
      },
      "text/plain": [
       "HBox(children=(FloatProgress(value=0.0, description='Train batches', max=75.0, style=ProgressStyle(description…"
      ]
     },
     "metadata": {},
     "output_type": "display_data"
    },
    {
     "data": {
      "application/vnd.jupyter.widget-view+json": {
       "model_id": "",
       "version_major": 2,
       "version_minor": 0
      },
      "text/plain": [
       "HBox(children=(FloatProgress(value=0.0, description='Validation batches', max=25.0, style=ProgressStyle(descri…"
      ]
     },
     "metadata": {},
     "output_type": "display_data"
    },
    {
     "data": {
      "application/vnd.jupyter.widget-view+json": {
       "model_id": "",
       "version_major": 2,
       "version_minor": 0
      },
      "text/plain": [
       "HBox(children=(FloatProgress(value=0.0, description='Train batches', max=75.0, style=ProgressStyle(description…"
      ]
     },
     "metadata": {},
     "output_type": "display_data"
    },
    {
     "data": {
      "application/vnd.jupyter.widget-view+json": {
       "model_id": "",
       "version_major": 2,
       "version_minor": 0
      },
      "text/plain": [
       "HBox(children=(FloatProgress(value=0.0, description='Validation batches', max=25.0, style=ProgressStyle(descri…"
      ]
     },
     "metadata": {},
     "output_type": "display_data"
    },
    {
     "data": {
      "application/vnd.jupyter.widget-view+json": {
       "model_id": "",
       "version_major": 2,
       "version_minor": 0
      },
      "text/plain": [
       "HBox(children=(FloatProgress(value=0.0, description='Train batches', max=75.0, style=ProgressStyle(description…"
      ]
     },
     "metadata": {},
     "output_type": "display_data"
    },
    {
     "data": {
      "application/vnd.jupyter.widget-view+json": {
       "model_id": "",
       "version_major": 2,
       "version_minor": 0
      },
      "text/plain": [
       "HBox(children=(FloatProgress(value=0.0, description='Validation batches', max=25.0, style=ProgressStyle(descri…"
      ]
     },
     "metadata": {},
     "output_type": "display_data"
    },
    {
     "data": {
      "application/vnd.jupyter.widget-view+json": {
       "model_id": "",
       "version_major": 2,
       "version_minor": 0
      },
      "text/plain": [
       "HBox(children=(FloatProgress(value=0.0, description='Train batches', max=75.0, style=ProgressStyle(description…"
      ]
     },
     "metadata": {},
     "output_type": "display_data"
    },
    {
     "data": {
      "application/vnd.jupyter.widget-view+json": {
       "model_id": "",
       "version_major": 2,
       "version_minor": 0
      },
      "text/plain": [
       "HBox(children=(FloatProgress(value=0.0, description='Validation batches', max=25.0, style=ProgressStyle(descri…"
      ]
     },
     "metadata": {},
     "output_type": "display_data"
    },
    {
     "data": {
      "application/vnd.jupyter.widget-view+json": {
       "model_id": "",
       "version_major": 2,
       "version_minor": 0
      },
      "text/plain": [
       "HBox(children=(FloatProgress(value=0.0, description='Train batches', max=75.0, style=ProgressStyle(description…"
      ]
     },
     "metadata": {},
     "output_type": "display_data"
    },
    {
     "data": {
      "application/vnd.jupyter.widget-view+json": {
       "model_id": "",
       "version_major": 2,
       "version_minor": 0
      },
      "text/plain": [
       "HBox(children=(FloatProgress(value=0.0, description='Validation batches', max=25.0, style=ProgressStyle(descri…"
      ]
     },
     "metadata": {},
     "output_type": "display_data"
    },
    {
     "data": {
      "application/vnd.jupyter.widget-view+json": {
       "model_id": "",
       "version_major": 2,
       "version_minor": 0
      },
      "text/plain": [
       "HBox(children=(FloatProgress(value=0.0, description='Train batches', max=75.0, style=ProgressStyle(description…"
      ]
     },
     "metadata": {},
     "output_type": "display_data"
    },
    {
     "data": {
      "application/vnd.jupyter.widget-view+json": {
       "model_id": "",
       "version_major": 2,
       "version_minor": 0
      },
      "text/plain": [
       "HBox(children=(FloatProgress(value=0.0, description='Validation batches', max=25.0, style=ProgressStyle(descri…"
      ]
     },
     "metadata": {},
     "output_type": "display_data"
    },
    {
     "data": {
      "application/vnd.jupyter.widget-view+json": {
       "model_id": "",
       "version_major": 2,
       "version_minor": 0
      },
      "text/plain": [
       "HBox(children=(FloatProgress(value=0.0, description='Train batches', max=75.0, style=ProgressStyle(description…"
      ]
     },
     "metadata": {},
     "output_type": "display_data"
    },
    {
     "data": {
      "application/vnd.jupyter.widget-view+json": {
       "model_id": "",
       "version_major": 2,
       "version_minor": 0
      },
      "text/plain": [
       "HBox(children=(FloatProgress(value=0.0, description='Validation batches', max=25.0, style=ProgressStyle(descri…"
      ]
     },
     "metadata": {},
     "output_type": "display_data"
    },
    {
     "data": {
      "application/vnd.jupyter.widget-view+json": {
       "model_id": "",
       "version_major": 2,
       "version_minor": 0
      },
      "text/plain": [
       "HBox(children=(FloatProgress(value=0.0, description='Train batches', max=75.0, style=ProgressStyle(description…"
      ]
     },
     "metadata": {},
     "output_type": "display_data"
    },
    {
     "data": {
      "application/vnd.jupyter.widget-view+json": {
       "model_id": "",
       "version_major": 2,
       "version_minor": 0
      },
      "text/plain": [
       "HBox(children=(FloatProgress(value=0.0, description='Validation batches', max=25.0, style=ProgressStyle(descri…"
      ]
     },
     "metadata": {},
     "output_type": "display_data"
    },
    {
     "data": {
      "application/vnd.jupyter.widget-view+json": {
       "model_id": "",
       "version_major": 2,
       "version_minor": 0
      },
      "text/plain": [
       "HBox(children=(FloatProgress(value=0.0, description='Train batches', max=75.0, style=ProgressStyle(description…"
      ]
     },
     "metadata": {},
     "output_type": "display_data"
    },
    {
     "data": {
      "application/vnd.jupyter.widget-view+json": {
       "model_id": "",
       "version_major": 2,
       "version_minor": 0
      },
      "text/plain": [
       "HBox(children=(FloatProgress(value=0.0, description='Validation batches', max=25.0, style=ProgressStyle(descri…"
      ]
     },
     "metadata": {},
     "output_type": "display_data"
    },
    {
     "data": {
      "application/vnd.jupyter.widget-view+json": {
       "model_id": "",
       "version_major": 2,
       "version_minor": 0
      },
      "text/plain": [
       "HBox(children=(FloatProgress(value=0.0, description='Train batches', max=75.0, style=ProgressStyle(description…"
      ]
     },
     "metadata": {},
     "output_type": "display_data"
    },
    {
     "data": {
      "application/vnd.jupyter.widget-view+json": {
       "model_id": "",
       "version_major": 2,
       "version_minor": 0
      },
      "text/plain": [
       "HBox(children=(FloatProgress(value=0.0, description='Validation batches', max=25.0, style=ProgressStyle(descri…"
      ]
     },
     "metadata": {},
     "output_type": "display_data"
    },
    {
     "data": {
      "application/vnd.jupyter.widget-view+json": {
       "model_id": "",
       "version_major": 2,
       "version_minor": 0
      },
      "text/plain": [
       "HBox(children=(FloatProgress(value=0.0, description='Train batches', max=75.0, style=ProgressStyle(description…"
      ]
     },
     "metadata": {},
     "output_type": "display_data"
    },
    {
     "data": {
      "application/vnd.jupyter.widget-view+json": {
       "model_id": "",
       "version_major": 2,
       "version_minor": 0
      },
      "text/plain": [
       "HBox(children=(FloatProgress(value=0.0, description='Validation batches', max=25.0, style=ProgressStyle(descri…"
      ]
     },
     "metadata": {},
     "output_type": "display_data"
    },
    {
     "data": {
      "application/vnd.jupyter.widget-view+json": {
       "model_id": "",
       "version_major": 2,
       "version_minor": 0
      },
      "text/plain": [
       "HBox(children=(FloatProgress(value=0.0, description='Train batches', max=75.0, style=ProgressStyle(description…"
      ]
     },
     "metadata": {},
     "output_type": "display_data"
    },
    {
     "data": {
      "application/vnd.jupyter.widget-view+json": {
       "model_id": "",
       "version_major": 2,
       "version_minor": 0
      },
      "text/plain": [
       "HBox(children=(FloatProgress(value=0.0, description='Validation batches', max=25.0, style=ProgressStyle(descri…"
      ]
     },
     "metadata": {},
     "output_type": "display_data"
    },
    {
     "name": "stdout",
     "output_type": "stream",
     "text": [
      "Early stopping at epoch 36 out of 50 total.\n"
     ]
    },
    {
     "data": {
      "application/javascript": [
       "/* Put everything inside the global mpl namespace */\n",
       "window.mpl = {};\n",
       "\n",
       "\n",
       "mpl.get_websocket_type = function() {\n",
       "    if (typeof(WebSocket) !== 'undefined') {\n",
       "        return WebSocket;\n",
       "    } else if (typeof(MozWebSocket) !== 'undefined') {\n",
       "        return MozWebSocket;\n",
       "    } else {\n",
       "        alert('Your browser does not have WebSocket support. ' +\n",
       "              'Please try Chrome, Safari or Firefox ≥ 6. ' +\n",
       "              'Firefox 4 and 5 are also supported but you ' +\n",
       "              'have to enable WebSockets in about:config.');\n",
       "    };\n",
       "}\n",
       "\n",
       "mpl.figure = function(figure_id, websocket, ondownload, parent_element) {\n",
       "    this.id = figure_id;\n",
       "\n",
       "    this.ws = websocket;\n",
       "\n",
       "    this.supports_binary = (this.ws.binaryType != undefined);\n",
       "\n",
       "    if (!this.supports_binary) {\n",
       "        var warnings = document.getElementById(\"mpl-warnings\");\n",
       "        if (warnings) {\n",
       "            warnings.style.display = 'block';\n",
       "            warnings.textContent = (\n",
       "                \"This browser does not support binary websocket messages. \" +\n",
       "                    \"Performance may be slow.\");\n",
       "        }\n",
       "    }\n",
       "\n",
       "    this.imageObj = new Image();\n",
       "\n",
       "    this.context = undefined;\n",
       "    this.message = undefined;\n",
       "    this.canvas = undefined;\n",
       "    this.rubberband_canvas = undefined;\n",
       "    this.rubberband_context = undefined;\n",
       "    this.format_dropdown = undefined;\n",
       "\n",
       "    this.image_mode = 'full';\n",
       "\n",
       "    this.root = $('<div/>');\n",
       "    this._root_extra_style(this.root)\n",
       "    this.root.attr('style', 'display: inline-block');\n",
       "\n",
       "    $(parent_element).append(this.root);\n",
       "\n",
       "    this._init_header(this);\n",
       "    this._init_canvas(this);\n",
       "    this._init_toolbar(this);\n",
       "\n",
       "    var fig = this;\n",
       "\n",
       "    this.waiting = false;\n",
       "\n",
       "    this.ws.onopen =  function () {\n",
       "            fig.send_message(\"supports_binary\", {value: fig.supports_binary});\n",
       "            fig.send_message(\"send_image_mode\", {});\n",
       "            if (mpl.ratio != 1) {\n",
       "                fig.send_message(\"set_dpi_ratio\", {'dpi_ratio': mpl.ratio});\n",
       "            }\n",
       "            fig.send_message(\"refresh\", {});\n",
       "        }\n",
       "\n",
       "    this.imageObj.onload = function() {\n",
       "            if (fig.image_mode == 'full') {\n",
       "                // Full images could contain transparency (where diff images\n",
       "                // almost always do), so we need to clear the canvas so that\n",
       "                // there is no ghosting.\n",
       "                fig.context.clearRect(0, 0, fig.canvas.width, fig.canvas.height);\n",
       "            }\n",
       "            fig.context.drawImage(fig.imageObj, 0, 0);\n",
       "        };\n",
       "\n",
       "    this.imageObj.onunload = function() {\n",
       "        fig.ws.close();\n",
       "    }\n",
       "\n",
       "    this.ws.onmessage = this._make_on_message_function(this);\n",
       "\n",
       "    this.ondownload = ondownload;\n",
       "}\n",
       "\n",
       "mpl.figure.prototype._init_header = function() {\n",
       "    var titlebar = $(\n",
       "        '<div class=\"ui-dialog-titlebar ui-widget-header ui-corner-all ' +\n",
       "        'ui-helper-clearfix\"/>');\n",
       "    var titletext = $(\n",
       "        '<div class=\"ui-dialog-title\" style=\"width: 100%; ' +\n",
       "        'text-align: center; padding: 3px;\"/>');\n",
       "    titlebar.append(titletext)\n",
       "    this.root.append(titlebar);\n",
       "    this.header = titletext[0];\n",
       "}\n",
       "\n",
       "\n",
       "\n",
       "mpl.figure.prototype._canvas_extra_style = function(canvas_div) {\n",
       "\n",
       "}\n",
       "\n",
       "\n",
       "mpl.figure.prototype._root_extra_style = function(canvas_div) {\n",
       "\n",
       "}\n",
       "\n",
       "mpl.figure.prototype._init_canvas = function() {\n",
       "    var fig = this;\n",
       "\n",
       "    var canvas_div = $('<div/>');\n",
       "\n",
       "    canvas_div.attr('style', 'position: relative; clear: both; outline: 0');\n",
       "\n",
       "    function canvas_keyboard_event(event) {\n",
       "        return fig.key_event(event, event['data']);\n",
       "    }\n",
       "\n",
       "    canvas_div.keydown('key_press', canvas_keyboard_event);\n",
       "    canvas_div.keyup('key_release', canvas_keyboard_event);\n",
       "    this.canvas_div = canvas_div\n",
       "    this._canvas_extra_style(canvas_div)\n",
       "    this.root.append(canvas_div);\n",
       "\n",
       "    var canvas = $('<canvas/>');\n",
       "    canvas.addClass('mpl-canvas');\n",
       "    canvas.attr('style', \"left: 0; top: 0; z-index: 0; outline: 0\")\n",
       "\n",
       "    this.canvas = canvas[0];\n",
       "    this.context = canvas[0].getContext(\"2d\");\n",
       "\n",
       "    var backingStore = this.context.backingStorePixelRatio ||\n",
       "\tthis.context.webkitBackingStorePixelRatio ||\n",
       "\tthis.context.mozBackingStorePixelRatio ||\n",
       "\tthis.context.msBackingStorePixelRatio ||\n",
       "\tthis.context.oBackingStorePixelRatio ||\n",
       "\tthis.context.backingStorePixelRatio || 1;\n",
       "\n",
       "    mpl.ratio = (window.devicePixelRatio || 1) / backingStore;\n",
       "\n",
       "    var rubberband = $('<canvas/>');\n",
       "    rubberband.attr('style', \"position: absolute; left: 0; top: 0; z-index: 1;\")\n",
       "\n",
       "    var pass_mouse_events = true;\n",
       "\n",
       "    canvas_div.resizable({\n",
       "        start: function(event, ui) {\n",
       "            pass_mouse_events = false;\n",
       "        },\n",
       "        resize: function(event, ui) {\n",
       "            fig.request_resize(ui.size.width, ui.size.height);\n",
       "        },\n",
       "        stop: function(event, ui) {\n",
       "            pass_mouse_events = true;\n",
       "            fig.request_resize(ui.size.width, ui.size.height);\n",
       "        },\n",
       "    });\n",
       "\n",
       "    function mouse_event_fn(event) {\n",
       "        if (pass_mouse_events)\n",
       "            return fig.mouse_event(event, event['data']);\n",
       "    }\n",
       "\n",
       "    rubberband.mousedown('button_press', mouse_event_fn);\n",
       "    rubberband.mouseup('button_release', mouse_event_fn);\n",
       "    // Throttle sequential mouse events to 1 every 20ms.\n",
       "    rubberband.mousemove('motion_notify', mouse_event_fn);\n",
       "\n",
       "    rubberband.mouseenter('figure_enter', mouse_event_fn);\n",
       "    rubberband.mouseleave('figure_leave', mouse_event_fn);\n",
       "\n",
       "    canvas_div.on(\"wheel\", function (event) {\n",
       "        event = event.originalEvent;\n",
       "        event['data'] = 'scroll'\n",
       "        if (event.deltaY < 0) {\n",
       "            event.step = 1;\n",
       "        } else {\n",
       "            event.step = -1;\n",
       "        }\n",
       "        mouse_event_fn(event);\n",
       "    });\n",
       "\n",
       "    canvas_div.append(canvas);\n",
       "    canvas_div.append(rubberband);\n",
       "\n",
       "    this.rubberband = rubberband;\n",
       "    this.rubberband_canvas = rubberband[0];\n",
       "    this.rubberband_context = rubberband[0].getContext(\"2d\");\n",
       "    this.rubberband_context.strokeStyle = \"#000000\";\n",
       "\n",
       "    this._resize_canvas = function(width, height) {\n",
       "        // Keep the size of the canvas, canvas container, and rubber band\n",
       "        // canvas in synch.\n",
       "        canvas_div.css('width', width)\n",
       "        canvas_div.css('height', height)\n",
       "\n",
       "        canvas.attr('width', width * mpl.ratio);\n",
       "        canvas.attr('height', height * mpl.ratio);\n",
       "        canvas.attr('style', 'width: ' + width + 'px; height: ' + height + 'px;');\n",
       "\n",
       "        rubberband.attr('width', width);\n",
       "        rubberband.attr('height', height);\n",
       "    }\n",
       "\n",
       "    // Set the figure to an initial 600x600px, this will subsequently be updated\n",
       "    // upon first draw.\n",
       "    this._resize_canvas(600, 600);\n",
       "\n",
       "    // Disable right mouse context menu.\n",
       "    $(this.rubberband_canvas).bind(\"contextmenu\",function(e){\n",
       "        return false;\n",
       "    });\n",
       "\n",
       "    function set_focus () {\n",
       "        canvas.focus();\n",
       "        canvas_div.focus();\n",
       "    }\n",
       "\n",
       "    window.setTimeout(set_focus, 100);\n",
       "}\n",
       "\n",
       "mpl.figure.prototype._init_toolbar = function() {\n",
       "    var fig = this;\n",
       "\n",
       "    var nav_element = $('<div/>');\n",
       "    nav_element.attr('style', 'width: 100%');\n",
       "    this.root.append(nav_element);\n",
       "\n",
       "    // Define a callback function for later on.\n",
       "    function toolbar_event(event) {\n",
       "        return fig.toolbar_button_onclick(event['data']);\n",
       "    }\n",
       "    function toolbar_mouse_event(event) {\n",
       "        return fig.toolbar_button_onmouseover(event['data']);\n",
       "    }\n",
       "\n",
       "    for(var toolbar_ind in mpl.toolbar_items) {\n",
       "        var name = mpl.toolbar_items[toolbar_ind][0];\n",
       "        var tooltip = mpl.toolbar_items[toolbar_ind][1];\n",
       "        var image = mpl.toolbar_items[toolbar_ind][2];\n",
       "        var method_name = mpl.toolbar_items[toolbar_ind][3];\n",
       "\n",
       "        if (!name) {\n",
       "            // put a spacer in here.\n",
       "            continue;\n",
       "        }\n",
       "        var button = $('<button/>');\n",
       "        button.addClass('ui-button ui-widget ui-state-default ui-corner-all ' +\n",
       "                        'ui-button-icon-only');\n",
       "        button.attr('role', 'button');\n",
       "        button.attr('aria-disabled', 'false');\n",
       "        button.click(method_name, toolbar_event);\n",
       "        button.mouseover(tooltip, toolbar_mouse_event);\n",
       "\n",
       "        var icon_img = $('<span/>');\n",
       "        icon_img.addClass('ui-button-icon-primary ui-icon');\n",
       "        icon_img.addClass(image);\n",
       "        icon_img.addClass('ui-corner-all');\n",
       "\n",
       "        var tooltip_span = $('<span/>');\n",
       "        tooltip_span.addClass('ui-button-text');\n",
       "        tooltip_span.html(tooltip);\n",
       "\n",
       "        button.append(icon_img);\n",
       "        button.append(tooltip_span);\n",
       "\n",
       "        nav_element.append(button);\n",
       "    }\n",
       "\n",
       "    var fmt_picker_span = $('<span/>');\n",
       "\n",
       "    var fmt_picker = $('<select/>');\n",
       "    fmt_picker.addClass('mpl-toolbar-option ui-widget ui-widget-content');\n",
       "    fmt_picker_span.append(fmt_picker);\n",
       "    nav_element.append(fmt_picker_span);\n",
       "    this.format_dropdown = fmt_picker[0];\n",
       "\n",
       "    for (var ind in mpl.extensions) {\n",
       "        var fmt = mpl.extensions[ind];\n",
       "        var option = $(\n",
       "            '<option/>', {selected: fmt === mpl.default_extension}).html(fmt);\n",
       "        fmt_picker.append(option);\n",
       "    }\n",
       "\n",
       "    // Add hover states to the ui-buttons\n",
       "    $( \".ui-button\" ).hover(\n",
       "        function() { $(this).addClass(\"ui-state-hover\");},\n",
       "        function() { $(this).removeClass(\"ui-state-hover\");}\n",
       "    );\n",
       "\n",
       "    var status_bar = $('<span class=\"mpl-message\"/>');\n",
       "    nav_element.append(status_bar);\n",
       "    this.message = status_bar[0];\n",
       "}\n",
       "\n",
       "mpl.figure.prototype.request_resize = function(x_pixels, y_pixels) {\n",
       "    // Request matplotlib to resize the figure. Matplotlib will then trigger a resize in the client,\n",
       "    // which will in turn request a refresh of the image.\n",
       "    this.send_message('resize', {'width': x_pixels, 'height': y_pixels});\n",
       "}\n",
       "\n",
       "mpl.figure.prototype.send_message = function(type, properties) {\n",
       "    properties['type'] = type;\n",
       "    properties['figure_id'] = this.id;\n",
       "    this.ws.send(JSON.stringify(properties));\n",
       "}\n",
       "\n",
       "mpl.figure.prototype.send_draw_message = function() {\n",
       "    if (!this.waiting) {\n",
       "        this.waiting = true;\n",
       "        this.ws.send(JSON.stringify({type: \"draw\", figure_id: this.id}));\n",
       "    }\n",
       "}\n",
       "\n",
       "\n",
       "mpl.figure.prototype.handle_save = function(fig, msg) {\n",
       "    var format_dropdown = fig.format_dropdown;\n",
       "    var format = format_dropdown.options[format_dropdown.selectedIndex].value;\n",
       "    fig.ondownload(fig, format);\n",
       "}\n",
       "\n",
       "\n",
       "mpl.figure.prototype.handle_resize = function(fig, msg) {\n",
       "    var size = msg['size'];\n",
       "    if (size[0] != fig.canvas.width || size[1] != fig.canvas.height) {\n",
       "        fig._resize_canvas(size[0], size[1]);\n",
       "        fig.send_message(\"refresh\", {});\n",
       "    };\n",
       "}\n",
       "\n",
       "mpl.figure.prototype.handle_rubberband = function(fig, msg) {\n",
       "    var x0 = msg['x0'] / mpl.ratio;\n",
       "    var y0 = (fig.canvas.height - msg['y0']) / mpl.ratio;\n",
       "    var x1 = msg['x1'] / mpl.ratio;\n",
       "    var y1 = (fig.canvas.height - msg['y1']) / mpl.ratio;\n",
       "    x0 = Math.floor(x0) + 0.5;\n",
       "    y0 = Math.floor(y0) + 0.5;\n",
       "    x1 = Math.floor(x1) + 0.5;\n",
       "    y1 = Math.floor(y1) + 0.5;\n",
       "    var min_x = Math.min(x0, x1);\n",
       "    var min_y = Math.min(y0, y1);\n",
       "    var width = Math.abs(x1 - x0);\n",
       "    var height = Math.abs(y1 - y0);\n",
       "\n",
       "    fig.rubberband_context.clearRect(\n",
       "        0, 0, fig.canvas.width / mpl.ratio, fig.canvas.height / mpl.ratio);\n",
       "\n",
       "    fig.rubberband_context.strokeRect(min_x, min_y, width, height);\n",
       "}\n",
       "\n",
       "mpl.figure.prototype.handle_figure_label = function(fig, msg) {\n",
       "    // Updates the figure title.\n",
       "    fig.header.textContent = msg['label'];\n",
       "}\n",
       "\n",
       "mpl.figure.prototype.handle_cursor = function(fig, msg) {\n",
       "    var cursor = msg['cursor'];\n",
       "    switch(cursor)\n",
       "    {\n",
       "    case 0:\n",
       "        cursor = 'pointer';\n",
       "        break;\n",
       "    case 1:\n",
       "        cursor = 'default';\n",
       "        break;\n",
       "    case 2:\n",
       "        cursor = 'crosshair';\n",
       "        break;\n",
       "    case 3:\n",
       "        cursor = 'move';\n",
       "        break;\n",
       "    }\n",
       "    fig.rubberband_canvas.style.cursor = cursor;\n",
       "}\n",
       "\n",
       "mpl.figure.prototype.handle_message = function(fig, msg) {\n",
       "    fig.message.textContent = msg['message'];\n",
       "}\n",
       "\n",
       "mpl.figure.prototype.handle_draw = function(fig, msg) {\n",
       "    // Request the server to send over a new figure.\n",
       "    fig.send_draw_message();\n",
       "}\n",
       "\n",
       "mpl.figure.prototype.handle_image_mode = function(fig, msg) {\n",
       "    fig.image_mode = msg['mode'];\n",
       "}\n",
       "\n",
       "mpl.figure.prototype.updated_canvas_event = function() {\n",
       "    // Called whenever the canvas gets updated.\n",
       "    this.send_message(\"ack\", {});\n",
       "}\n",
       "\n",
       "// A function to construct a web socket function for onmessage handling.\n",
       "// Called in the figure constructor.\n",
       "mpl.figure.prototype._make_on_message_function = function(fig) {\n",
       "    return function socket_on_message(evt) {\n",
       "        if (evt.data instanceof Blob) {\n",
       "            /* FIXME: We get \"Resource interpreted as Image but\n",
       "             * transferred with MIME type text/plain:\" errors on\n",
       "             * Chrome.  But how to set the MIME type?  It doesn't seem\n",
       "             * to be part of the websocket stream */\n",
       "            evt.data.type = \"image/png\";\n",
       "\n",
       "            /* Free the memory for the previous frames */\n",
       "            if (fig.imageObj.src) {\n",
       "                (window.URL || window.webkitURL).revokeObjectURL(\n",
       "                    fig.imageObj.src);\n",
       "            }\n",
       "\n",
       "            fig.imageObj.src = (window.URL || window.webkitURL).createObjectURL(\n",
       "                evt.data);\n",
       "            fig.updated_canvas_event();\n",
       "            fig.waiting = false;\n",
       "            return;\n",
       "        }\n",
       "        else if (typeof evt.data === 'string' && evt.data.slice(0, 21) == \"data:image/png;base64\") {\n",
       "            fig.imageObj.src = evt.data;\n",
       "            fig.updated_canvas_event();\n",
       "            fig.waiting = false;\n",
       "            return;\n",
       "        }\n",
       "\n",
       "        var msg = JSON.parse(evt.data);\n",
       "        var msg_type = msg['type'];\n",
       "\n",
       "        // Call the  \"handle_{type}\" callback, which takes\n",
       "        // the figure and JSON message as its only arguments.\n",
       "        try {\n",
       "            var callback = fig[\"handle_\" + msg_type];\n",
       "        } catch (e) {\n",
       "            console.log(\"No handler for the '\" + msg_type + \"' message type: \", msg);\n",
       "            return;\n",
       "        }\n",
       "\n",
       "        if (callback) {\n",
       "            try {\n",
       "                // console.log(\"Handling '\" + msg_type + \"' message: \", msg);\n",
       "                callback(fig, msg);\n",
       "            } catch (e) {\n",
       "                console.log(\"Exception inside the 'handler_\" + msg_type + \"' callback:\", e, e.stack, msg);\n",
       "            }\n",
       "        }\n",
       "    };\n",
       "}\n",
       "\n",
       "// from http://stackoverflow.com/questions/1114465/getting-mouse-location-in-canvas\n",
       "mpl.findpos = function(e) {\n",
       "    //this section is from http://www.quirksmode.org/js/events_properties.html\n",
       "    var targ;\n",
       "    if (!e)\n",
       "        e = window.event;\n",
       "    if (e.target)\n",
       "        targ = e.target;\n",
       "    else if (e.srcElement)\n",
       "        targ = e.srcElement;\n",
       "    if (targ.nodeType == 3) // defeat Safari bug\n",
       "        targ = targ.parentNode;\n",
       "\n",
       "    // jQuery normalizes the pageX and pageY\n",
       "    // pageX,Y are the mouse positions relative to the document\n",
       "    // offset() returns the position of the element relative to the document\n",
       "    var x = e.pageX - $(targ).offset().left;\n",
       "    var y = e.pageY - $(targ).offset().top;\n",
       "\n",
       "    return {\"x\": x, \"y\": y};\n",
       "};\n",
       "\n",
       "/*\n",
       " * return a copy of an object with only non-object keys\n",
       " * we need this to avoid circular references\n",
       " * http://stackoverflow.com/a/24161582/3208463\n",
       " */\n",
       "function simpleKeys (original) {\n",
       "  return Object.keys(original).reduce(function (obj, key) {\n",
       "    if (typeof original[key] !== 'object')\n",
       "        obj[key] = original[key]\n",
       "    return obj;\n",
       "  }, {});\n",
       "}\n",
       "\n",
       "mpl.figure.prototype.mouse_event = function(event, name) {\n",
       "    var canvas_pos = mpl.findpos(event)\n",
       "\n",
       "    if (name === 'button_press')\n",
       "    {\n",
       "        this.canvas.focus();\n",
       "        this.canvas_div.focus();\n",
       "    }\n",
       "\n",
       "    var x = canvas_pos.x * mpl.ratio;\n",
       "    var y = canvas_pos.y * mpl.ratio;\n",
       "\n",
       "    this.send_message(name, {x: x, y: y, button: event.button,\n",
       "                             step: event.step,\n",
       "                             guiEvent: simpleKeys(event)});\n",
       "\n",
       "    /* This prevents the web browser from automatically changing to\n",
       "     * the text insertion cursor when the button is pressed.  We want\n",
       "     * to control all of the cursor setting manually through the\n",
       "     * 'cursor' event from matplotlib */\n",
       "    event.preventDefault();\n",
       "    return false;\n",
       "}\n",
       "\n",
       "mpl.figure.prototype._key_event_extra = function(event, name) {\n",
       "    // Handle any extra behaviour associated with a key event\n",
       "}\n",
       "\n",
       "mpl.figure.prototype.key_event = function(event, name) {\n",
       "\n",
       "    // Prevent repeat events\n",
       "    if (name == 'key_press')\n",
       "    {\n",
       "        if (event.which === this._key)\n",
       "            return;\n",
       "        else\n",
       "            this._key = event.which;\n",
       "    }\n",
       "    if (name == 'key_release')\n",
       "        this._key = null;\n",
       "\n",
       "    var value = '';\n",
       "    if (event.ctrlKey && event.which != 17)\n",
       "        value += \"ctrl+\";\n",
       "    if (event.altKey && event.which != 18)\n",
       "        value += \"alt+\";\n",
       "    if (event.shiftKey && event.which != 16)\n",
       "        value += \"shift+\";\n",
       "\n",
       "    value += 'k';\n",
       "    value += event.which.toString();\n",
       "\n",
       "    this._key_event_extra(event, name);\n",
       "\n",
       "    this.send_message(name, {key: value,\n",
       "                             guiEvent: simpleKeys(event)});\n",
       "    return false;\n",
       "}\n",
       "\n",
       "mpl.figure.prototype.toolbar_button_onclick = function(name) {\n",
       "    if (name == 'download') {\n",
       "        this.handle_save(this, null);\n",
       "    } else {\n",
       "        this.send_message(\"toolbar_button\", {name: name});\n",
       "    }\n",
       "};\n",
       "\n",
       "mpl.figure.prototype.toolbar_button_onmouseover = function(tooltip) {\n",
       "    this.message.textContent = tooltip;\n",
       "};\n",
       "mpl.toolbar_items = [[\"Home\", \"Reset original view\", \"fa fa-home icon-home\", \"home\"], [\"Back\", \"Back to previous view\", \"fa fa-arrow-left icon-arrow-left\", \"back\"], [\"Forward\", \"Forward to next view\", \"fa fa-arrow-right icon-arrow-right\", \"forward\"], [\"\", \"\", \"\", \"\"], [\"Pan\", \"Pan axes with left mouse, zoom with right\", \"fa fa-arrows icon-move\", \"pan\"], [\"Zoom\", \"Zoom to rectangle\", \"fa fa-square-o icon-check-empty\", \"zoom\"], [\"\", \"\", \"\", \"\"], [\"Download\", \"Download plot\", \"fa fa-floppy-o icon-save\", \"download\"]];\n",
       "\n",
       "mpl.extensions = [\"eps\", \"jpeg\", \"pdf\", \"png\", \"ps\", \"raw\", \"svg\", \"tif\"];\n",
       "\n",
       "mpl.default_extension = \"png\";var comm_websocket_adapter = function(comm) {\n",
       "    // Create a \"websocket\"-like object which calls the given IPython comm\n",
       "    // object with the appropriate methods. Currently this is a non binary\n",
       "    // socket, so there is still some room for performance tuning.\n",
       "    var ws = {};\n",
       "\n",
       "    ws.close = function() {\n",
       "        comm.close()\n",
       "    };\n",
       "    ws.send = function(m) {\n",
       "        //console.log('sending', m);\n",
       "        comm.send(m);\n",
       "    };\n",
       "    // Register the callback with on_msg.\n",
       "    comm.on_msg(function(msg) {\n",
       "        //console.log('receiving', msg['content']['data'], msg);\n",
       "        // Pass the mpl event to the overridden (by mpl) onmessage function.\n",
       "        ws.onmessage(msg['content']['data'])\n",
       "    });\n",
       "    return ws;\n",
       "}\n",
       "\n",
       "mpl.mpl_figure_comm = function(comm, msg) {\n",
       "    // This is the function which gets called when the mpl process\n",
       "    // starts-up an IPython Comm through the \"matplotlib\" channel.\n",
       "\n",
       "    var id = msg.content.data.id;\n",
       "    // Get hold of the div created by the display call when the Comm\n",
       "    // socket was opened in Python.\n",
       "    var element = $(\"#\" + id);\n",
       "    var ws_proxy = comm_websocket_adapter(comm)\n",
       "\n",
       "    function ondownload(figure, format) {\n",
       "        window.open(figure.imageObj.src);\n",
       "    }\n",
       "\n",
       "    var fig = new mpl.figure(id, ws_proxy,\n",
       "                           ondownload,\n",
       "                           element.get(0));\n",
       "\n",
       "    // Call onopen now - mpl needs it, as it is assuming we've passed it a real\n",
       "    // web socket which is closed, not our websocket->open comm proxy.\n",
       "    ws_proxy.onopen();\n",
       "\n",
       "    fig.parent_element = element.get(0);\n",
       "    fig.cell_info = mpl.find_output_cell(\"<div id='\" + id + \"'></div>\");\n",
       "    if (!fig.cell_info) {\n",
       "        console.error(\"Failed to find cell for figure\", id, fig);\n",
       "        return;\n",
       "    }\n",
       "\n",
       "    var output_index = fig.cell_info[2]\n",
       "    var cell = fig.cell_info[0];\n",
       "\n",
       "};\n",
       "\n",
       "mpl.figure.prototype.handle_close = function(fig, msg) {\n",
       "    var width = fig.canvas.width/mpl.ratio\n",
       "    fig.root.unbind('remove')\n",
       "\n",
       "    // Update the output cell to use the data from the current canvas.\n",
       "    fig.push_to_output();\n",
       "    var dataURL = fig.canvas.toDataURL();\n",
       "    // Re-enable the keyboard manager in IPython - without this line, in FF,\n",
       "    // the notebook keyboard shortcuts fail.\n",
       "    IPython.keyboard_manager.enable()\n",
       "    $(fig.parent_element).html('<img src=\"' + dataURL + '\" width=\"' + width + '\">');\n",
       "    fig.close_ws(fig, msg);\n",
       "}\n",
       "\n",
       "mpl.figure.prototype.close_ws = function(fig, msg){\n",
       "    fig.send_message('closing', msg);\n",
       "    // fig.ws.close()\n",
       "}\n",
       "\n",
       "mpl.figure.prototype.push_to_output = function(remove_interactive) {\n",
       "    // Turn the data on the canvas into data in the output cell.\n",
       "    var width = this.canvas.width/mpl.ratio\n",
       "    var dataURL = this.canvas.toDataURL();\n",
       "    this.cell_info[1]['text/html'] = '<img src=\"' + dataURL + '\" width=\"' + width + '\">';\n",
       "}\n",
       "\n",
       "mpl.figure.prototype.updated_canvas_event = function() {\n",
       "    // Tell IPython that the notebook contents must change.\n",
       "    IPython.notebook.set_dirty(true);\n",
       "    this.send_message(\"ack\", {});\n",
       "    var fig = this;\n",
       "    // Wait a second, then push the new image to the DOM so\n",
       "    // that it is saved nicely (might be nice to debounce this).\n",
       "    setTimeout(function () { fig.push_to_output() }, 1000);\n",
       "}\n",
       "\n",
       "mpl.figure.prototype._init_toolbar = function() {\n",
       "    var fig = this;\n",
       "\n",
       "    var nav_element = $('<div/>');\n",
       "    nav_element.attr('style', 'width: 100%');\n",
       "    this.root.append(nav_element);\n",
       "\n",
       "    // Define a callback function for later on.\n",
       "    function toolbar_event(event) {\n",
       "        return fig.toolbar_button_onclick(event['data']);\n",
       "    }\n",
       "    function toolbar_mouse_event(event) {\n",
       "        return fig.toolbar_button_onmouseover(event['data']);\n",
       "    }\n",
       "\n",
       "    for(var toolbar_ind in mpl.toolbar_items){\n",
       "        var name = mpl.toolbar_items[toolbar_ind][0];\n",
       "        var tooltip = mpl.toolbar_items[toolbar_ind][1];\n",
       "        var image = mpl.toolbar_items[toolbar_ind][2];\n",
       "        var method_name = mpl.toolbar_items[toolbar_ind][3];\n",
       "\n",
       "        if (!name) { continue; };\n",
       "\n",
       "        var button = $('<button class=\"btn btn-default\" href=\"#\" title=\"' + name + '\"><i class=\"fa ' + image + ' fa-lg\"></i></button>');\n",
       "        button.click(method_name, toolbar_event);\n",
       "        button.mouseover(tooltip, toolbar_mouse_event);\n",
       "        nav_element.append(button);\n",
       "    }\n",
       "\n",
       "    // Add the status bar.\n",
       "    var status_bar = $('<span class=\"mpl-message\" style=\"text-align:right; float: right;\"/>');\n",
       "    nav_element.append(status_bar);\n",
       "    this.message = status_bar[0];\n",
       "\n",
       "    // Add the close button to the window.\n",
       "    var buttongrp = $('<div class=\"btn-group inline pull-right\"></div>');\n",
       "    var button = $('<button class=\"btn btn-mini btn-primary\" href=\"#\" title=\"Stop Interaction\"><i class=\"fa fa-power-off icon-remove icon-large\"></i></button>');\n",
       "    button.click(function (evt) { fig.handle_close(fig, {}); } );\n",
       "    button.mouseover('Stop Interaction', toolbar_mouse_event);\n",
       "    buttongrp.append(button);\n",
       "    var titlebar = this.root.find($('.ui-dialog-titlebar'));\n",
       "    titlebar.prepend(buttongrp);\n",
       "}\n",
       "\n",
       "mpl.figure.prototype._root_extra_style = function(el){\n",
       "    var fig = this\n",
       "    el.on(\"remove\", function(){\n",
       "\tfig.close_ws(fig, {});\n",
       "    });\n",
       "}\n",
       "\n",
       "mpl.figure.prototype._canvas_extra_style = function(el){\n",
       "    // this is important to make the div 'focusable\n",
       "    el.attr('tabindex', 0)\n",
       "    // reach out to IPython and tell the keyboard manager to turn it's self\n",
       "    // off when our div gets focus\n",
       "\n",
       "    // location in version 3\n",
       "    if (IPython.notebook.keyboard_manager) {\n",
       "        IPython.notebook.keyboard_manager.register_events(el);\n",
       "    }\n",
       "    else {\n",
       "        // location in version 2\n",
       "        IPython.keyboard_manager.register_events(el);\n",
       "    }\n",
       "\n",
       "}\n",
       "\n",
       "mpl.figure.prototype._key_event_extra = function(event, name) {\n",
       "    var manager = IPython.notebook.keyboard_manager;\n",
       "    if (!manager)\n",
       "        manager = IPython.keyboard_manager;\n",
       "\n",
       "    // Check for shift+enter\n",
       "    if (event.shiftKey && event.which == 13) {\n",
       "        this.canvas_div.blur();\n",
       "        // select the cell after this one\n",
       "        var index = IPython.notebook.find_cell_index(this.cell_info[0]);\n",
       "        IPython.notebook.select(index + 1);\n",
       "    }\n",
       "}\n",
       "\n",
       "mpl.figure.prototype.handle_save = function(fig, msg) {\n",
       "    fig.ondownload(fig, null);\n",
       "}\n",
       "\n",
       "\n",
       "mpl.find_output_cell = function(html_output) {\n",
       "    // Return the cell and output element which can be found *uniquely* in the notebook.\n",
       "    // Note - this is a bit hacky, but it is done because the \"notebook_saving.Notebook\"\n",
       "    // IPython event is triggered only after the cells have been serialised, which for\n",
       "    // our purposes (turning an active figure into a static one), is too late.\n",
       "    var cells = IPython.notebook.get_cells();\n",
       "    var ncells = cells.length;\n",
       "    for (var i=0; i<ncells; i++) {\n",
       "        var cell = cells[i];\n",
       "        if (cell.cell_type === 'code'){\n",
       "            for (var j=0; j<cell.output_area.outputs.length; j++) {\n",
       "                var data = cell.output_area.outputs[j];\n",
       "                if (data.data) {\n",
       "                    // IPython >= 3 moved mimebundle to data attribute of output\n",
       "                    data = data.data;\n",
       "                }\n",
       "                if (data['text/html'] == html_output) {\n",
       "                    return [cell, data, j];\n",
       "                }\n",
       "            }\n",
       "        }\n",
       "    }\n",
       "}\n",
       "\n",
       "// Register the function which deals with the matplotlib target/channel.\n",
       "// The kernel may be null if the page has been refreshed.\n",
       "if (IPython.notebook.kernel != null) {\n",
       "    IPython.notebook.kernel.comm_manager.register_target('matplotlib', mpl.mpl_figure_comm);\n",
       "}\n"
      ],
      "text/plain": [
       "<IPython.core.display.Javascript object>"
      ]
     },
     "metadata": {},
     "output_type": "display_data"
    },
    {
     "data": {
      "text/html": [
       "<img src=\"data:image/png;base64,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\" width=\"640\">"
      ],
      "text/plain": [
       "<IPython.core.display.HTML object>"
      ]
     },
     "metadata": {},
     "output_type": "display_data"
    },
    {
     "data": {
      "text/plain": [
       "Text(0, 0.5, 'Validation MSE loss')"
      ]
     },
     "execution_count": 13,
     "metadata": {},
     "output_type": "execute_result"
    }
   ],
   "source": [
    "# Training parameters\n",
    "num_epochs = 50\n",
    "learning_rate = 0.0001\n",
    "\n",
    "# Model, loss, and optimizer\n",
    "cnn = CNN()\n",
    "cnn = cnn.to(device)\n",
    "criterion = nn.MSELoss()\n",
    "optimizer = optim.Adam(cnn.parameters(), lr=learning_rate)\n",
    "\n",
    "# Train the model\n",
    "validation_losses = []\n",
    "for epoch in tqdm(range(num_epochs), desc='Epochs', leave=False):\n",
    "\n",
    "    # Training loss\n",
    "    cnn.train()\n",
    "    for i, (images, targets) in enumerate(tqdm(training, desc='Train batches', leave=False)):\n",
    "\n",
    "        images, targets = images.to(device, dtype=torch.float), targets.to(device, dtype=torch.float)\n",
    "        outputs = cnn(images)\n",
    "        loss = criterion(outputs, targets)\n",
    "        optimizer.zero_grad()\n",
    "        loss.backward()\n",
    "        optimizer.step()\n",
    "\n",
    "    # Validation loss\n",
    "    cnn.eval()\n",
    "    epoch_losses = []\n",
    "    for i, (images, targets) in enumerate(tqdm(validation, desc='Validation batches', leave=False)):\n",
    "\n",
    "        images, targets = images.to(device, dtype=torch.float), targets.to(device, dtype=torch.float)\n",
    "        outputs = cnn(images)\n",
    "        loss_val = criterion(outputs, targets).item()\n",
    "        epoch_losses.append(loss_val)\n",
    "\n",
    "    # Early stopping\n",
    "    patience = 7\n",
    "    validation_losses.append(np.mean(epoch_losses))\n",
    "    if len(validation_losses) >= patience and np.argmin(validation_losses[-patience:]) == 0:\n",
    "        print(f\"Early stopping at epoch {epoch} out of {num_epochs} total.\")\n",
    "        break\n",
    "\n",
    "else:\n",
    "    print(f\"No early stopping used. Completed {num_epochs} epochs.\")\n",
    "\n",
    "# Plot the training curve\n",
    "plt.plot(np.arange(len(validation_losses)) + 1, validation_losses)\n",
    "plt.xlabel('Epoch number')\n",
    "plt.ylabel('Validation MSE loss');"
   ]
  },
  {
   "cell_type": "markdown",
   "metadata": {},
   "source": [
    "## Animal images"
   ]
  },
  {
   "cell_type": "code",
   "execution_count": null,
   "metadata": {},
   "outputs": [],
   "source": [
    "from glob import glob\n",
    "\n",
    "from PIL import Image"
   ]
  },
  {
   "cell_type": "code",
   "execution_count": null,
   "metadata": {},
   "outputs": [],
   "source": [
    "# Standardize the image inputs\n",
    "def sanitize(img):\n",
    "    \"\"\"\n",
    "    Convert a jpeg into an 100x100, 2 component image.\n",
    "    \"\"\"\n",
    "    # Resize image\n",
    "    min_length = min(img.size)\n",
    "    img = img.crop((0, 0, min_length, min_length))\n",
    "    img = img.resize((100, 100))\n",
    "\n",
    "    # Convert to 2-channel pixel array\n",
    "    return np.asarray([[r, 255-g] for r, g, b in img.getdata()]).reshape(100, 100, 2)"
   ]
  },
  {
   "cell_type": "code",
   "execution_count": null,
   "metadata": {},
   "outputs": [],
   "source": [
    "# Assemble images\n",
    "labels = ['giraffe', 'leopard', 'zebra']\n",
    "images = {label: [sanitize(Image.open(image)) for image in glob(f\"patterns/{label}_*.jpg\")] for label in labels}"
   ]
  },
  {
   "cell_type": "code",
   "execution_count": null,
   "metadata": {},
   "outputs": [],
   "source": [
    "# Demonstrate 2-component image\n",
    "img = images['zebra'][0]\n",
    "plt.subplot(121)\n",
    "plt.imshow(img[:,:,0], cmap='gist_gray')\n",
    "plt.subplot(122)\n",
    "plt.imshow(img[:,:,1], cmap='gist_gray')"
   ]
  },
  {
   "cell_type": "code",
   "execution_count": null,
   "metadata": {},
   "outputs": [],
   "source": []
  }
 ],
 "metadata": {
  "kernelspec": {
   "display_name": "Python 3",
   "language": "python",
   "name": "python3"
  },
  "language_info": {
   "codemirror_mode": {
    "name": "ipython",
    "version": 3
   },
   "file_extension": ".py",
   "mimetype": "text/x-python",
   "name": "python",
   "nbconvert_exporter": "python",
   "pygments_lexer": "ipython3",
   "version": "3.7.7"
  }
 },
 "nbformat": 4,
 "nbformat_minor": 4
}
