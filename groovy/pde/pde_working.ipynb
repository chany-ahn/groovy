{
 "cells": [
  {
   "cell_type": "code",
   "execution_count": 1,
   "metadata": {},
   "outputs": [],
   "source": [
    "import numpy as np\n",
    "import matplotlib as plt"
   ]
  },
  {
   "cell_type": "markdown",
   "metadata": {},
   "source": [
    "# Square layout, 2-component R-D system with fixed stoich"
   ]
  },
  {
   "cell_type": "markdown",
   "metadata": {},
   "source": [
    "A reaction-diffusion model is a mathematical model which calculates the concentration of two substances at a given time based on the substances'\n",
    "\n",
    "- diffusion\n",
    "- feed rate (how fast the substances are being created by the reaction OR a source)\n",
    "- removal rate (how fast the substances are being used up by the reaction OR a sink)\n",
    "- type of reaction between the two\n",
    "\n",
    "For the reaction $u + 2v \\rightarrow 3v$ (i.e. two of species V come together to convert a single U into V) this is governed by the differential equations\n",
    "\n",
    "\\begin{equation}\n",
    "\\frac{\\partial u}{\\partial t} = r_u \\nabla^2 u - uv^2 + f(1-u)\n",
    "\\end{equation}\n",
    "\n",
    "\\begin{equation}\n",
    "\\frac{\\partial v}{\\partial t} = r_v \\nabla^2 v + uv^2 - (f+k)v\n",
    "\\end{equation}\n",
    "\n",
    "Where $u$ and $v$ are the concentrations of the two reactants, f is the rate at which reactant u is fed into the system (by an outside source), k is the rate at which reactant v is removed from the system (by an outside sink), and $r_u$ and $r_v$ are the diffusion rates of $u$ and $v$ respectively.\n",
    "\n",
    "The system after a finite time step $dt$ is therefore:\n",
    "\n",
    "\\begin{equation}\n",
    "u_2 = u_1 + [r_u \\nabla^2 u - uv^2 + f(1-u)]dt\n",
    "\\end{equation}\n",
    "\n",
    "\\begin{equation}\n",
    "v_2 = v_1 + [r_v \\nabla^2 v + uv^2 - (f+k)v]dt.\n",
    "\\end{equation}"
   ]
  },
  {
   "cell_type": "code",
   "execution_count": null,
   "metadata": {},
   "outputs": [],
   "source": [
    "# need an input grid of values (initial conditions)"
   ]
  },
  {
   "cell_type": "code",
   "execution_count": null,
   "metadata": {},
   "outputs": [],
   "source": []
  },
  {
   "cell_type": "code",
   "execution_count": null,
   "metadata": {},
   "outputs": [],
   "source": []
  },
  {
   "cell_type": "code",
   "execution_count": null,
   "metadata": {},
   "outputs": [],
   "source": []
  },
  {
   "cell_type": "code",
   "execution_count": null,
   "metadata": {},
   "outputs": [],
   "source": []
  },
  {
   "cell_type": "code",
   "execution_count": null,
   "metadata": {},
   "outputs": [],
   "source": []
  }
 ],
 "metadata": {
  "kernelspec": {
   "display_name": "Python 3",
   "language": "python",
   "name": "python3"
  },
  "language_info": {
   "codemirror_mode": {
    "name": "ipython",
    "version": 3
   },
   "file_extension": ".py",
   "mimetype": "text/x-python",
   "name": "python",
   "nbconvert_exporter": "python",
   "pygments_lexer": "ipython3",
   "version": "3.7.9"
  }
 },
 "nbformat": 4,
 "nbformat_minor": 4
}
